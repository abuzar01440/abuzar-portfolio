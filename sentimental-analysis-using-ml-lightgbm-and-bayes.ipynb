{
 "cells": [
  {
   "cell_type": "code",
   "execution_count": 1,
   "id": "d1c2e93c",
   "metadata": {
    "execution": {
     "iopub.execute_input": "2023-10-21T10:16:24.933284Z",
     "iopub.status.busy": "2023-10-21T10:16:24.932981Z",
     "iopub.status.idle": "2023-10-21T10:16:26.687978Z",
     "shell.execute_reply": "2023-10-21T10:16:26.687190Z"
    },
    "papermill": {
     "duration": 1.770351,
     "end_time": "2023-10-21T10:16:26.690336",
     "exception": false,
     "start_time": "2023-10-21T10:16:24.919985",
     "status": "completed"
    },
    "tags": []
   },
   "outputs": [
    {
     "name": "stderr",
     "output_type": "stream",
     "text": [
      "/opt/conda/lib/python3.10/site-packages/scipy/__init__.py:146: UserWarning: A NumPy version >=1.16.5 and <1.23.0 is required for this version of SciPy (detected version 1.23.5\n",
      "  warnings.warn(f\"A NumPy version >={np_minversion} and <{np_maxversion}\"\n"
     ]
    }
   ],
   "source": [
    "import pandas as pd\n",
    "import seaborn as sns\n",
    "import numpy as np\n",
    "import matplotlib.pyplot as plt\n",
    "import nltk"
   ]
  },
  {
   "cell_type": "code",
   "execution_count": 2,
   "id": "4e175b84",
   "metadata": {
    "execution": {
     "iopub.execute_input": "2023-10-21T10:16:26.715655Z",
     "iopub.status.busy": "2023-10-21T10:16:26.715083Z",
     "iopub.status.idle": "2023-10-21T10:16:26.861618Z",
     "shell.execute_reply": "2023-10-21T10:16:26.860684Z"
    },
    "papermill": {
     "duration": 0.161304,
     "end_time": "2023-10-21T10:16:26.863836",
     "exception": false,
     "start_time": "2023-10-21T10:16:26.702532",
     "status": "completed"
    },
    "tags": []
   },
   "outputs": [
    {
     "data": {
      "text/html": [
       "<div>\n",
       "<style scoped>\n",
       "    .dataframe tbody tr th:only-of-type {\n",
       "        vertical-align: middle;\n",
       "    }\n",
       "\n",
       "    .dataframe tbody tr th {\n",
       "        vertical-align: top;\n",
       "    }\n",
       "\n",
       "    .dataframe thead th {\n",
       "        text-align: right;\n",
       "    }\n",
       "</style>\n",
       "<table border=\"1\" class=\"dataframe\">\n",
       "  <thead>\n",
       "    <tr style=\"text-align: right;\">\n",
       "      <th></th>\n",
       "      <th>tweet_id</th>\n",
       "      <th>airline_sentiment</th>\n",
       "      <th>airline_sentiment_confidence</th>\n",
       "      <th>negativereason</th>\n",
       "      <th>negativereason_confidence</th>\n",
       "      <th>airline</th>\n",
       "      <th>airline_sentiment_gold</th>\n",
       "      <th>name</th>\n",
       "      <th>negativereason_gold</th>\n",
       "      <th>retweet_count</th>\n",
       "      <th>text</th>\n",
       "      <th>tweet_coord</th>\n",
       "      <th>tweet_created</th>\n",
       "      <th>tweet_location</th>\n",
       "      <th>user_timezone</th>\n",
       "    </tr>\n",
       "  </thead>\n",
       "  <tbody>\n",
       "    <tr>\n",
       "      <th>0</th>\n",
       "      <td>570306133677760513</td>\n",
       "      <td>neutral</td>\n",
       "      <td>1.0000</td>\n",
       "      <td>NaN</td>\n",
       "      <td>NaN</td>\n",
       "      <td>Virgin America</td>\n",
       "      <td>NaN</td>\n",
       "      <td>cairdin</td>\n",
       "      <td>NaN</td>\n",
       "      <td>0</td>\n",
       "      <td>@VirginAmerica What @dhepburn said.</td>\n",
       "      <td>NaN</td>\n",
       "      <td>2015-02-24 11:35:52 -0800</td>\n",
       "      <td>NaN</td>\n",
       "      <td>Eastern Time (US &amp; Canada)</td>\n",
       "    </tr>\n",
       "    <tr>\n",
       "      <th>1</th>\n",
       "      <td>570301130888122368</td>\n",
       "      <td>positive</td>\n",
       "      <td>0.3486</td>\n",
       "      <td>NaN</td>\n",
       "      <td>0.0000</td>\n",
       "      <td>Virgin America</td>\n",
       "      <td>NaN</td>\n",
       "      <td>jnardino</td>\n",
       "      <td>NaN</td>\n",
       "      <td>0</td>\n",
       "      <td>@VirginAmerica plus you've added commercials t...</td>\n",
       "      <td>NaN</td>\n",
       "      <td>2015-02-24 11:15:59 -0800</td>\n",
       "      <td>NaN</td>\n",
       "      <td>Pacific Time (US &amp; Canada)</td>\n",
       "    </tr>\n",
       "    <tr>\n",
       "      <th>2</th>\n",
       "      <td>570301083672813571</td>\n",
       "      <td>neutral</td>\n",
       "      <td>0.6837</td>\n",
       "      <td>NaN</td>\n",
       "      <td>NaN</td>\n",
       "      <td>Virgin America</td>\n",
       "      <td>NaN</td>\n",
       "      <td>yvonnalynn</td>\n",
       "      <td>NaN</td>\n",
       "      <td>0</td>\n",
       "      <td>@VirginAmerica I didn't today... Must mean I n...</td>\n",
       "      <td>NaN</td>\n",
       "      <td>2015-02-24 11:15:48 -0800</td>\n",
       "      <td>Lets Play</td>\n",
       "      <td>Central Time (US &amp; Canada)</td>\n",
       "    </tr>\n",
       "    <tr>\n",
       "      <th>3</th>\n",
       "      <td>570301031407624196</td>\n",
       "      <td>negative</td>\n",
       "      <td>1.0000</td>\n",
       "      <td>Bad Flight</td>\n",
       "      <td>0.7033</td>\n",
       "      <td>Virgin America</td>\n",
       "      <td>NaN</td>\n",
       "      <td>jnardino</td>\n",
       "      <td>NaN</td>\n",
       "      <td>0</td>\n",
       "      <td>@VirginAmerica it's really aggressive to blast...</td>\n",
       "      <td>NaN</td>\n",
       "      <td>2015-02-24 11:15:36 -0800</td>\n",
       "      <td>NaN</td>\n",
       "      <td>Pacific Time (US &amp; Canada)</td>\n",
       "    </tr>\n",
       "    <tr>\n",
       "      <th>4</th>\n",
       "      <td>570300817074462722</td>\n",
       "      <td>negative</td>\n",
       "      <td>1.0000</td>\n",
       "      <td>Can't Tell</td>\n",
       "      <td>1.0000</td>\n",
       "      <td>Virgin America</td>\n",
       "      <td>NaN</td>\n",
       "      <td>jnardino</td>\n",
       "      <td>NaN</td>\n",
       "      <td>0</td>\n",
       "      <td>@VirginAmerica and it's a really big bad thing...</td>\n",
       "      <td>NaN</td>\n",
       "      <td>2015-02-24 11:14:45 -0800</td>\n",
       "      <td>NaN</td>\n",
       "      <td>Pacific Time (US &amp; Canada)</td>\n",
       "    </tr>\n",
       "  </tbody>\n",
       "</table>\n",
       "</div>"
      ],
      "text/plain": [
       "             tweet_id airline_sentiment  airline_sentiment_confidence  \\\n",
       "0  570306133677760513           neutral                        1.0000   \n",
       "1  570301130888122368          positive                        0.3486   \n",
       "2  570301083672813571           neutral                        0.6837   \n",
       "3  570301031407624196          negative                        1.0000   \n",
       "4  570300817074462722          negative                        1.0000   \n",
       "\n",
       "  negativereason  negativereason_confidence         airline  \\\n",
       "0            NaN                        NaN  Virgin America   \n",
       "1            NaN                     0.0000  Virgin America   \n",
       "2            NaN                        NaN  Virgin America   \n",
       "3     Bad Flight                     0.7033  Virgin America   \n",
       "4     Can't Tell                     1.0000  Virgin America   \n",
       "\n",
       "  airline_sentiment_gold        name negativereason_gold  retweet_count  \\\n",
       "0                    NaN     cairdin                 NaN              0   \n",
       "1                    NaN    jnardino                 NaN              0   \n",
       "2                    NaN  yvonnalynn                 NaN              0   \n",
       "3                    NaN    jnardino                 NaN              0   \n",
       "4                    NaN    jnardino                 NaN              0   \n",
       "\n",
       "                                                text tweet_coord  \\\n",
       "0                @VirginAmerica What @dhepburn said.         NaN   \n",
       "1  @VirginAmerica plus you've added commercials t...         NaN   \n",
       "2  @VirginAmerica I didn't today... Must mean I n...         NaN   \n",
       "3  @VirginAmerica it's really aggressive to blast...         NaN   \n",
       "4  @VirginAmerica and it's a really big bad thing...         NaN   \n",
       "\n",
       "               tweet_created tweet_location               user_timezone  \n",
       "0  2015-02-24 11:35:52 -0800            NaN  Eastern Time (US & Canada)  \n",
       "1  2015-02-24 11:15:59 -0800            NaN  Pacific Time (US & Canada)  \n",
       "2  2015-02-24 11:15:48 -0800      Lets Play  Central Time (US & Canada)  \n",
       "3  2015-02-24 11:15:36 -0800            NaN  Pacific Time (US & Canada)  \n",
       "4  2015-02-24 11:14:45 -0800            NaN  Pacific Time (US & Canada)  "
      ]
     },
     "execution_count": 2,
     "metadata": {},
     "output_type": "execute_result"
    }
   ],
   "source": [
    "df = pd.read_csv(\"/kaggle/input/twitter-airline-sentiment/Tweets.csv\")\n",
    "df.head()"
   ]
  },
  {
   "cell_type": "code",
   "execution_count": 3,
   "id": "ca2fdc8f",
   "metadata": {
    "execution": {
     "iopub.execute_input": "2023-10-21T10:16:26.888973Z",
     "iopub.status.busy": "2023-10-21T10:16:26.888662Z",
     "iopub.status.idle": "2023-10-21T10:16:26.937510Z",
     "shell.execute_reply": "2023-10-21T10:16:26.936677Z"
    },
    "papermill": {
     "duration": 0.063579,
     "end_time": "2023-10-21T10:16:26.939379",
     "exception": false,
     "start_time": "2023-10-21T10:16:26.875800",
     "status": "completed"
    },
    "tags": []
   },
   "outputs": [
    {
     "data": {
      "text/plain": [
       "tweet_id                            0\n",
       "airline_sentiment                   0\n",
       "airline_sentiment_confidence        0\n",
       "negativereason                   5462\n",
       "negativereason_confidence        4118\n",
       "airline                             0\n",
       "airline_sentiment_gold          14600\n",
       "name                                0\n",
       "negativereason_gold             14608\n",
       "retweet_count                       0\n",
       "text                                0\n",
       "tweet_coord                     13621\n",
       "tweet_created                       0\n",
       "tweet_location                   4733\n",
       "user_timezone                    4820\n",
       "dtype: int64"
      ]
     },
     "execution_count": 3,
     "metadata": {},
     "output_type": "execute_result"
    }
   ],
   "source": [
    "df.isnull().sum()"
   ]
  },
  {
   "cell_type": "code",
   "execution_count": 4,
   "id": "3abc11d4",
   "metadata": {
    "execution": {
     "iopub.execute_input": "2023-10-21T10:16:26.964336Z",
     "iopub.status.busy": "2023-10-21T10:16:26.964038Z",
     "iopub.status.idle": "2023-10-21T10:16:26.969387Z",
     "shell.execute_reply": "2023-10-21T10:16:26.968548Z"
    },
    "papermill": {
     "duration": 0.019952,
     "end_time": "2023-10-21T10:16:26.971280",
     "exception": false,
     "start_time": "2023-10-21T10:16:26.951328",
     "status": "completed"
    },
    "tags": []
   },
   "outputs": [
    {
     "data": {
      "text/plain": [
       "(14640, 15)"
      ]
     },
     "execution_count": 4,
     "metadata": {},
     "output_type": "execute_result"
    }
   ],
   "source": [
    "df.shape"
   ]
  },
  {
   "cell_type": "code",
   "execution_count": 5,
   "id": "96dda582",
   "metadata": {
    "execution": {
     "iopub.execute_input": "2023-10-21T10:16:26.996060Z",
     "iopub.status.busy": "2023-10-21T10:16:26.995799Z",
     "iopub.status.idle": "2023-10-21T10:16:27.001229Z",
     "shell.execute_reply": "2023-10-21T10:16:27.000417Z"
    },
    "papermill": {
     "duration": 0.019995,
     "end_time": "2023-10-21T10:16:27.003122",
     "exception": false,
     "start_time": "2023-10-21T10:16:26.983127",
     "status": "completed"
    },
    "tags": []
   },
   "outputs": [
    {
     "data": {
      "text/plain": [
       "Index(['tweet_id', 'airline_sentiment', 'airline_sentiment_confidence',\n",
       "       'negativereason', 'negativereason_confidence', 'airline',\n",
       "       'airline_sentiment_gold', 'name', 'negativereason_gold',\n",
       "       'retweet_count', 'text', 'tweet_coord', 'tweet_created',\n",
       "       'tweet_location', 'user_timezone'],\n",
       "      dtype='object')"
      ]
     },
     "execution_count": 5,
     "metadata": {},
     "output_type": "execute_result"
    }
   ],
   "source": [
    "df.columns"
   ]
  },
  {
   "cell_type": "code",
   "execution_count": 6,
   "id": "120d519a",
   "metadata": {
    "execution": {
     "iopub.execute_input": "2023-10-21T10:16:27.028527Z",
     "iopub.status.busy": "2023-10-21T10:16:27.028273Z",
     "iopub.status.idle": "2023-10-21T10:16:27.296586Z",
     "shell.execute_reply": "2023-10-21T10:16:27.295890Z"
    },
    "papermill": {
     "duration": 0.283327,
     "end_time": "2023-10-21T10:16:27.298603",
     "exception": false,
     "start_time": "2023-10-21T10:16:27.015276",
     "status": "completed"
    },
    "tags": []
   },
   "outputs": [
    {
     "data": {
      "image/png": "[encoded data removed]",
      "text/plain": [
       "<Figure size 640x480 with 1 Axes>"
      ]
     },
     "metadata": {},
     "output_type": "display_data"
    }
   ],
   "source": [
    "sns.countplot(data=df,x=\"airline\")\n",
    "plt.show()"
   ]
  },
  {
   "cell_type": "code",
   "execution_count": 7,
   "id": "92b4ae27",
   "metadata": {
    "execution": {
     "iopub.execute_input": "2023-10-21T10:16:27.325364Z",
     "iopub.status.busy": "2023-10-21T10:16:27.325074Z",
     "iopub.status.idle": "2023-10-21T10:16:27.330765Z",
     "shell.execute_reply": "2023-10-21T10:16:27.330056Z"
    },
    "papermill": {
     "duration": 0.02107,
     "end_time": "2023-10-21T10:16:27.332765",
     "exception": false,
     "start_time": "2023-10-21T10:16:27.311695",
     "status": "completed"
    },
    "tags": []
   },
   "outputs": [],
   "source": [
    "df.drop(['tweet_id', 'airline_sentiment_confidence',\n",
    "       'negativereason', 'negativereason_confidence', 'airline',\n",
    "       'airline_sentiment_gold', 'name', 'negativereason_gold',\n",
    "       'retweet_count', 'tweet_coord', 'tweet_created',\n",
    "       'tweet_location', 'user_timezone'], axis=1,inplace=True)"
   ]
  },
  {
   "cell_type": "code",
   "execution_count": 8,
   "id": "e4c9bc2d",
   "metadata": {
    "execution": {
     "iopub.execute_input": "2023-10-21T10:16:27.358742Z",
     "iopub.status.busy": "2023-10-21T10:16:27.358498Z",
     "iopub.status.idle": "2023-10-21T10:16:27.373223Z",
     "shell.execute_reply": "2023-10-21T10:16:27.372407Z"
    },
    "papermill": {
     "duration": 0.029852,
     "end_time": "2023-10-21T10:16:27.375124",
     "exception": false,
     "start_time": "2023-10-21T10:16:27.345272",
     "status": "completed"
    },
    "tags": []
   },
   "outputs": [
    {
     "data": {
      "text/plain": [
       "airline_sentiment    0\n",
       "text                 0\n",
       "dtype: int64"
      ]
     },
     "execution_count": 8,
     "metadata": {},
     "output_type": "execute_result"
    }
   ],
   "source": [
    "df.isnull().sum()"
   ]
  },
  {
   "cell_type": "code",
   "execution_count": 9,
   "id": "2d5584ec",
   "metadata": {
    "execution": {
     "iopub.execute_input": "2023-10-21T10:16:27.401496Z",
     "iopub.status.busy": "2023-10-21T10:16:27.401154Z",
     "iopub.status.idle": "2023-10-21T10:16:27.414755Z",
     "shell.execute_reply": "2023-10-21T10:16:27.414025Z"
    },
    "papermill": {
     "duration": 0.029091,
     "end_time": "2023-10-21T10:16:27.416633",
     "exception": false,
     "start_time": "2023-10-21T10:16:27.387542",
     "status": "completed"
    },
    "tags": []
   },
   "outputs": [],
   "source": [
    "df.drop_duplicates(inplace=True)"
   ]
  },
  {
   "cell_type": "code",
   "execution_count": 10,
   "id": "b03aee75",
   "metadata": {
    "execution": {
     "iopub.execute_input": "2023-10-21T10:16:27.443784Z",
     "iopub.status.busy": "2023-10-21T10:16:27.443467Z",
     "iopub.status.idle": "2023-10-21T10:16:27.457675Z",
     "shell.execute_reply": "2023-10-21T10:16:27.456794Z"
    },
    "papermill": {
     "duration": 0.030017,
     "end_time": "2023-10-21T10:16:27.459581",
     "exception": false,
     "start_time": "2023-10-21T10:16:27.429564",
     "status": "completed"
    },
    "tags": []
   },
   "outputs": [],
   "source": [
    "df.dropna(inplace=True)"
   ]
  },
  {
   "cell_type": "code",
   "execution_count": 11,
   "id": "6ae94ecc",
   "metadata": {
    "execution": {
     "iopub.execute_input": "2023-10-21T10:16:27.487080Z",
     "iopub.status.busy": "2023-10-21T10:16:27.486304Z",
     "iopub.status.idle": "2023-10-21T10:16:27.491903Z",
     "shell.execute_reply": "2023-10-21T10:16:27.491098Z"
    },
    "papermill": {
     "duration": 0.021424,
     "end_time": "2023-10-21T10:16:27.493786",
     "exception": false,
     "start_time": "2023-10-21T10:16:27.472362",
     "status": "completed"
    },
    "tags": []
   },
   "outputs": [
    {
     "data": {
      "text/plain": [
       "(14452, 2)"
      ]
     },
     "execution_count": 11,
     "metadata": {},
     "output_type": "execute_result"
    }
   ],
   "source": [
    "df.shape"
   ]
  },
  {
   "cell_type": "markdown",
   "id": "caa79fb4",
   "metadata": {
    "papermill": {
     "duration": 0.012594,
     "end_time": "2023-10-21T10:16:27.518968",
     "exception": false,
     "start_time": "2023-10-21T10:16:27.506374",
     "status": "completed"
    },
    "tags": []
   },
   "source": [
    "### lets starts"
   ]
  },
  {
   "cell_type": "code",
   "execution_count": 12,
   "id": "88d2d1a7",
   "metadata": {
    "execution": {
     "iopub.execute_input": "2023-10-21T10:16:27.545126Z",
     "iopub.status.busy": "2023-10-21T10:16:27.544815Z",
     "iopub.status.idle": "2023-10-21T10:16:27.555105Z",
     "shell.execute_reply": "2023-10-21T10:16:27.554253Z"
    },
    "papermill": {
     "duration": 0.02538,
     "end_time": "2023-10-21T10:16:27.556850",
     "exception": false,
     "start_time": "2023-10-21T10:16:27.531470",
     "status": "completed"
    },
    "tags": []
   },
   "outputs": [
    {
     "data": {
      "text/html": [
       "<div>\n",
       "<style scoped>\n",
       "    .dataframe tbody tr th:only-of-type {\n",
       "        vertical-align: middle;\n",
       "    }\n",
       "\n",
       "    .dataframe tbody tr th {\n",
       "        vertical-align: top;\n",
       "    }\n",
       "\n",
       "    .dataframe thead th {\n",
       "        text-align: right;\n",
       "    }\n",
       "</style>\n",
       "<table border=\"1\" class=\"dataframe\">\n",
       "  <thead>\n",
       "    <tr style=\"text-align: right;\">\n",
       "      <th></th>\n",
       "      <th>airline_sentiment</th>\n",
       "      <th>text</th>\n",
       "    </tr>\n",
       "  </thead>\n",
       "  <tbody>\n",
       "    <tr>\n",
       "      <th>0</th>\n",
       "      <td>neutral</td>\n",
       "      <td>@VirginAmerica What @dhepburn said.</td>\n",
       "    </tr>\n",
       "    <tr>\n",
       "      <th>1</th>\n",
       "      <td>positive</td>\n",
       "      <td>@VirginAmerica plus you've added commercials t...</td>\n",
       "    </tr>\n",
       "    <tr>\n",
       "      <th>2</th>\n",
       "      <td>neutral</td>\n",
       "      <td>@VirginAmerica I didn't today... Must mean I n...</td>\n",
       "    </tr>\n",
       "    <tr>\n",
       "      <th>3</th>\n",
       "      <td>negative</td>\n",
       "      <td>@VirginAmerica it's really aggressive to blast...</td>\n",
       "    </tr>\n",
       "    <tr>\n",
       "      <th>4</th>\n",
       "      <td>negative</td>\n",
       "      <td>@VirginAmerica and it's a really big bad thing...</td>\n",
       "    </tr>\n",
       "    <tr>\n",
       "      <th>...</th>\n",
       "      <td>...</td>\n",
       "      <td>...</td>\n",
       "    </tr>\n",
       "    <tr>\n",
       "      <th>14635</th>\n",
       "      <td>positive</td>\n",
       "      <td>@AmericanAir thank you we got on a different f...</td>\n",
       "    </tr>\n",
       "    <tr>\n",
       "      <th>14636</th>\n",
       "      <td>negative</td>\n",
       "      <td>@AmericanAir leaving over 20 minutes Late Flig...</td>\n",
       "    </tr>\n",
       "    <tr>\n",
       "      <th>14637</th>\n",
       "      <td>neutral</td>\n",
       "      <td>@AmericanAir Please bring American Airlines to...</td>\n",
       "    </tr>\n",
       "    <tr>\n",
       "      <th>14638</th>\n",
       "      <td>negative</td>\n",
       "      <td>@AmericanAir you have my money, you change my ...</td>\n",
       "    </tr>\n",
       "    <tr>\n",
       "      <th>14639</th>\n",
       "      <td>neutral</td>\n",
       "      <td>@AmericanAir we have 8 ppl so we need 2 know h...</td>\n",
       "    </tr>\n",
       "  </tbody>\n",
       "</table>\n",
       "<p>14452 rows × 2 columns</p>\n",
       "</div>"
      ],
      "text/plain": [
       "      airline_sentiment                                               text\n",
       "0               neutral                @VirginAmerica What @dhepburn said.\n",
       "1              positive  @VirginAmerica plus you've added commercials t...\n",
       "2               neutral  @VirginAmerica I didn't today... Must mean I n...\n",
       "3              negative  @VirginAmerica it's really aggressive to blast...\n",
       "4              negative  @VirginAmerica and it's a really big bad thing...\n",
       "...                 ...                                                ...\n",
       "14635          positive  @AmericanAir thank you we got on a different f...\n",
       "14636          negative  @AmericanAir leaving over 20 minutes Late Flig...\n",
       "14637           neutral  @AmericanAir Please bring American Airlines to...\n",
       "14638          negative  @AmericanAir you have my money, you change my ...\n",
       "14639           neutral  @AmericanAir we have 8 ppl so we need 2 know h...\n",
       "\n",
       "[14452 rows x 2 columns]"
      ]
     },
     "execution_count": 12,
     "metadata": {},
     "output_type": "execute_result"
    }
   ],
   "source": [
    "df"
   ]
  },
  {
   "cell_type": "code",
   "execution_count": 13,
   "id": "367004f0",
   "metadata": {
    "execution": {
     "iopub.execute_input": "2023-10-21T10:16:27.585397Z",
     "iopub.status.busy": "2023-10-21T10:16:27.584437Z",
     "iopub.status.idle": "2023-10-21T10:16:27.594619Z",
     "shell.execute_reply": "2023-10-21T10:16:27.593804Z"
    },
    "papermill": {
     "duration": 0.026823,
     "end_time": "2023-10-21T10:16:27.596441",
     "exception": false,
     "start_time": "2023-10-21T10:16:27.569618",
     "status": "completed"
    },
    "tags": []
   },
   "outputs": [
    {
     "data": {
      "text/plain": [
       "negative    0.628771\n",
       "neutral     0.212220\n",
       "positive    0.159009\n",
       "Name: airline_sentiment, dtype: float64"
      ]
     },
     "execution_count": 13,
     "metadata": {},
     "output_type": "execute_result"
    }
   ],
   "source": [
    "#percentage\n",
    "df[\"airline_sentiment\"].value_counts()/len(df[\"airline_sentiment\"])"
   ]
  },
  {
   "cell_type": "code",
   "execution_count": 14,
   "id": "36d42038",
   "metadata": {
    "execution": {
     "iopub.execute_input": "2023-10-21T10:16:27.623828Z",
     "iopub.status.busy": "2023-10-21T10:16:27.623590Z",
     "iopub.status.idle": "2023-10-21T10:16:27.822640Z",
     "shell.execute_reply": "2023-10-21T10:16:27.821809Z"
    },
    "papermill": {
     "duration": 0.214713,
     "end_time": "2023-10-21T10:16:27.824537",
     "exception": false,
     "start_time": "2023-10-21T10:16:27.609824",
     "status": "completed"
    },
    "tags": []
   },
   "outputs": [
    {
     "data": {
      "image/png": "[encoded data removed]",
      "text/plain": [
       "<Figure size 640x480 with 1 Axes>"
      ]
     },
     "metadata": {},
     "output_type": "display_data"
    }
   ],
   "source": [
    "sns.countplot(data=df, x=\"airline_sentiment\")\n",
    "plt.show()"
   ]
  },
  {
   "cell_type": "code",
   "execution_count": 15,
   "id": "c3e35c68",
   "metadata": {
    "execution": {
     "iopub.execute_input": "2023-10-21T10:16:27.853016Z",
     "iopub.status.busy": "2023-10-21T10:16:27.852747Z",
     "iopub.status.idle": "2023-10-21T10:16:27.865844Z",
     "shell.execute_reply": "2023-10-21T10:16:27.865067Z"
    },
    "papermill": {
     "duration": 0.029671,
     "end_time": "2023-10-21T10:16:27.867713",
     "exception": false,
     "start_time": "2023-10-21T10:16:27.838042",
     "status": "completed"
    },
    "tags": []
   },
   "outputs": [
    {
     "data": {
      "text/plain": [
       "186"
      ]
     },
     "execution_count": 15,
     "metadata": {},
     "output_type": "execute_result"
    }
   ],
   "source": [
    "#maxi length of a tweet in a text\n",
    "maxi_length=df.text.apply(len)\n",
    "maxi_length.max()"
   ]
  },
  {
   "cell_type": "code",
   "execution_count": 16,
   "id": "563fc9bd",
   "metadata": {
    "execution": {
     "iopub.execute_input": "2023-10-21T10:16:27.897410Z",
     "iopub.status.busy": "2023-10-21T10:16:27.897131Z",
     "iopub.status.idle": "2023-10-21T10:16:27.912377Z",
     "shell.execute_reply": "2023-10-21T10:16:27.911567Z"
    },
    "papermill": {
     "duration": 0.032227,
     "end_time": "2023-10-21T10:16:27.914321",
     "exception": false,
     "start_time": "2023-10-21T10:16:27.882094",
     "status": "completed"
    },
    "tags": []
   },
   "outputs": [
    {
     "data": {
      "text/plain": [
       "12"
      ]
     },
     "execution_count": 16,
     "metadata": {},
     "output_type": "execute_result"
    }
   ],
   "source": [
    "mini_length=df.text.str.len()\n",
    "mini_length.min()"
   ]
  },
  {
   "cell_type": "code",
   "execution_count": 17,
   "id": "a72629c8",
   "metadata": {
    "execution": {
     "iopub.execute_input": "2023-10-21T10:16:27.945175Z",
     "iopub.status.busy": "2023-10-21T10:16:27.944918Z",
     "iopub.status.idle": "2023-10-21T10:16:27.964448Z",
     "shell.execute_reply": "2023-10-21T10:16:27.963622Z"
    },
    "papermill": {
     "duration": 0.03604,
     "end_time": "2023-10-21T10:16:27.966422",
     "exception": false,
     "start_time": "2023-10-21T10:16:27.930382",
     "status": "completed"
    },
    "tags": []
   },
   "outputs": [
    {
     "data": {
      "text/html": [
       "<div>\n",
       "<style scoped>\n",
       "    .dataframe tbody tr th:only-of-type {\n",
       "        vertical-align: middle;\n",
       "    }\n",
       "\n",
       "    .dataframe tbody tr th {\n",
       "        vertical-align: top;\n",
       "    }\n",
       "\n",
       "    .dataframe thead th {\n",
       "        text-align: right;\n",
       "    }\n",
       "</style>\n",
       "<table border=\"1\" class=\"dataframe\">\n",
       "  <thead>\n",
       "    <tr style=\"text-align: right;\">\n",
       "      <th></th>\n",
       "      <th>text</th>\n",
       "    </tr>\n",
       "  </thead>\n",
       "  <tbody>\n",
       "    <tr>\n",
       "      <th>count</th>\n",
       "      <td>14452.000000</td>\n",
       "    </tr>\n",
       "    <tr>\n",
       "      <th>mean</th>\n",
       "      <td>104.118738</td>\n",
       "    </tr>\n",
       "    <tr>\n",
       "      <th>std</th>\n",
       "      <td>35.991567</td>\n",
       "    </tr>\n",
       "    <tr>\n",
       "      <th>min</th>\n",
       "      <td>12.000000</td>\n",
       "    </tr>\n",
       "    <tr>\n",
       "      <th>25%</th>\n",
       "      <td>77.000000</td>\n",
       "    </tr>\n",
       "    <tr>\n",
       "      <th>50%</th>\n",
       "      <td>115.000000</td>\n",
       "    </tr>\n",
       "    <tr>\n",
       "      <th>75%</th>\n",
       "      <td>136.000000</td>\n",
       "    </tr>\n",
       "    <tr>\n",
       "      <th>max</th>\n",
       "      <td>186.000000</td>\n",
       "    </tr>\n",
       "  </tbody>\n",
       "</table>\n",
       "</div>"
      ],
      "text/plain": [
       "               text\n",
       "count  14452.000000\n",
       "mean     104.118738\n",
       "std       35.991567\n",
       "min       12.000000\n",
       "25%       77.000000\n",
       "50%      115.000000\n",
       "75%      136.000000\n",
       "max      186.000000"
      ]
     },
     "execution_count": 17,
     "metadata": {},
     "output_type": "execute_result"
    }
   ],
   "source": [
    "pd.DataFrame(df.text.apply(len).describe())"
   ]
  },
  {
   "cell_type": "markdown",
   "id": "5ff2597e",
   "metadata": {
    "papermill": {
     "duration": 0.013667,
     "end_time": "2023-10-21T10:16:27.993937",
     "exception": false,
     "start_time": "2023-10-21T10:16:27.980270",
     "status": "completed"
    },
    "tags": []
   },
   "source": [
    "### Preprocessing"
   ]
  },
  {
   "cell_type": "code",
   "execution_count": 18,
   "id": "6ed8cad3",
   "metadata": {
    "execution": {
     "iopub.execute_input": "2023-10-21T10:16:28.022572Z",
     "iopub.status.busy": "2023-10-21T10:16:28.022294Z",
     "iopub.status.idle": "2023-10-21T10:16:46.027561Z",
     "shell.execute_reply": "2023-10-21T10:16:46.026653Z"
    },
    "papermill": {
     "duration": 18.022226,
     "end_time": "2023-10-21T10:16:46.029897",
     "exception": false,
     "start_time": "2023-10-21T10:16:28.007671",
     "status": "completed"
    },
    "tags": []
   },
   "outputs": [],
   "source": [
    "from nltk.tokenize import word_tokenize\n",
    "from nltk.corpus import stopwords\n",
    "from nltk.stem import PorterStemmer\n",
    "import pandas as pd\n",
    "\n",
    "# Create a stemmer instance\n",
    "stemmer = PorterStemmer()\n",
    "\n",
    "# Modify the preprocess_text function to include stemming\n",
    "def preprocess_text(text):\n",
    "    # Remove special characters, URLs, and user mentions\n",
    "    text = ' '.join(word for word in word_tokenize(text) if not word.startswith('@') and word.isalnum())\n",
    "    # Convert to lowercase\n",
    "    text = text.lower()\n",
    "    # Remove stopwords\n",
    "    stop_words = set(stopwords.words('english'))\n",
    "    words = word_tokenize(text)\n",
    "    text = ' '.join(word for word in words if word not in stop_words)\n",
    "    # Apply stemming to each word\n",
    "    words = word_tokenize(text)\n",
    "    text = ' '.join(stemmer.stem(word) for word in words)\n",
    "    return text\n",
    "\n",
    "# Assuming 'df' is your DataFrame with a 'text' column\n",
    "df['text'] = df['text'].apply(preprocess_text)\n"
   ]
  },
  {
   "cell_type": "code",
   "execution_count": 19,
   "id": "899913dd",
   "metadata": {
    "execution": {
     "iopub.execute_input": "2023-10-21T10:16:46.059883Z",
     "iopub.status.busy": "2023-10-21T10:16:46.059585Z",
     "iopub.status.idle": "2023-10-21T10:16:46.070755Z",
     "shell.execute_reply": "2023-10-21T10:16:46.069870Z"
    },
    "papermill": {
     "duration": 0.028581,
     "end_time": "2023-10-21T10:16:46.073034",
     "exception": false,
     "start_time": "2023-10-21T10:16:46.044453",
     "status": "completed"
    },
    "tags": []
   },
   "outputs": [
    {
     "data": {
      "text/html": [
       "<div>\n",
       "<style scoped>\n",
       "    .dataframe tbody tr th:only-of-type {\n",
       "        vertical-align: middle;\n",
       "    }\n",
       "\n",
       "    .dataframe tbody tr th {\n",
       "        vertical-align: top;\n",
       "    }\n",
       "\n",
       "    .dataframe thead th {\n",
       "        text-align: right;\n",
       "    }\n",
       "</style>\n",
       "<table border=\"1\" class=\"dataframe\">\n",
       "  <thead>\n",
       "    <tr style=\"text-align: right;\">\n",
       "      <th></th>\n",
       "      <th>airline_sentiment</th>\n",
       "      <th>text</th>\n",
       "    </tr>\n",
       "  </thead>\n",
       "  <tbody>\n",
       "    <tr>\n",
       "      <th>0</th>\n",
       "      <td>neutral</td>\n",
       "      <td>virginamerica dhepburn said</td>\n",
       "    </tr>\n",
       "    <tr>\n",
       "      <th>1</th>\n",
       "      <td>positive</td>\n",
       "      <td>virginamerica plu ad commerci experi tacki</td>\n",
       "    </tr>\n",
       "    <tr>\n",
       "      <th>2</th>\n",
       "      <td>neutral</td>\n",
       "      <td>virginamerica today must mean need take anoth ...</td>\n",
       "    </tr>\n",
       "    <tr>\n",
       "      <th>3</th>\n",
       "      <td>negative</td>\n",
       "      <td>virginamerica realli aggress blast obnoxi ente...</td>\n",
       "    </tr>\n",
       "    <tr>\n",
       "      <th>4</th>\n",
       "      <td>negative</td>\n",
       "      <td>virginamerica realli big bad thing</td>\n",
       "    </tr>\n",
       "    <tr>\n",
       "      <th>...</th>\n",
       "      <td>...</td>\n",
       "      <td>...</td>\n",
       "    </tr>\n",
       "    <tr>\n",
       "      <th>14635</th>\n",
       "      <td>positive</td>\n",
       "      <td>americanair thank got differ flight chicago</td>\n",
       "    </tr>\n",
       "    <tr>\n",
       "      <th>14636</th>\n",
       "      <td>negative</td>\n",
       "      <td>americanair leav 20 minut late flight warn com...</td>\n",
       "    </tr>\n",
       "    <tr>\n",
       "      <th>14637</th>\n",
       "      <td>neutral</td>\n",
       "      <td>americanair pleas bring american airlin blackb...</td>\n",
       "    </tr>\n",
       "    <tr>\n",
       "      <th>14638</th>\n",
       "      <td>negative</td>\n",
       "      <td>americanair money chang flight answer phone su...</td>\n",
       "    </tr>\n",
       "    <tr>\n",
       "      <th>14639</th>\n",
       "      <td>neutral</td>\n",
       "      <td>americanair 8 ppl need 2 know mani seat next f...</td>\n",
       "    </tr>\n",
       "  </tbody>\n",
       "</table>\n",
       "<p>14452 rows × 2 columns</p>\n",
       "</div>"
      ],
      "text/plain": [
       "      airline_sentiment                                               text\n",
       "0               neutral                        virginamerica dhepburn said\n",
       "1              positive         virginamerica plu ad commerci experi tacki\n",
       "2               neutral  virginamerica today must mean need take anoth ...\n",
       "3              negative  virginamerica realli aggress blast obnoxi ente...\n",
       "4              negative                 virginamerica realli big bad thing\n",
       "...                 ...                                                ...\n",
       "14635          positive        americanair thank got differ flight chicago\n",
       "14636          negative  americanair leav 20 minut late flight warn com...\n",
       "14637           neutral  americanair pleas bring american airlin blackb...\n",
       "14638          negative  americanair money chang flight answer phone su...\n",
       "14639           neutral  americanair 8 ppl need 2 know mani seat next f...\n",
       "\n",
       "[14452 rows x 2 columns]"
      ]
     },
     "execution_count": 19,
     "metadata": {},
     "output_type": "execute_result"
    }
   ],
   "source": [
    "df"
   ]
  },
  {
   "cell_type": "code",
   "execution_count": 20,
   "id": "2d24cd2b",
   "metadata": {
    "execution": {
     "iopub.execute_input": "2023-10-21T10:16:46.103838Z",
     "iopub.status.busy": "2023-10-21T10:16:46.103531Z",
     "iopub.status.idle": "2023-10-21T10:16:46.110653Z",
     "shell.execute_reply": "2023-10-21T10:16:46.109790Z"
    },
    "papermill": {
     "duration": 0.024375,
     "end_time": "2023-10-21T10:16:46.112463",
     "exception": false,
     "start_time": "2023-10-21T10:16:46.088088",
     "status": "completed"
    },
    "tags": []
   },
   "outputs": [
    {
     "data": {
      "text/plain": [
       "array(['neutral', 'positive', 'negative'], dtype=object)"
      ]
     },
     "execution_count": 20,
     "metadata": {},
     "output_type": "execute_result"
    }
   ],
   "source": [
    "df[\"airline_sentiment\"].unique()"
   ]
  },
  {
   "cell_type": "markdown",
   "id": "3e21b974",
   "metadata": {
    "papermill": {
     "duration": 0.014283,
     "end_time": "2023-10-21T10:16:46.140893",
     "exception": false,
     "start_time": "2023-10-21T10:16:46.126610",
     "status": "completed"
    },
    "tags": []
   },
   "source": [
    "| Sentiment  | Numerical Value |\n",
    "|------------|-----------------|\n",
    "| negative   | 0               |\n",
    "| neutral    | 1               |\n",
    "| positive   | 2               |\n"
   ]
  },
  {
   "cell_type": "code",
   "execution_count": 21,
   "id": "493c73c1",
   "metadata": {
    "execution": {
     "iopub.execute_input": "2023-10-21T10:16:46.171241Z",
     "iopub.status.busy": "2023-10-21T10:16:46.170884Z",
     "iopub.status.idle": "2023-10-21T10:16:46.178254Z",
     "shell.execute_reply": "2023-10-21T10:16:46.177383Z"
    },
    "papermill": {
     "duration": 0.025199,
     "end_time": "2023-10-21T10:16:46.180167",
     "exception": false,
     "start_time": "2023-10-21T10:16:46.154968",
     "status": "completed"
    },
    "tags": []
   },
   "outputs": [],
   "source": [
    "mapping = {\"negative\": 0, 'neutral': 1, \"positive\": 2}\n",
    "df[\"airline_sentiment\"] = df[\"airline_sentiment\"].map(mapping)"
   ]
  },
  {
   "cell_type": "code",
   "execution_count": 22,
   "id": "5d8e1029",
   "metadata": {
    "execution": {
     "iopub.execute_input": "2023-10-21T10:16:46.209837Z",
     "iopub.status.busy": "2023-10-21T10:16:46.209515Z",
     "iopub.status.idle": "2023-10-21T10:16:46.218003Z",
     "shell.execute_reply": "2023-10-21T10:16:46.217187Z"
    },
    "papermill": {
     "duration": 0.025648,
     "end_time": "2023-10-21T10:16:46.220019",
     "exception": false,
     "start_time": "2023-10-21T10:16:46.194371",
     "status": "completed"
    },
    "tags": []
   },
   "outputs": [
    {
     "data": {
      "text/html": [
       "<div>\n",
       "<style scoped>\n",
       "    .dataframe tbody tr th:only-of-type {\n",
       "        vertical-align: middle;\n",
       "    }\n",
       "\n",
       "    .dataframe tbody tr th {\n",
       "        vertical-align: top;\n",
       "    }\n",
       "\n",
       "    .dataframe thead th {\n",
       "        text-align: right;\n",
       "    }\n",
       "</style>\n",
       "<table border=\"1\" class=\"dataframe\">\n",
       "  <thead>\n",
       "    <tr style=\"text-align: right;\">\n",
       "      <th></th>\n",
       "      <th>airline_sentiment</th>\n",
       "      <th>text</th>\n",
       "    </tr>\n",
       "  </thead>\n",
       "  <tbody>\n",
       "    <tr>\n",
       "      <th>0</th>\n",
       "      <td>1</td>\n",
       "      <td>virginamerica dhepburn said</td>\n",
       "    </tr>\n",
       "    <tr>\n",
       "      <th>1</th>\n",
       "      <td>2</td>\n",
       "      <td>virginamerica plu ad commerci experi tacki</td>\n",
       "    </tr>\n",
       "    <tr>\n",
       "      <th>2</th>\n",
       "      <td>1</td>\n",
       "      <td>virginamerica today must mean need take anoth ...</td>\n",
       "    </tr>\n",
       "  </tbody>\n",
       "</table>\n",
       "</div>"
      ],
      "text/plain": [
       "   airline_sentiment                                               text\n",
       "0                  1                        virginamerica dhepburn said\n",
       "1                  2         virginamerica plu ad commerci experi tacki\n",
       "2                  1  virginamerica today must mean need take anoth ..."
      ]
     },
     "execution_count": 22,
     "metadata": {},
     "output_type": "execute_result"
    }
   ],
   "source": [
    "df.head(3)"
   ]
  },
  {
   "cell_type": "code",
   "execution_count": 23,
   "id": "763dafec",
   "metadata": {
    "execution": {
     "iopub.execute_input": "2023-10-21T10:16:46.249909Z",
     "iopub.status.busy": "2023-10-21T10:16:46.249619Z",
     "iopub.status.idle": "2023-10-21T10:16:46.253890Z",
     "shell.execute_reply": "2023-10-21T10:16:46.253033Z"
    },
    "papermill": {
     "duration": 0.021524,
     "end_time": "2023-10-21T10:16:46.255855",
     "exception": false,
     "start_time": "2023-10-21T10:16:46.234331",
     "status": "completed"
    },
    "tags": []
   },
   "outputs": [],
   "source": [
    "X=df[\"text\"]\n",
    "y=df[\"airline_sentiment\"]"
   ]
  },
  {
   "cell_type": "code",
   "execution_count": 24,
   "id": "18a71e1a",
   "metadata": {
    "execution": {
     "iopub.execute_input": "2023-10-21T10:16:46.285834Z",
     "iopub.status.busy": "2023-10-21T10:16:46.285539Z",
     "iopub.status.idle": "2023-10-21T10:16:46.297689Z",
     "shell.execute_reply": "2023-10-21T10:16:46.296986Z"
    },
    "papermill": {
     "duration": 0.029367,
     "end_time": "2023-10-21T10:16:46.299625",
     "exception": false,
     "start_time": "2023-10-21T10:16:46.270258",
     "status": "completed"
    },
    "tags": []
   },
   "outputs": [],
   "source": [
    "from sklearn.feature_extraction.text import CountVectorizer\n",
    "from sklearn.model_selection import train_test_split\n",
    "from sklearn.naive_bayes import MultinomialNB"
   ]
  },
  {
   "cell_type": "code",
   "execution_count": 25,
   "id": "21bd7ad2",
   "metadata": {
    "execution": {
     "iopub.execute_input": "2023-10-21T10:16:46.329978Z",
     "iopub.status.busy": "2023-10-21T10:16:46.329640Z",
     "iopub.status.idle": "2023-10-21T10:16:46.574109Z",
     "shell.execute_reply": "2023-10-21T10:16:46.573130Z"
    },
    "papermill": {
     "duration": 0.262409,
     "end_time": "2023-10-21T10:16:46.576547",
     "exception": false,
     "start_time": "2023-10-21T10:16:46.314138",
     "status": "completed"
    },
    "tags": []
   },
   "outputs": [],
   "source": [
    "count_vectorizer = CountVectorizer()\n",
    "X_counts = count_vectorizer.fit_transform(X)\n",
    "feature_names = count_vectorizer.get_feature_names_out()\n"
   ]
  },
  {
   "cell_type": "code",
   "execution_count": 26,
   "id": "7cceddf0",
   "metadata": {
    "execution": {
     "iopub.execute_input": "2023-10-21T10:16:46.607552Z",
     "iopub.status.busy": "2023-10-21T10:16:46.607207Z",
     "iopub.status.idle": "2023-10-21T10:16:46.860002Z",
     "shell.execute_reply": "2023-10-21T10:16:46.858942Z"
    },
    "papermill": {
     "duration": 0.270794,
     "end_time": "2023-10-21T10:16:46.862459",
     "exception": false,
     "start_time": "2023-10-21T10:16:46.591665",
     "status": "completed"
    },
    "tags": []
   },
   "outputs": [],
   "source": [
    "X=pd.DataFrame(X_counts.toarray())"
   ]
  },
  {
   "cell_type": "code",
   "execution_count": 27,
   "id": "baa205f2",
   "metadata": {
    "execution": {
     "iopub.execute_input": "2023-10-21T10:16:46.893730Z",
     "iopub.status.busy": "2023-10-21T10:16:46.892953Z",
     "iopub.status.idle": "2023-10-21T10:16:47.485932Z",
     "shell.execute_reply": "2023-10-21T10:16:47.485129Z"
    },
    "papermill": {
     "duration": 0.611254,
     "end_time": "2023-10-21T10:16:47.488409",
     "exception": false,
     "start_time": "2023-10-21T10:16:46.877155",
     "status": "completed"
    },
    "tags": []
   },
   "outputs": [],
   "source": [
    "X_train, X_test, y_train, y_test = train_test_split(X, y, test_size=0.30, random_state=50)"
   ]
  },
  {
   "cell_type": "code",
   "execution_count": 28,
   "id": "b98f7795",
   "metadata": {
    "execution": {
     "iopub.execute_input": "2023-10-21T10:16:47.519809Z",
     "iopub.status.busy": "2023-10-21T10:16:47.519177Z",
     "iopub.status.idle": "2023-10-21T10:16:47.524193Z",
     "shell.execute_reply": "2023-10-21T10:16:47.523413Z"
    },
    "papermill": {
     "duration": 0.022857,
     "end_time": "2023-10-21T10:16:47.526455",
     "exception": false,
     "start_time": "2023-10-21T10:16:47.503598",
     "status": "completed"
    },
    "tags": []
   },
   "outputs": [
    {
     "name": "stdout",
     "output_type": "stream",
     "text": [
      "shape of X_train (10116, 10627) & shape of y_train (10116,)\n",
      "shape of X_test (4336, 10627) & shape of y_test (4336,)\n"
     ]
    }
   ],
   "source": [
    "print(f'shape of X_train {X_train.shape} & shape of y_train {y_train.shape}')\n",
    "print(f'shape of X_test {X_test.shape} & shape of y_test {y_test.shape}')"
   ]
  },
  {
   "cell_type": "code",
   "execution_count": 29,
   "id": "814936ad",
   "metadata": {
    "execution": {
     "iopub.execute_input": "2023-10-21T10:16:47.556613Z",
     "iopub.status.busy": "2023-10-21T10:16:47.556342Z",
     "iopub.status.idle": "2023-10-21T10:16:49.378443Z",
     "shell.execute_reply": "2023-10-21T10:16:49.377407Z"
    },
    "papermill": {
     "duration": 1.840261,
     "end_time": "2023-10-21T10:16:49.381313",
     "exception": false,
     "start_time": "2023-10-21T10:16:47.541052",
     "status": "completed"
    },
    "tags": []
   },
   "outputs": [],
   "source": [
    "bayes = MultinomialNB(alpha=0.45833).fit(X_train, y_train)"
   ]
  },
  {
   "cell_type": "code",
   "execution_count": 30,
   "id": "bc5947d5",
   "metadata": {
    "execution": {
     "iopub.execute_input": "2023-10-21T10:16:49.417867Z",
     "iopub.status.busy": "2023-10-21T10:16:49.416984Z",
     "iopub.status.idle": "2023-10-21T10:16:49.677770Z",
     "shell.execute_reply": "2023-10-21T10:16:49.675880Z"
    },
    "papermill": {
     "duration": 0.280731,
     "end_time": "2023-10-21T10:16:49.681786",
     "exception": false,
     "start_time": "2023-10-21T10:16:49.401055",
     "status": "completed"
    },
    "tags": []
   },
   "outputs": [],
   "source": [
    "bayes_pred=bayes.predict(X_test)"
   ]
  },
  {
   "cell_type": "code",
   "execution_count": 31,
   "id": "3e18be15",
   "metadata": {
    "execution": {
     "iopub.execute_input": "2023-10-21T10:16:49.747610Z",
     "iopub.status.busy": "2023-10-21T10:16:49.747011Z",
     "iopub.status.idle": "2023-10-21T10:16:49.753174Z",
     "shell.execute_reply": "2023-10-21T10:16:49.752036Z"
    },
    "papermill": {
     "duration": 0.042765,
     "end_time": "2023-10-21T10:16:49.756253",
     "exception": false,
     "start_time": "2023-10-21T10:16:49.713488",
     "status": "completed"
    },
    "tags": []
   },
   "outputs": [],
   "source": [
    "from sklearn.metrics import accuracy_score, classification_report, confusion_matrix"
   ]
  },
  {
   "cell_type": "code",
   "execution_count": 32,
   "id": "1dfaec10",
   "metadata": {
    "execution": {
     "iopub.execute_input": "2023-10-21T10:16:49.812457Z",
     "iopub.status.busy": "2023-10-21T10:16:49.812182Z",
     "iopub.status.idle": "2023-10-21T10:16:49.818995Z",
     "shell.execute_reply": "2023-10-21T10:16:49.818160Z"
    },
    "papermill": {
     "duration": 0.03374,
     "end_time": "2023-10-21T10:16:49.820869",
     "exception": false,
     "start_time": "2023-10-21T10:16:49.787129",
     "status": "completed"
    },
    "tags": []
   },
   "outputs": [
    {
     "data": {
      "text/plain": [
       "0.761070110701107"
      ]
     },
     "execution_count": 32,
     "metadata": {},
     "output_type": "execute_result"
    }
   ],
   "source": [
    "accuracy_score(y_test,bayes_pred)"
   ]
  },
  {
   "cell_type": "code",
   "execution_count": 33,
   "id": "48280273",
   "metadata": {
    "execution": {
     "iopub.execute_input": "2023-10-21T10:16:49.851047Z",
     "iopub.status.busy": "2023-10-21T10:16:49.850764Z",
     "iopub.status.idle": "2023-10-21T10:16:49.866654Z",
     "shell.execute_reply": "2023-10-21T10:16:49.865626Z"
    },
    "papermill": {
     "duration": 0.03346,
     "end_time": "2023-10-21T10:16:49.868854",
     "exception": false,
     "start_time": "2023-10-21T10:16:49.835394",
     "status": "completed"
    },
    "tags": []
   },
   "outputs": [
    {
     "name": "stdout",
     "output_type": "stream",
     "text": [
      "              precision    recall  f1-score   support\n",
      "\n",
      "           0       0.82      0.89      0.85      2723\n",
      "           1       0.60      0.49      0.54       934\n",
      "           2       0.68      0.60      0.64       679\n",
      "\n",
      "    accuracy                           0.76      4336\n",
      "   macro avg       0.70      0.66      0.68      4336\n",
      "weighted avg       0.75      0.76      0.75      4336\n",
      "\n"
     ]
    }
   ],
   "source": [
    "print(classification_report(y_test, bayes_pred))\n"
   ]
  },
  {
   "cell_type": "code",
   "execution_count": 34,
   "id": "290830a8",
   "metadata": {
    "execution": {
     "iopub.execute_input": "2023-10-21T10:16:49.899529Z",
     "iopub.status.busy": "2023-10-21T10:16:49.899261Z",
     "iopub.status.idle": "2023-10-21T10:16:50.104372Z",
     "shell.execute_reply": "2023-10-21T10:16:50.103447Z"
    },
    "papermill": {
     "duration": 0.222618,
     "end_time": "2023-10-21T10:16:50.106478",
     "exception": false,
     "start_time": "2023-10-21T10:16:49.883860",
     "status": "completed"
    },
    "tags": []
   },
   "outputs": [
    {
     "data": {
      "image/png": "[encoded data removed]",
      "text/plain": [
       "<Figure size 640x480 with 2 Axes>"
      ]
     },
     "metadata": {},
     "output_type": "display_data"
    }
   ],
   "source": [
    "sns.heatmap(confusion_matrix(y_test, bayes_pred),  annot=True)\n",
    "plt.show()"
   ]
  },
  {
   "cell_type": "code",
   "execution_count": 35,
   "id": "83f07699",
   "metadata": {
    "execution": {
     "iopub.execute_input": "2023-10-21T10:16:50.138046Z",
     "iopub.status.busy": "2023-10-21T10:16:50.137744Z",
     "iopub.status.idle": "2023-10-21T10:16:52.246478Z",
     "shell.execute_reply": "2023-10-21T10:16:52.245623Z"
    },
    "papermill": {
     "duration": 2.126962,
     "end_time": "2023-10-21T10:16:52.248737",
     "exception": false,
     "start_time": "2023-10-21T10:16:50.121775",
     "status": "completed"
    },
    "tags": []
   },
   "outputs": [],
   "source": [
    "import lightgbm as lgb"
   ]
  },
  {
   "cell_type": "code",
   "execution_count": 36,
   "id": "c3446ff2",
   "metadata": {
    "execution": {
     "iopub.execute_input": "2023-10-21T10:16:52.281038Z",
     "iopub.status.busy": "2023-10-21T10:16:52.280751Z",
     "iopub.status.idle": "2023-10-21T10:16:54.977053Z",
     "shell.execute_reply": "2023-10-21T10:16:54.976287Z"
    },
    "papermill": {
     "duration": 2.715024,
     "end_time": "2023-10-21T10:16:54.979391",
     "exception": false,
     "start_time": "2023-10-21T10:16:52.264367",
     "status": "completed"
    },
    "tags": []
   },
   "outputs": [],
   "source": [
    "light_model = lgb.LGBMClassifier(n_estimators=200, learning_rate=.1,reg_lambda=0,\n",
    "                                 n_jobs=-1).fit(X_train, y_train)"
   ]
  },
  {
   "cell_type": "code",
   "execution_count": 37,
   "id": "a9f2d3c5",
   "metadata": {
    "execution": {
     "iopub.execute_input": "2023-10-21T10:16:55.012101Z",
     "iopub.status.busy": "2023-10-21T10:16:55.011797Z",
     "iopub.status.idle": "2023-10-21T10:16:55.593461Z",
     "shell.execute_reply": "2023-10-21T10:16:55.592563Z"
    },
    "papermill": {
     "duration": 0.600223,
     "end_time": "2023-10-21T10:16:55.595877",
     "exception": false,
     "start_time": "2023-10-21T10:16:54.995654",
     "status": "completed"
    },
    "tags": []
   },
   "outputs": [],
   "source": [
    "light_model_predict = light_model.predict(X_test)"
   ]
  },
  {
   "cell_type": "code",
   "execution_count": 38,
   "id": "4cb814af",
   "metadata": {
    "execution": {
     "iopub.execute_input": "2023-10-21T10:16:55.629051Z",
     "iopub.status.busy": "2023-10-21T10:16:55.628770Z",
     "iopub.status.idle": "2023-10-21T10:16:55.635534Z",
     "shell.execute_reply": "2023-10-21T10:16:55.634775Z"
    },
    "papermill": {
     "duration": 0.024343,
     "end_time": "2023-10-21T10:16:55.637344",
     "exception": false,
     "start_time": "2023-10-21T10:16:55.613001",
     "status": "completed"
    },
    "tags": []
   },
   "outputs": [
    {
     "data": {
      "text/plain": [
       "0.7822878228782287"
      ]
     },
     "execution_count": 38,
     "metadata": {},
     "output_type": "execute_result"
    }
   ],
   "source": [
    "accuracy_score(y_test, light_model_predict)"
   ]
  },
  {
   "cell_type": "code",
   "execution_count": 39,
   "id": "c3213ca4",
   "metadata": {
    "execution": {
     "iopub.execute_input": "2023-10-21T10:16:55.668200Z",
     "iopub.status.busy": "2023-10-21T10:16:55.667936Z",
     "iopub.status.idle": "2023-10-21T10:16:55.683871Z",
     "shell.execute_reply": "2023-10-21T10:16:55.682847Z"
    },
    "papermill": {
     "duration": 0.033546,
     "end_time": "2023-10-21T10:16:55.685827",
     "exception": false,
     "start_time": "2023-10-21T10:16:55.652281",
     "status": "completed"
    },
    "tags": []
   },
   "outputs": [
    {
     "name": "stdout",
     "output_type": "stream",
     "text": [
      "              precision    recall  f1-score   support\n",
      "\n",
      "           0       0.83      0.90      0.87      2723\n",
      "           1       0.64      0.54      0.58       934\n",
      "           2       0.72      0.64      0.68       679\n",
      "\n",
      "    accuracy                           0.78      4336\n",
      "   macro avg       0.73      0.69      0.71      4336\n",
      "weighted avg       0.77      0.78      0.78      4336\n",
      "\n"
     ]
    }
   ],
   "source": [
    "print(classification_report(y_test, light_model_predict))"
   ]
  },
  {
   "cell_type": "code",
   "execution_count": 40,
   "id": "cf9cd854",
   "metadata": {
    "execution": {
     "iopub.execute_input": "2023-10-21T10:16:55.718180Z",
     "iopub.status.busy": "2023-10-21T10:16:55.717920Z",
     "iopub.status.idle": "2023-10-21T10:16:55.909892Z",
     "shell.execute_reply": "2023-10-21T10:16:55.909054Z"
    },
    "papermill": {
     "duration": 0.211028,
     "end_time": "2023-10-21T10:16:55.911900",
     "exception": false,
     "start_time": "2023-10-21T10:16:55.700872",
     "status": "completed"
    },
    "tags": []
   },
   "outputs": [
    {
     "data": {
      "image/png": "[encoded data removed]",
      "text/plain": [
       "<Figure size 640x480 with 2 Axes>"
      ]
     },
     "metadata": {},
     "output_type": "display_data"
    }
   ],
   "source": [
    "sns.heatmap(confusion_matrix(y_test, light_model_predict), annot=True)\n",
    "plt.show()"
   ]
  },
  {
   "cell_type": "code",
   "execution_count": null,
   "id": "c5a50cb4",
   "metadata": {
    "execution": {
     "iopub.execute_input": "2023-10-21T10:06:26.964099Z",
     "iopub.status.busy": "2023-10-21T10:06:26.963088Z",
     "iopub.status.idle": "2023-10-21T10:11:27.180802Z",
     "shell.execute_reply": "2023-10-21T10:11:27.179834Z",
     "shell.execute_reply.started": "2023-10-21T10:06:26.964062Z"
    },
    "papermill": {
     "duration": 0.015277,
     "end_time": "2023-10-21T10:16:55.942707",
     "exception": false,
     "start_time": "2023-10-21T10:16:55.927430",
     "status": "completed"
    },
    "tags": []
   },
   "outputs": [],
   "source": []
  },
  {
   "cell_type": "code",
   "execution_count": null,
   "id": "aa856e84",
   "metadata": {
    "execution": {
     "iopub.execute_input": "2023-10-21T10:14:49.562344Z",
     "iopub.status.busy": "2023-10-21T10:14:49.561549Z",
     "iopub.status.idle": "2023-10-21T10:14:49.568665Z",
     "shell.execute_reply": "2023-10-21T10:14:49.567770Z",
     "shell.execute_reply.started": "2023-10-21T10:14:49.562305Z"
    },
    "papermill": {
     "duration": 0.015166,
     "end_time": "2023-10-21T10:16:55.973586",
     "exception": false,
     "start_time": "2023-10-21T10:16:55.958420",
     "status": "completed"
    },
    "tags": []
   },
   "outputs": [],
   "source": []
  },
  {
   "cell_type": "code",
   "execution_count": null,
   "id": "b628ef61",
   "metadata": {
    "execution": {
     "iopub.execute_input": "2023-10-21T10:15:01.047563Z",
     "iopub.status.busy": "2023-10-21T10:15:01.047107Z",
     "iopub.status.idle": "2023-10-21T10:15:01.054779Z",
     "shell.execute_reply": "2023-10-21T10:15:01.053554Z",
     "shell.execute_reply.started": "2023-10-21T10:15:01.047526Z"
    },
    "papermill": {
     "duration": 0.015152,
     "end_time": "2023-10-21T10:16:56.004115",
     "exception": false,
     "start_time": "2023-10-21T10:16:55.988963",
     "status": "completed"
    },
    "tags": []
   },
   "outputs": [],
   "source": []
  },
  {
   "cell_type": "code",
   "execution_count": null,
   "id": "8c1eb86b",
   "metadata": {
    "papermill": {
     "duration": 0.015205,
     "end_time": "2023-10-21T10:16:56.034710",
     "exception": false,
     "start_time": "2023-10-21T10:16:56.019505",
     "status": "completed"
    },
    "tags": []
   },
   "outputs": [],
   "source": []
  }
 ],
 "metadata": {
  "kernelspec": {
   "display_name": "Python 3",
   "language": "python",
   "name": "python3"
  },
  "language_info": {
   "codemirror_mode": {
    "name": "ipython",
    "version": 3
   },
   "file_extension": ".py",
   "mimetype": "text/x-python",
   "name": "python",
   "nbconvert_exporter": "python",
   "pygments_lexer": "ipython3",
   "version": "3.10.12"
  },
  "papermill": {
   "default_parameters": {},
   "duration": 42.232424,
   "end_time": "2023-10-21T10:16:57.372121",
   "environment_variables": {},
   "exception": null,
   "input_path": "__notebook__.ipynb",
   "output_path": "__notebook__.ipynb",
   "parameters": {},
   "start_time": "2023-10-21T10:16:15.139697",
   "version": "2.4.0"
  }
 },
 "nbformat": 4,
 "nbformat_minor": 5
}
