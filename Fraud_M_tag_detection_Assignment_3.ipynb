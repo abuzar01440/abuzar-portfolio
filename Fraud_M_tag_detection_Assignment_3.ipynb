{
  "metadata": {
    "kernelspec": {
      "language": "python",
      "display_name": "Python 3",
      "name": "python3"
    },
    "language_info": {
      "name": "python",
      "version": "3.10.13",
      "mimetype": "text/x-python",
      "codemirror_mode": {
        "name": "ipython",
        "version": 3
      },
      "pygments_lexer": "ipython3",
      "nbconvert_exporter": "python",
      "file_extension": ".py"
    },
    "kaggle": {
      "accelerator": "none",
      "dataSources": [
        {
          "sourceId": 7415794,
          "sourceType": "datasetVersion",
          "datasetId": 4314015
        }
      ],
      "dockerImageVersionId": 30746,
      "isInternetEnabled": true,
      "language": "python",
      "sourceType": "notebook",
      "isGpuEnabled": false
    },
    "colab": {
      "provenance": [],
      "include_colab_link": true
    }
  },
  "nbformat_minor": 0,
  "nbformat": 4,
  "cells": [
    {
      "cell_type": "markdown",
      "metadata": {
        "id": "view-in-github",
        "colab_type": "text"
      },
      "source": [
        "<a href=\"https://colab.research.google.com/github/abuzar01440/abuzar-portfolio/blob/main/Fraud_M_tag_detection_Assignment_3.ipynb\" target=\"_parent\"><img src=\"https://colab.research.google.com/assets/colab-badge.svg\" alt=\"Open In Colab\"/></a>"
      ]
    },
    {
      "cell_type": "markdown",
      "source": [
        "# Question No. 1\n",
        "\n",
        "Explain the notion of data reduction and its significance in managing enormous datasets. Discuss the function of Principal Component Analysis (PCA) in data reduction, including how it reduces dimensionality while retaining the most relevant information. Provide a practical example of how to apply PCA on a dataset in Python, along with a description of the procedures involved.\n",
        "\n",
        "\n",
        "**Answer**\n",
        "\n",
        "\n",
        "**Data reduction:**\n",
        "\n",
        "It involves transforming complex and high-dimensional data into a more manageable and compact form while preserving the essential information and patterns.\n",
        "\n",
        "It might be effect these given below factors\n",
        "* Improved Efficiency\n",
        "* Increment in Performance\n",
        "* Reduced Storage Requirements\n",
        "* Reduce Computational cost\n",
        "\n",
        "PCA is a popular dimensionality reduction technique widely used in data science. It works by identifying new variables called principal components (PCs) that are linear combinations of the original features. it helps in data reduction and effect the following factors which is given above\n",
        "\n",
        "**Mian Goal**\n",
        "PCA aims to preserve as much of the original data's variance as possible in the reduced dimensions. By selecting the principal components that explain the most variance, PCA ensures that the most important information is retained, while less relevant or redundant features are discarded"
      ],
      "metadata": {
        "id": "AI53JP-4Xl6S"
      }
    },
    {
      "source": [
        "\n",
        "# IMPORTANT: RUN THIS CELL IN ORDER TO IMPORT YOUR KAGGLE DATA SOURCES\n",
        "# TO THE CORRECT LOCATION (/kaggle/input) IN YOUR NOTEBOOK,\n",
        "# THEN FEEL FREE TO DELETE THIS CELL.\n",
        "# NOTE: THIS NOTEBOOK ENVIRONMENT DIFFERS FROM KAGGLE'S PYTHON\n",
        "# ENVIRONMENT SO THERE MAY BE MISSING LIBRARIES USED BY YOUR\n",
        "# NOTEBOOK.\n",
        "\n",
        "import os\n",
        "import sys\n",
        "from tempfile import NamedTemporaryFile\n",
        "from urllib.request import urlopen\n",
        "from urllib.parse import unquote, urlparse\n",
        "from urllib.error import HTTPError\n",
        "from zipfile import ZipFile\n",
        "import tarfile\n",
        "import shutil\n",
        "\n",
        "CHUNK_SIZE = 40960\n",
        "DATA_SOURCE_MAPPING = 'fastag-fraud-detection-datesets-fictitious:https%3A%2F%2Fstorage.googleapis.com%2Fkaggle-data-sets%2F4314015%2F7415794%2Fbundle%2Farchive.zip%3FX-Goog-Algorithm%3DGOOG4-RSA-SHA256%26X-Goog-Credential%3Dgcp-kaggle-com%2540kaggle-161607.iam.gserviceaccount.com%252F20240718%252Fauto%252Fstorage%252Fgoog4_request%26X-Goog-Date%3D20240718T054321Z%26X-Goog-Expires%3D259200%26X-Goog-SignedHeaders%3Dhost%26X-Goog-Signature%3D249f9a1919487ea9bc99a2ddd35e96a4fff2f489fb8eae9d4dcf647f9cce3180d795d6d2b7fd3a17828c7ce64a6dcafb55c29a8efba39a389283b9bceb3fd1c209e077641002eda05c899bb2290c8ca17a2b3c0c4e5550cf15637550d956abe3f559d4bb3e533b290001211948379f553dd74388d9ee0c1ac5c3660ccadeeffd1f5fedf4ca780a6793221740786ebbc8433369ecc1572ce70027f99739a1fdd5534b8b4eca9dd25405229239f492e582935c38ad6bbcd04bd0b190e51d4a57edac017a3d1c1c2a67f9852a3830bc5d6ffef846b99427cd7bf1ea0e5c070d1e692064e5a0043791612ead47387dc586251a11d030f9923f92be986e80b90c637a'\n",
        "\n",
        "KAGGLE_INPUT_PATH='/kaggle/input'\n",
        "KAGGLE_WORKING_PATH='/kaggle/working'\n",
        "KAGGLE_SYMLINK='kaggle'\n",
        "\n",
        "!umount /kaggle/input/ 2> /dev/null\n",
        "shutil.rmtree('/kaggle/input', ignore_errors=True)\n",
        "os.makedirs(KAGGLE_INPUT_PATH, 0o777, exist_ok=True)\n",
        "os.makedirs(KAGGLE_WORKING_PATH, 0o777, exist_ok=True)\n",
        "\n",
        "try:\n",
        "  os.symlink(KAGGLE_INPUT_PATH, os.path.join(\"..\", 'input'), target_is_directory=True)\n",
        "except FileExistsError:\n",
        "  pass\n",
        "try:\n",
        "  os.symlink(KAGGLE_WORKING_PATH, os.path.join(\"..\", 'working'), target_is_directory=True)\n",
        "except FileExistsError:\n",
        "  pass\n",
        "\n",
        "for data_source_mapping in DATA_SOURCE_MAPPING.split(','):\n",
        "    directory, download_url_encoded = data_source_mapping.split(':')\n",
        "    download_url = unquote(download_url_encoded)\n",
        "    filename = urlparse(download_url).path\n",
        "    destination_path = os.path.join(KAGGLE_INPUT_PATH, directory)\n",
        "    try:\n",
        "        with urlopen(download_url) as fileres, NamedTemporaryFile() as tfile:\n",
        "            total_length = fileres.headers['content-length']\n",
        "            print(f'Downloading {directory}, {total_length} bytes compressed')\n",
        "            dl = 0\n",
        "            data = fileres.read(CHUNK_SIZE)\n",
        "            while len(data) > 0:\n",
        "                dl += len(data)\n",
        "                tfile.write(data)\n",
        "                done = int(50 * dl / int(total_length))\n",
        "                sys.stdout.write(f\"\\r[{'=' * done}{' ' * (50-done)}] {dl} bytes downloaded\")\n",
        "                sys.stdout.flush()\n",
        "                data = fileres.read(CHUNK_SIZE)\n",
        "            if filename.endswith('.zip'):\n",
        "              with ZipFile(tfile) as zfile:\n",
        "                zfile.extractall(destination_path)\n",
        "            else:\n",
        "              with tarfile.open(tfile.name) as tarfile:\n",
        "                tarfile.extractall(destination_path)\n",
        "            print(f'\\nDownloaded and uncompressed: {directory}')\n",
        "    except HTTPError as e:\n",
        "        print(f'Failed to load (likely expired) {download_url} to path {destination_path}')\n",
        "        continue\n",
        "    except OSError as e:\n",
        "        print(f'Failed to load {download_url} to path {destination_path}')\n",
        "        continue\n",
        "\n",
        "print('Data source import complete.')\n"
      ],
      "metadata": {
        "id": "qpV9Cz6_XdzW",
        "outputId": "cc58ad54-9ce8-4938-beaa-dc7261568f98",
        "colab": {
          "base_uri": "https://localhost:8080/"
        }
      },
      "cell_type": "code",
      "outputs": [
        {
          "output_type": "stream",
          "name": "stdout",
          "text": [
            "Downloading fastag-fraud-detection-datesets-fictitious, 108830 bytes compressed\n",
            "[==================================================] 108830 bytes downloaded\n",
            "Downloaded and uncompressed: fastag-fraud-detection-datesets-fictitious\n",
            "Data source import complete.\n"
          ]
        }
      ],
      "execution_count": null
    },
    {
      "cell_type": "code",
      "source": [
        "# This Python 3 environment comes with many helpful analytics libraries installed\n",
        "# It is defined by the kaggle/python Docker image: https://github.com/kaggle/docker-python\n",
        "# For example, here's several helpful packages to load\n",
        "\n",
        "import numpy as np # linear algebra\n",
        "import pandas as pd # data processing, CSV file I/O (e.g. pd.read_csv)\n",
        "\n",
        "# Input data files are available in the read-only \"../input/\" directory\n",
        "# For example, running this (by clicking run or pressing Shift+Enter) will list all files under the input directory\n",
        "\n",
        "import os\n",
        "for dirname, _, filenames in os.walk('/kaggle/input'):\n",
        "    for filename in filenames:\n",
        "        print(os.path.join(dirname, filename))\n",
        "\n",
        "# You can write up to 20GB to the current directory (/kaggle/working/) that gets preserved as output when you create a version using \"Save & Run All\"\n",
        "# You can also write temporary files to /kaggle/temp/, but they won't be saved outside of the current session"
      ],
      "metadata": {
        "_uuid": "8f2839f25d086af736a60e9eeb907d3b93b6e0e5",
        "_cell_guid": "b1076dfc-b9ad-4769-8c92-a6c4dae69d19",
        "execution": {
          "iopub.status.busy": "2024-07-18T04:37:58.712783Z",
          "iopub.execute_input": "2024-07-18T04:37:58.713502Z",
          "iopub.status.idle": "2024-07-18T04:38:00.14983Z",
          "shell.execute_reply.started": "2024-07-18T04:37:58.713449Z",
          "shell.execute_reply": "2024-07-18T04:38:00.148508Z"
        },
        "trusted": true,
        "id": "AQh541llXdzd",
        "outputId": "be36f057-2848-424f-bf41-76fb0583a132",
        "colab": {
          "base_uri": "https://localhost:8080/"
        }
      },
      "execution_count": null,
      "outputs": [
        {
          "output_type": "stream",
          "name": "stdout",
          "text": [
            "/kaggle/input/fastag-fraud-detection-datesets-fictitious/FastagFraudDetection.csv\n"
          ]
        }
      ]
    },
    {
      "cell_type": "code",
      "source": [
        "#libraries\n",
        "import seaborn as sns\n",
        "import matplotlib.pyplot as plt\n",
        "from sklearn.preprocessing import LabelEncoder\n",
        "from sklearn.model_selection import train_test_split\n",
        "from sklearn.decomposition import PCA\n",
        "from sklearn.preprocessing import StandardScaler"
      ],
      "metadata": {
        "execution": {
          "iopub.status.busy": "2024-07-18T05:14:10.204253Z",
          "iopub.execute_input": "2024-07-18T05:14:10.204745Z",
          "iopub.status.idle": "2024-07-18T05:14:10.213862Z",
          "shell.execute_reply.started": "2024-07-18T05:14:10.204709Z",
          "shell.execute_reply": "2024-07-18T05:14:10.212009Z"
        },
        "trusted": true,
        "id": "qK58vd2-Xdzf"
      },
      "execution_count": null,
      "outputs": []
    },
    {
      "cell_type": "code",
      "source": [
        "df = pd.read_csv(\"/kaggle/input/fastag-fraud-detection-datesets-fictitious/FastagFraudDetection.csv\")\n",
        "df"
      ],
      "metadata": {
        "execution": {
          "iopub.status.busy": "2024-07-18T04:51:30.377162Z",
          "iopub.execute_input": "2024-07-18T04:51:30.377698Z",
          "iopub.status.idle": "2024-07-18T04:51:30.42761Z",
          "shell.execute_reply.started": "2024-07-18T04:51:30.377659Z",
          "shell.execute_reply": "2024-07-18T04:51:30.426078Z"
        },
        "trusted": true,
        "id": "70ZP6ViDXdzg",
        "outputId": "6b9d4e33-3ace-4485-d50b-fc2225ce558a",
        "colab": {
          "base_uri": "https://localhost:8080/",
          "height": 617
        }
      },
      "execution_count": null,
      "outputs": [
        {
          "output_type": "execute_result",
          "data": {
            "text/plain": [
              "      Transaction_ID        Timestamp Vehicle_Type         FastagID  \\\n",
              "0                  1   1/6/2023 11:20         Bus   FTG-001-ABC-121   \n",
              "1                  2   1/7/2023 14:55          Car  FTG-002-XYZ-451   \n",
              "2                  3   1/8/2023 18:25   Motorcycle              NaN   \n",
              "3                  4    1/9/2023 2:05        Truck  FTG-044-LMN-322   \n",
              "4                  5   1/10/2023 6:35          Van  FTG-505-DEF-652   \n",
              "...              ...              ...          ...              ...   \n",
              "4995            4996   1/1/2023 22:18        Truck  FTG-445-EDC-765   \n",
              "4996            4997  1/17/2023 13:43          Van  FTG-446-LMK-432   \n",
              "4997            4998    2/5/2023 5:08        Sedan  FTG-447-PLN-109   \n",
              "4998            4999  2/20/2023 20:34          SUV  FTG-458-VFR-876   \n",
              "4999            5000   3/10/2023 0:59         Bus   FTG-459-WSX-543   \n",
              "\n",
              "     TollBoothID Lane_Type Vehicle_Dimensions  Transaction_Amount  \\\n",
              "0          A-101   Express              Large                 350   \n",
              "1          B-102   Regular              Small                 120   \n",
              "2          D-104   Regular              Small                   0   \n",
              "3          C-103   Regular              Large                 350   \n",
              "4          B-102   Express             Medium                 140   \n",
              "...          ...       ...                ...                 ...   \n",
              "4995       C-103   Regular              Large                 330   \n",
              "4996       B-102   Express             Medium                 125   \n",
              "4997       A-101   Regular             Medium                 115   \n",
              "4998       B-102   Express              Large                 145   \n",
              "4999       C-103   Regular              Large                 330   \n",
              "\n",
              "      Amount_paid                  Geographical_Location  Vehicle_Speed  \\\n",
              "0             120  13.059816123454882, 77.77068662374292             65   \n",
              "1             100  13.059816123454882, 77.77068662374292             78   \n",
              "2               0  13.059816123454882, 77.77068662374292             53   \n",
              "3             120  13.059816123454882, 77.77068662374292             92   \n",
              "4             100  13.059816123454882, 77.77068662374292             60   \n",
              "...           ...                                    ...            ...   \n",
              "4995          330   13.21331620748757, 77.55413526894684             81   \n",
              "4996          125   13.21331620748757, 77.55413526894684             64   \n",
              "4997          115   13.21331620748757, 77.55413526894684             93   \n",
              "4998          145   13.21331620748757, 77.55413526894684             57   \n",
              "4999          125   13.21331620748757, 77.55413526894684             86   \n",
              "\n",
              "     Vehicle_Plate_Number Fraud_indicator  \n",
              "0              KA11AB1234           Fraud  \n",
              "1              KA66CD5678           Fraud  \n",
              "2              KA88EF9012       Not Fraud  \n",
              "3              KA11GH3456           Fraud  \n",
              "4              KA44IJ6789           Fraud  \n",
              "...                   ...             ...  \n",
              "4995           KA74ST0123       Not Fraud  \n",
              "4996           KA38UV3456       Not Fraud  \n",
              "4997           KA33WX6789       Not Fraud  \n",
              "4998           KA35YZ0123       Not Fraud  \n",
              "4999           KA37AB3456           Fraud  \n",
              "\n",
              "[5000 rows x 13 columns]"
            ],
            "text/html": [
              "\n",
              "  <div id=\"df-d7267eac-a613-4b7e-838f-492ca431a2cc\" class=\"colab-df-container\">\n",
              "    <div>\n",
              "<style scoped>\n",
              "    .dataframe tbody tr th:only-of-type {\n",
              "        vertical-align: middle;\n",
              "    }\n",
              "\n",
              "    .dataframe tbody tr th {\n",
              "        vertical-align: top;\n",
              "    }\n",
              "\n",
              "    .dataframe thead th {\n",
              "        text-align: right;\n",
              "    }\n",
              "</style>\n",
              "<table border=\"1\" class=\"dataframe\">\n",
              "  <thead>\n",
              "    <tr style=\"text-align: right;\">\n",
              "      <th></th>\n",
              "      <th>Transaction_ID</th>\n",
              "      <th>Timestamp</th>\n",
              "      <th>Vehicle_Type</th>\n",
              "      <th>FastagID</th>\n",
              "      <th>TollBoothID</th>\n",
              "      <th>Lane_Type</th>\n",
              "      <th>Vehicle_Dimensions</th>\n",
              "      <th>Transaction_Amount</th>\n",
              "      <th>Amount_paid</th>\n",
              "      <th>Geographical_Location</th>\n",
              "      <th>Vehicle_Speed</th>\n",
              "      <th>Vehicle_Plate_Number</th>\n",
              "      <th>Fraud_indicator</th>\n",
              "    </tr>\n",
              "  </thead>\n",
              "  <tbody>\n",
              "    <tr>\n",
              "      <th>0</th>\n",
              "      <td>1</td>\n",
              "      <td>1/6/2023 11:20</td>\n",
              "      <td>Bus</td>\n",
              "      <td>FTG-001-ABC-121</td>\n",
              "      <td>A-101</td>\n",
              "      <td>Express</td>\n",
              "      <td>Large</td>\n",
              "      <td>350</td>\n",
              "      <td>120</td>\n",
              "      <td>13.059816123454882, 77.77068662374292</td>\n",
              "      <td>65</td>\n",
              "      <td>KA11AB1234</td>\n",
              "      <td>Fraud</td>\n",
              "    </tr>\n",
              "    <tr>\n",
              "      <th>1</th>\n",
              "      <td>2</td>\n",
              "      <td>1/7/2023 14:55</td>\n",
              "      <td>Car</td>\n",
              "      <td>FTG-002-XYZ-451</td>\n",
              "      <td>B-102</td>\n",
              "      <td>Regular</td>\n",
              "      <td>Small</td>\n",
              "      <td>120</td>\n",
              "      <td>100</td>\n",
              "      <td>13.059816123454882, 77.77068662374292</td>\n",
              "      <td>78</td>\n",
              "      <td>KA66CD5678</td>\n",
              "      <td>Fraud</td>\n",
              "    </tr>\n",
              "    <tr>\n",
              "      <th>2</th>\n",
              "      <td>3</td>\n",
              "      <td>1/8/2023 18:25</td>\n",
              "      <td>Motorcycle</td>\n",
              "      <td>NaN</td>\n",
              "      <td>D-104</td>\n",
              "      <td>Regular</td>\n",
              "      <td>Small</td>\n",
              "      <td>0</td>\n",
              "      <td>0</td>\n",
              "      <td>13.059816123454882, 77.77068662374292</td>\n",
              "      <td>53</td>\n",
              "      <td>KA88EF9012</td>\n",
              "      <td>Not Fraud</td>\n",
              "    </tr>\n",
              "    <tr>\n",
              "      <th>3</th>\n",
              "      <td>4</td>\n",
              "      <td>1/9/2023 2:05</td>\n",
              "      <td>Truck</td>\n",
              "      <td>FTG-044-LMN-322</td>\n",
              "      <td>C-103</td>\n",
              "      <td>Regular</td>\n",
              "      <td>Large</td>\n",
              "      <td>350</td>\n",
              "      <td>120</td>\n",
              "      <td>13.059816123454882, 77.77068662374292</td>\n",
              "      <td>92</td>\n",
              "      <td>KA11GH3456</td>\n",
              "      <td>Fraud</td>\n",
              "    </tr>\n",
              "    <tr>\n",
              "      <th>4</th>\n",
              "      <td>5</td>\n",
              "      <td>1/10/2023 6:35</td>\n",
              "      <td>Van</td>\n",
              "      <td>FTG-505-DEF-652</td>\n",
              "      <td>B-102</td>\n",
              "      <td>Express</td>\n",
              "      <td>Medium</td>\n",
              "      <td>140</td>\n",
              "      <td>100</td>\n",
              "      <td>13.059816123454882, 77.77068662374292</td>\n",
              "      <td>60</td>\n",
              "      <td>KA44IJ6789</td>\n",
              "      <td>Fraud</td>\n",
              "    </tr>\n",
              "    <tr>\n",
              "      <th>...</th>\n",
              "      <td>...</td>\n",
              "      <td>...</td>\n",
              "      <td>...</td>\n",
              "      <td>...</td>\n",
              "      <td>...</td>\n",
              "      <td>...</td>\n",
              "      <td>...</td>\n",
              "      <td>...</td>\n",
              "      <td>...</td>\n",
              "      <td>...</td>\n",
              "      <td>...</td>\n",
              "      <td>...</td>\n",
              "      <td>...</td>\n",
              "    </tr>\n",
              "    <tr>\n",
              "      <th>4995</th>\n",
              "      <td>4996</td>\n",
              "      <td>1/1/2023 22:18</td>\n",
              "      <td>Truck</td>\n",
              "      <td>FTG-445-EDC-765</td>\n",
              "      <td>C-103</td>\n",
              "      <td>Regular</td>\n",
              "      <td>Large</td>\n",
              "      <td>330</td>\n",
              "      <td>330</td>\n",
              "      <td>13.21331620748757, 77.55413526894684</td>\n",
              "      <td>81</td>\n",
              "      <td>KA74ST0123</td>\n",
              "      <td>Not Fraud</td>\n",
              "    </tr>\n",
              "    <tr>\n",
              "      <th>4996</th>\n",
              "      <td>4997</td>\n",
              "      <td>1/17/2023 13:43</td>\n",
              "      <td>Van</td>\n",
              "      <td>FTG-446-LMK-432</td>\n",
              "      <td>B-102</td>\n",
              "      <td>Express</td>\n",
              "      <td>Medium</td>\n",
              "      <td>125</td>\n",
              "      <td>125</td>\n",
              "      <td>13.21331620748757, 77.55413526894684</td>\n",
              "      <td>64</td>\n",
              "      <td>KA38UV3456</td>\n",
              "      <td>Not Fraud</td>\n",
              "    </tr>\n",
              "    <tr>\n",
              "      <th>4997</th>\n",
              "      <td>4998</td>\n",
              "      <td>2/5/2023 5:08</td>\n",
              "      <td>Sedan</td>\n",
              "      <td>FTG-447-PLN-109</td>\n",
              "      <td>A-101</td>\n",
              "      <td>Regular</td>\n",
              "      <td>Medium</td>\n",
              "      <td>115</td>\n",
              "      <td>115</td>\n",
              "      <td>13.21331620748757, 77.55413526894684</td>\n",
              "      <td>93</td>\n",
              "      <td>KA33WX6789</td>\n",
              "      <td>Not Fraud</td>\n",
              "    </tr>\n",
              "    <tr>\n",
              "      <th>4998</th>\n",
              "      <td>4999</td>\n",
              "      <td>2/20/2023 20:34</td>\n",
              "      <td>SUV</td>\n",
              "      <td>FTG-458-VFR-876</td>\n",
              "      <td>B-102</td>\n",
              "      <td>Express</td>\n",
              "      <td>Large</td>\n",
              "      <td>145</td>\n",
              "      <td>145</td>\n",
              "      <td>13.21331620748757, 77.55413526894684</td>\n",
              "      <td>57</td>\n",
              "      <td>KA35YZ0123</td>\n",
              "      <td>Not Fraud</td>\n",
              "    </tr>\n",
              "    <tr>\n",
              "      <th>4999</th>\n",
              "      <td>5000</td>\n",
              "      <td>3/10/2023 0:59</td>\n",
              "      <td>Bus</td>\n",
              "      <td>FTG-459-WSX-543</td>\n",
              "      <td>C-103</td>\n",
              "      <td>Regular</td>\n",
              "      <td>Large</td>\n",
              "      <td>330</td>\n",
              "      <td>125</td>\n",
              "      <td>13.21331620748757, 77.55413526894684</td>\n",
              "      <td>86</td>\n",
              "      <td>KA37AB3456</td>\n",
              "      <td>Fraud</td>\n",
              "    </tr>\n",
              "  </tbody>\n",
              "</table>\n",
              "<p>5000 rows × 13 columns</p>\n",
              "</div>\n",
              "    <div class=\"colab-df-buttons\">\n",
              "\n",
              "  <div class=\"colab-df-container\">\n",
              "    <button class=\"colab-df-convert\" onclick=\"convertToInteractive('df-d7267eac-a613-4b7e-838f-492ca431a2cc')\"\n",
              "            title=\"Convert this dataframe to an interactive table.\"\n",
              "            style=\"display:none;\">\n",
              "\n",
              "  <svg xmlns=\"http://www.w3.org/2000/svg\" height=\"24px\" viewBox=\"0 -960 960 960\">\n",
              "    <path d=\"M120-120v-720h720v720H120Zm60-500h600v-160H180v160Zm220 220h160v-160H400v160Zm0 220h160v-160H400v160ZM180-400h160v-160H180v160Zm440 0h160v-160H620v160ZM180-180h160v-160H180v160Zm440 0h160v-160H620v160Z\"/>\n",
              "  </svg>\n",
              "    </button>\n",
              "\n",
              "  <style>\n",
              "    .colab-df-container {\n",
              "      display:flex;\n",
              "      gap: 12px;\n",
              "    }\n",
              "\n",
              "    .colab-df-convert {\n",
              "      background-color: #E8F0FE;\n",
              "      border: none;\n",
              "      border-radius: 50%;\n",
              "      cursor: pointer;\n",
              "      display: none;\n",
              "      fill: #1967D2;\n",
              "      height: 32px;\n",
              "      padding: 0 0 0 0;\n",
              "      width: 32px;\n",
              "    }\n",
              "\n",
              "    .colab-df-convert:hover {\n",
              "      background-color: #E2EBFA;\n",
              "      box-shadow: 0px 1px 2px rgba(60, 64, 67, 0.3), 0px 1px 3px 1px rgba(60, 64, 67, 0.15);\n",
              "      fill: #174EA6;\n",
              "    }\n",
              "\n",
              "    .colab-df-buttons div {\n",
              "      margin-bottom: 4px;\n",
              "    }\n",
              "\n",
              "    [theme=dark] .colab-df-convert {\n",
              "      background-color: #3B4455;\n",
              "      fill: #D2E3FC;\n",
              "    }\n",
              "\n",
              "    [theme=dark] .colab-df-convert:hover {\n",
              "      background-color: #434B5C;\n",
              "      box-shadow: 0px 1px 3px 1px rgba(0, 0, 0, 0.15);\n",
              "      filter: drop-shadow(0px 1px 2px rgba(0, 0, 0, 0.3));\n",
              "      fill: #FFFFFF;\n",
              "    }\n",
              "  </style>\n",
              "\n",
              "    <script>\n",
              "      const buttonEl =\n",
              "        document.querySelector('#df-d7267eac-a613-4b7e-838f-492ca431a2cc button.colab-df-convert');\n",
              "      buttonEl.style.display =\n",
              "        google.colab.kernel.accessAllowed ? 'block' : 'none';\n",
              "\n",
              "      async function convertToInteractive(key) {\n",
              "        const element = document.querySelector('#df-d7267eac-a613-4b7e-838f-492ca431a2cc');\n",
              "        const dataTable =\n",
              "          await google.colab.kernel.invokeFunction('convertToInteractive',\n",
              "                                                    [key], {});\n",
              "        if (!dataTable) return;\n",
              "\n",
              "        const docLinkHtml = 'Like what you see? Visit the ' +\n",
              "          '<a target=\"_blank\" href=https://colab.research.google.com/notebooks/data_table.ipynb>data table notebook</a>'\n",
              "          + ' to learn more about interactive tables.';\n",
              "        element.innerHTML = '';\n",
              "        dataTable['output_type'] = 'display_data';\n",
              "        await google.colab.output.renderOutput(dataTable, element);\n",
              "        const docLink = document.createElement('div');\n",
              "        docLink.innerHTML = docLinkHtml;\n",
              "        element.appendChild(docLink);\n",
              "      }\n",
              "    </script>\n",
              "  </div>\n",
              "\n",
              "\n",
              "<div id=\"df-38557ee4-a507-4aa6-a6e5-7087971d864c\">\n",
              "  <button class=\"colab-df-quickchart\" onclick=\"quickchart('df-38557ee4-a507-4aa6-a6e5-7087971d864c')\"\n",
              "            title=\"Suggest charts\"\n",
              "            style=\"display:none;\">\n",
              "\n",
              "<svg xmlns=\"http://www.w3.org/2000/svg\" height=\"24px\"viewBox=\"0 0 24 24\"\n",
              "     width=\"24px\">\n",
              "    <g>\n",
              "        <path d=\"M19 3H5c-1.1 0-2 .9-2 2v14c0 1.1.9 2 2 2h14c1.1 0 2-.9 2-2V5c0-1.1-.9-2-2-2zM9 17H7v-7h2v7zm4 0h-2V7h2v10zm4 0h-2v-4h2v4z\"/>\n",
              "    </g>\n",
              "</svg>\n",
              "  </button>\n",
              "\n",
              "<style>\n",
              "  .colab-df-quickchart {\n",
              "      --bg-color: #E8F0FE;\n",
              "      --fill-color: #1967D2;\n",
              "      --hover-bg-color: #E2EBFA;\n",
              "      --hover-fill-color: #174EA6;\n",
              "      --disabled-fill-color: #AAA;\n",
              "      --disabled-bg-color: #DDD;\n",
              "  }\n",
              "\n",
              "  [theme=dark] .colab-df-quickchart {\n",
              "      --bg-color: #3B4455;\n",
              "      --fill-color: #D2E3FC;\n",
              "      --hover-bg-color: #434B5C;\n",
              "      --hover-fill-color: #FFFFFF;\n",
              "      --disabled-bg-color: #3B4455;\n",
              "      --disabled-fill-color: #666;\n",
              "  }\n",
              "\n",
              "  .colab-df-quickchart {\n",
              "    background-color: var(--bg-color);\n",
              "    border: none;\n",
              "    border-radius: 50%;\n",
              "    cursor: pointer;\n",
              "    display: none;\n",
              "    fill: var(--fill-color);\n",
              "    height: 32px;\n",
              "    padding: 0;\n",
              "    width: 32px;\n",
              "  }\n",
              "\n",
              "  .colab-df-quickchart:hover {\n",
              "    background-color: var(--hover-bg-color);\n",
              "    box-shadow: 0 1px 2px rgba(60, 64, 67, 0.3), 0 1px 3px 1px rgba(60, 64, 67, 0.15);\n",
              "    fill: var(--button-hover-fill-color);\n",
              "  }\n",
              "\n",
              "  .colab-df-quickchart-complete:disabled,\n",
              "  .colab-df-quickchart-complete:disabled:hover {\n",
              "    background-color: var(--disabled-bg-color);\n",
              "    fill: var(--disabled-fill-color);\n",
              "    box-shadow: none;\n",
              "  }\n",
              "\n",
              "  .colab-df-spinner {\n",
              "    border: 2px solid var(--fill-color);\n",
              "    border-color: transparent;\n",
              "    border-bottom-color: var(--fill-color);\n",
              "    animation:\n",
              "      spin 1s steps(1) infinite;\n",
              "  }\n",
              "\n",
              "  @keyframes spin {\n",
              "    0% {\n",
              "      border-color: transparent;\n",
              "      border-bottom-color: var(--fill-color);\n",
              "      border-left-color: var(--fill-color);\n",
              "    }\n",
              "    20% {\n",
              "      border-color: transparent;\n",
              "      border-left-color: var(--fill-color);\n",
              "      border-top-color: var(--fill-color);\n",
              "    }\n",
              "    30% {\n",
              "      border-color: transparent;\n",
              "      border-left-color: var(--fill-color);\n",
              "      border-top-color: var(--fill-color);\n",
              "      border-right-color: var(--fill-color);\n",
              "    }\n",
              "    40% {\n",
              "      border-color: transparent;\n",
              "      border-right-color: var(--fill-color);\n",
              "      border-top-color: var(--fill-color);\n",
              "    }\n",
              "    60% {\n",
              "      border-color: transparent;\n",
              "      border-right-color: var(--fill-color);\n",
              "    }\n",
              "    80% {\n",
              "      border-color: transparent;\n",
              "      border-right-color: var(--fill-color);\n",
              "      border-bottom-color: var(--fill-color);\n",
              "    }\n",
              "    90% {\n",
              "      border-color: transparent;\n",
              "      border-bottom-color: var(--fill-color);\n",
              "    }\n",
              "  }\n",
              "</style>\n",
              "\n",
              "  <script>\n",
              "    async function quickchart(key) {\n",
              "      const quickchartButtonEl =\n",
              "        document.querySelector('#' + key + ' button');\n",
              "      quickchartButtonEl.disabled = true;  // To prevent multiple clicks.\n",
              "      quickchartButtonEl.classList.add('colab-df-spinner');\n",
              "      try {\n",
              "        const charts = await google.colab.kernel.invokeFunction(\n",
              "            'suggestCharts', [key], {});\n",
              "      } catch (error) {\n",
              "        console.error('Error during call to suggestCharts:', error);\n",
              "      }\n",
              "      quickchartButtonEl.classList.remove('colab-df-spinner');\n",
              "      quickchartButtonEl.classList.add('colab-df-quickchart-complete');\n",
              "    }\n",
              "    (() => {\n",
              "      let quickchartButtonEl =\n",
              "        document.querySelector('#df-38557ee4-a507-4aa6-a6e5-7087971d864c button');\n",
              "      quickchartButtonEl.style.display =\n",
              "        google.colab.kernel.accessAllowed ? 'block' : 'none';\n",
              "    })();\n",
              "  </script>\n",
              "</div>\n",
              "\n",
              "  <div id=\"id_9f59b25c-e40c-4106-9227-2af536ebbdd7\">\n",
              "    <style>\n",
              "      .colab-df-generate {\n",
              "        background-color: #E8F0FE;\n",
              "        border: none;\n",
              "        border-radius: 50%;\n",
              "        cursor: pointer;\n",
              "        display: none;\n",
              "        fill: #1967D2;\n",
              "        height: 32px;\n",
              "        padding: 0 0 0 0;\n",
              "        width: 32px;\n",
              "      }\n",
              "\n",
              "      .colab-df-generate:hover {\n",
              "        background-color: #E2EBFA;\n",
              "        box-shadow: 0px 1px 2px rgba(60, 64, 67, 0.3), 0px 1px 3px 1px rgba(60, 64, 67, 0.15);\n",
              "        fill: #174EA6;\n",
              "      }\n",
              "\n",
              "      [theme=dark] .colab-df-generate {\n",
              "        background-color: #3B4455;\n",
              "        fill: #D2E3FC;\n",
              "      }\n",
              "\n",
              "      [theme=dark] .colab-df-generate:hover {\n",
              "        background-color: #434B5C;\n",
              "        box-shadow: 0px 1px 3px 1px rgba(0, 0, 0, 0.15);\n",
              "        filter: drop-shadow(0px 1px 2px rgba(0, 0, 0, 0.3));\n",
              "        fill: #FFFFFF;\n",
              "      }\n",
              "    </style>\n",
              "    <button class=\"colab-df-generate\" onclick=\"generateWithVariable('df')\"\n",
              "            title=\"Generate code using this dataframe.\"\n",
              "            style=\"display:none;\">\n",
              "\n",
              "  <svg xmlns=\"http://www.w3.org/2000/svg\" height=\"24px\"viewBox=\"0 0 24 24\"\n",
              "       width=\"24px\">\n",
              "    <path d=\"M7,19H8.4L18.45,9,17,7.55,7,17.6ZM5,21V16.75L18.45,3.32a2,2,0,0,1,2.83,0l1.4,1.43a1.91,1.91,0,0,1,.58,1.4,1.91,1.91,0,0,1-.58,1.4L9.25,21ZM18.45,9,17,7.55Zm-12,3A5.31,5.31,0,0,0,4.9,8.1,5.31,5.31,0,0,0,1,6.5,5.31,5.31,0,0,0,4.9,4.9,5.31,5.31,0,0,0,6.5,1,5.31,5.31,0,0,0,8.1,4.9,5.31,5.31,0,0,0,12,6.5,5.46,5.46,0,0,0,6.5,12Z\"/>\n",
              "  </svg>\n",
              "    </button>\n",
              "    <script>\n",
              "      (() => {\n",
              "      const buttonEl =\n",
              "        document.querySelector('#id_9f59b25c-e40c-4106-9227-2af536ebbdd7 button.colab-df-generate');\n",
              "      buttonEl.style.display =\n",
              "        google.colab.kernel.accessAllowed ? 'block' : 'none';\n",
              "\n",
              "      buttonEl.onclick = () => {\n",
              "        google.colab.notebook.generateWithVariable('df');\n",
              "      }\n",
              "      })();\n",
              "    </script>\n",
              "  </div>\n",
              "\n",
              "    </div>\n",
              "  </div>\n"
            ],
            "application/vnd.google.colaboratory.intrinsic+json": {
              "type": "dataframe",
              "variable_name": "df",
              "summary": "{\n  \"name\": \"df\",\n  \"rows\": 5000,\n  \"fields\": [\n    {\n      \"column\": \"Transaction_ID\",\n      \"properties\": {\n        \"dtype\": \"number\",\n        \"std\": 1443,\n        \"min\": 1,\n        \"max\": 5000,\n        \"num_unique_values\": 5000,\n        \"samples\": [\n          1502,\n          2587,\n          2654\n        ],\n        \"semantic_type\": \"\",\n        \"description\": \"\"\n      }\n    },\n    {\n      \"column\": \"Timestamp\",\n      \"properties\": {\n        \"dtype\": \"object\",\n        \"num_unique_values\": 4423,\n        \"samples\": [\n          \"6/25/2023 7:17\",\n          \"10/22/2023 2:04\",\n          \"2/5/2023 0:42\"\n        ],\n        \"semantic_type\": \"\",\n        \"description\": \"\"\n      }\n    },\n    {\n      \"column\": \"Vehicle_Type\",\n      \"properties\": {\n        \"dtype\": \"category\",\n        \"num_unique_values\": 7,\n        \"samples\": [\n          \"Bus \",\n          \"Car\",\n          \"Sedan\"\n        ],\n        \"semantic_type\": \"\",\n        \"description\": \"\"\n      }\n    },\n    {\n      \"column\": \"FastagID\",\n      \"properties\": {\n        \"dtype\": \"string\",\n        \"num_unique_values\": 4451,\n        \"samples\": [\n          \"FTG-580-DEF-850\",\n          \"FTG-083-PQR-333\",\n          \"FTG-125-EDC-765\"\n        ],\n        \"semantic_type\": \"\",\n        \"description\": \"\"\n      }\n    },\n    {\n      \"column\": \"TollBoothID\",\n      \"properties\": {\n        \"dtype\": \"category\",\n        \"num_unique_values\": 6,\n        \"samples\": [\n          \"A-101\",\n          \"B-102\",\n          \"D-106\"\n        ],\n        \"semantic_type\": \"\",\n        \"description\": \"\"\n      }\n    },\n    {\n      \"column\": \"Lane_Type\",\n      \"properties\": {\n        \"dtype\": \"category\",\n        \"num_unique_values\": 2,\n        \"samples\": [\n          \"Regular\",\n          \"Express\"\n        ],\n        \"semantic_type\": \"\",\n        \"description\": \"\"\n      }\n    },\n    {\n      \"column\": \"Vehicle_Dimensions\",\n      \"properties\": {\n        \"dtype\": \"category\",\n        \"num_unique_values\": 3,\n        \"samples\": [\n          \"Large\",\n          \"Small\"\n        ],\n        \"semantic_type\": \"\",\n        \"description\": \"\"\n      }\n    },\n    {\n      \"column\": \"Transaction_Amount\",\n      \"properties\": {\n        \"dtype\": \"number\",\n        \"std\": 112,\n        \"min\": 0,\n        \"max\": 350,\n        \"num_unique_values\": 20,\n        \"samples\": [\n          350,\n          330\n        ],\n        \"semantic_type\": \"\",\n        \"description\": \"\"\n      }\n    },\n    {\n      \"column\": \"Amount_paid\",\n      \"properties\": {\n        \"dtype\": \"number\",\n        \"std\": 106,\n        \"min\": 0,\n        \"max\": 350,\n        \"num_unique_values\": 23,\n        \"samples\": [\n          340,\n          60\n        ],\n        \"semantic_type\": \"\",\n        \"description\": \"\"\n      }\n    },\n    {\n      \"column\": \"Geographical_Location\",\n      \"properties\": {\n        \"dtype\": \"category\",\n        \"num_unique_values\": 5,\n        \"samples\": [\n          \"13.042660878688794, 77.47580097259879\",\n          \"13.21331620748757, 77.55413526894684\"\n        ],\n        \"semantic_type\": \"\",\n        \"description\": \"\"\n      }\n    },\n    {\n      \"column\": \"Vehicle_Speed\",\n      \"properties\": {\n        \"dtype\": \"number\",\n        \"std\": 16,\n        \"min\": 10,\n        \"max\": 118,\n        \"num_unique_values\": 85,\n        \"samples\": [\n          35,\n          65\n        ],\n        \"semantic_type\": \"\",\n        \"description\": \"\"\n      }\n    },\n    {\n      \"column\": \"Vehicle_Plate_Number\",\n      \"properties\": {\n        \"dtype\": \"string\",\n        \"num_unique_values\": 5000,\n        \"samples\": [\n          \"KA05CD5678\",\n          \"KA67LM4267\"\n        ],\n        \"semantic_type\": \"\",\n        \"description\": \"\"\n      }\n    },\n    {\n      \"column\": \"Fraud_indicator\",\n      \"properties\": {\n        \"dtype\": \"category\",\n        \"num_unique_values\": 2,\n        \"samples\": [\n          \"Not Fraud\",\n          \"Fraud\"\n        ],\n        \"semantic_type\": \"\",\n        \"description\": \"\"\n      }\n    }\n  ]\n}"
            }
          },
          "metadata": {},
          "execution_count": 4
        }
      ]
    },
    {
      "cell_type": "code",
      "source": [
        "df.isnull().sum()/df.shape[0] * 100"
      ],
      "metadata": {
        "execution": {
          "iopub.status.busy": "2024-07-18T04:51:30.430284Z",
          "iopub.execute_input": "2024-07-18T04:51:30.430669Z",
          "iopub.status.idle": "2024-07-18T04:51:30.451063Z",
          "shell.execute_reply.started": "2024-07-18T04:51:30.430635Z",
          "shell.execute_reply": "2024-07-18T04:51:30.448258Z"
        },
        "trusted": true,
        "id": "-MiFT3OEXdzg",
        "outputId": "2ed3c495-35fa-43ca-9f9e-2012cf6a36e4",
        "colab": {
          "base_uri": "https://localhost:8080/"
        }
      },
      "execution_count": null,
      "outputs": [
        {
          "output_type": "execute_result",
          "data": {
            "text/plain": [
              "Transaction_ID            0.00\n",
              "Timestamp                 0.00\n",
              "Vehicle_Type              0.00\n",
              "FastagID                 10.98\n",
              "TollBoothID               0.00\n",
              "Lane_Type                 0.00\n",
              "Vehicle_Dimensions        0.00\n",
              "Transaction_Amount        0.00\n",
              "Amount_paid               0.00\n",
              "Geographical_Location     0.00\n",
              "Vehicle_Speed             0.00\n",
              "Vehicle_Plate_Number      0.00\n",
              "Fraud_indicator           0.00\n",
              "dtype: float64"
            ]
          },
          "metadata": {},
          "execution_count": 5
        }
      ]
    },
    {
      "cell_type": "code",
      "source": [
        "df.duplicated().sum()"
      ],
      "metadata": {
        "execution": {
          "iopub.status.busy": "2024-07-18T04:51:30.453359Z",
          "iopub.execute_input": "2024-07-18T04:51:30.453988Z",
          "iopub.status.idle": "2024-07-18T04:51:30.480256Z",
          "shell.execute_reply.started": "2024-07-18T04:51:30.453915Z",
          "shell.execute_reply": "2024-07-18T04:51:30.4787Z"
        },
        "trusted": true,
        "id": "ABoyAoXNXdzh",
        "outputId": "e957fb71-315c-42bb-c201-ac9f8ca211fc",
        "colab": {
          "base_uri": "https://localhost:8080/"
        }
      },
      "execution_count": null,
      "outputs": [
        {
          "output_type": "execute_result",
          "data": {
            "text/plain": [
              "0"
            ]
          },
          "metadata": {},
          "execution_count": 6
        }
      ]
    },
    {
      "cell_type": "code",
      "source": [
        "df.TollBoothID.value_counts()"
      ],
      "metadata": {
        "execution": {
          "iopub.status.busy": "2024-07-18T04:51:30.492682Z",
          "iopub.execute_input": "2024-07-18T04:51:30.493121Z",
          "iopub.status.idle": "2024-07-18T04:51:30.506378Z",
          "shell.execute_reply.started": "2024-07-18T04:51:30.493086Z",
          "shell.execute_reply": "2024-07-18T04:51:30.50454Z"
        },
        "trusted": true,
        "id": "SdpqDQkUXdzh",
        "outputId": "b4fd3432-7a40-4874-cb7d-06c11f1e5950",
        "colab": {
          "base_uri": "https://localhost:8080/"
        }
      },
      "execution_count": null,
      "outputs": [
        {
          "output_type": "execute_result",
          "data": {
            "text/plain": [
              "TollBoothID\n",
              "B-102    1432\n",
              "A-101    1428\n",
              "C-103    1426\n",
              "D-106     570\n",
              "D-105     104\n",
              "D-104      40\n",
              "Name: count, dtype: int64"
            ]
          },
          "metadata": {},
          "execution_count": 7
        }
      ]
    },
    {
      "cell_type": "code",
      "source": [
        "bar =sns.countplot(x=\"TollBoothID\", data=df)\n",
        "bar.set_xticklabels(bar.get_xticklabels(), rotation=45, horizontalalignment='right')\n",
        "for bars_anotate in bar.patches:\n",
        "    bar.annotate(format(bars_anotate.get_height(), '.0f'),\n",
        "                   (bars_anotate.get_x() + bars_anotate.get_width() / 2,\n",
        "                    bars_anotate.get_height()), ha='center', va='center',\n",
        "                   size=10, xytext=(0, 8),\n",
        "                   textcoords='offset points')\n",
        "plt.show()"
      ],
      "metadata": {
        "execution": {
          "iopub.status.busy": "2024-07-18T04:51:30.767089Z",
          "iopub.execute_input": "2024-07-18T04:51:30.767606Z",
          "iopub.status.idle": "2024-07-18T04:51:31.084425Z",
          "shell.execute_reply.started": "2024-07-18T04:51:30.767568Z",
          "shell.execute_reply": "2024-07-18T04:51:31.083135Z"
        },
        "trusted": true,
        "id": "_O40XQ6zXdzi",
        "outputId": "12fd0e4e-b4c7-4215-fea2-125585784571",
        "colab": {
          "base_uri": "https://localhost:8080/",
          "height": 513
        }
      },
      "execution_count": null,
      "outputs": [
        {
          "output_type": "stream",
          "name": "stderr",
          "text": [
            "<ipython-input-8-be93f1f6506c>:2: UserWarning: FixedFormatter should only be used together with FixedLocator\n",
            "  bar.set_xticklabels(bar.get_xticklabels(), rotation=45, horizontalalignment='right')\n"
          ]
        },
        {
          "output_type": "display_data",
          "data": {
            "text/plain": [
              "<Figure size 640x480 with 1 Axes>"
            ],
            "image/png": "[encoded data removed]"
          },
          "metadata": {}
        }
      ]
    },
    {
      "cell_type": "code",
      "source": [
        "df.drop(columns=[\"Timestamp\", 'Transaction_ID'],inplace=True)"
      ],
      "metadata": {
        "execution": {
          "iopub.status.busy": "2024-07-18T04:51:31.20772Z",
          "iopub.execute_input": "2024-07-18T04:51:31.208244Z",
          "iopub.status.idle": "2024-07-18T04:51:31.221879Z",
          "shell.execute_reply.started": "2024-07-18T04:51:31.208178Z",
          "shell.execute_reply": "2024-07-18T04:51:31.219722Z"
        },
        "trusted": true,
        "id": "o5uDI923Xdzi"
      },
      "execution_count": null,
      "outputs": []
    },
    {
      "cell_type": "code",
      "source": [
        "df.shape"
      ],
      "metadata": {
        "execution": {
          "iopub.status.busy": "2024-07-18T04:51:31.573058Z",
          "iopub.execute_input": "2024-07-18T04:51:31.574416Z",
          "iopub.status.idle": "2024-07-18T04:51:31.583024Z",
          "shell.execute_reply.started": "2024-07-18T04:51:31.574359Z",
          "shell.execute_reply": "2024-07-18T04:51:31.581474Z"
        },
        "trusted": true,
        "id": "C2TZtMswXdzj",
        "outputId": "0ebe7a6e-6755-4960-a1c5-4ca5df6bcb85",
        "colab": {
          "base_uri": "https://localhost:8080/"
        }
      },
      "execution_count": null,
      "outputs": [
        {
          "output_type": "execute_result",
          "data": {
            "text/plain": [
              "(5000, 11)"
            ]
          },
          "metadata": {},
          "execution_count": 10
        }
      ]
    },
    {
      "cell_type": "code",
      "source": [
        "df.head(3)"
      ],
      "metadata": {
        "execution": {
          "iopub.status.busy": "2024-07-18T04:51:32.633355Z",
          "iopub.execute_input": "2024-07-18T04:51:32.633777Z",
          "iopub.status.idle": "2024-07-18T04:51:32.654466Z",
          "shell.execute_reply.started": "2024-07-18T04:51:32.633746Z",
          "shell.execute_reply": "2024-07-18T04:51:32.652511Z"
        },
        "trusted": true,
        "id": "y8f5S2GSXdzj",
        "outputId": "e8817c1c-2fc2-4b9f-e1bb-33e572cdb66c",
        "colab": {
          "base_uri": "https://localhost:8080/",
          "height": 215
        }
      },
      "execution_count": null,
      "outputs": [
        {
          "output_type": "execute_result",
          "data": {
            "text/plain": [
              "  Vehicle_Type         FastagID TollBoothID Lane_Type Vehicle_Dimensions  \\\n",
              "0         Bus   FTG-001-ABC-121       A-101   Express              Large   \n",
              "1          Car  FTG-002-XYZ-451       B-102   Regular              Small   \n",
              "2   Motorcycle              NaN       D-104   Regular              Small   \n",
              "\n",
              "   Transaction_Amount  Amount_paid                  Geographical_Location  \\\n",
              "0                 350          120  13.059816123454882, 77.77068662374292   \n",
              "1                 120          100  13.059816123454882, 77.77068662374292   \n",
              "2                   0            0  13.059816123454882, 77.77068662374292   \n",
              "\n",
              "   Vehicle_Speed Vehicle_Plate_Number Fraud_indicator  \n",
              "0             65           KA11AB1234           Fraud  \n",
              "1             78           KA66CD5678           Fraud  \n",
              "2             53           KA88EF9012       Not Fraud  "
            ],
            "text/html": [
              "\n",
              "  <div id=\"df-a5b4c47a-3d35-4c0f-9e9a-22c89c103151\" class=\"colab-df-container\">\n",
              "    <div>\n",
              "<style scoped>\n",
              "    .dataframe tbody tr th:only-of-type {\n",
              "        vertical-align: middle;\n",
              "    }\n",
              "\n",
              "    .dataframe tbody tr th {\n",
              "        vertical-align: top;\n",
              "    }\n",
              "\n",
              "    .dataframe thead th {\n",
              "        text-align: right;\n",
              "    }\n",
              "</style>\n",
              "<table border=\"1\" class=\"dataframe\">\n",
              "  <thead>\n",
              "    <tr style=\"text-align: right;\">\n",
              "      <th></th>\n",
              "      <th>Vehicle_Type</th>\n",
              "      <th>FastagID</th>\n",
              "      <th>TollBoothID</th>\n",
              "      <th>Lane_Type</th>\n",
              "      <th>Vehicle_Dimensions</th>\n",
              "      <th>Transaction_Amount</th>\n",
              "      <th>Amount_paid</th>\n",
              "      <th>Geographical_Location</th>\n",
              "      <th>Vehicle_Speed</th>\n",
              "      <th>Vehicle_Plate_Number</th>\n",
              "      <th>Fraud_indicator</th>\n",
              "    </tr>\n",
              "  </thead>\n",
              "  <tbody>\n",
              "    <tr>\n",
              "      <th>0</th>\n",
              "      <td>Bus</td>\n",
              "      <td>FTG-001-ABC-121</td>\n",
              "      <td>A-101</td>\n",
              "      <td>Express</td>\n",
              "      <td>Large</td>\n",
              "      <td>350</td>\n",
              "      <td>120</td>\n",
              "      <td>13.059816123454882, 77.77068662374292</td>\n",
              "      <td>65</td>\n",
              "      <td>KA11AB1234</td>\n",
              "      <td>Fraud</td>\n",
              "    </tr>\n",
              "    <tr>\n",
              "      <th>1</th>\n",
              "      <td>Car</td>\n",
              "      <td>FTG-002-XYZ-451</td>\n",
              "      <td>B-102</td>\n",
              "      <td>Regular</td>\n",
              "      <td>Small</td>\n",
              "      <td>120</td>\n",
              "      <td>100</td>\n",
              "      <td>13.059816123454882, 77.77068662374292</td>\n",
              "      <td>78</td>\n",
              "      <td>KA66CD5678</td>\n",
              "      <td>Fraud</td>\n",
              "    </tr>\n",
              "    <tr>\n",
              "      <th>2</th>\n",
              "      <td>Motorcycle</td>\n",
              "      <td>NaN</td>\n",
              "      <td>D-104</td>\n",
              "      <td>Regular</td>\n",
              "      <td>Small</td>\n",
              "      <td>0</td>\n",
              "      <td>0</td>\n",
              "      <td>13.059816123454882, 77.77068662374292</td>\n",
              "      <td>53</td>\n",
              "      <td>KA88EF9012</td>\n",
              "      <td>Not Fraud</td>\n",
              "    </tr>\n",
              "  </tbody>\n",
              "</table>\n",
              "</div>\n",
              "    <div class=\"colab-df-buttons\">\n",
              "\n",
              "  <div class=\"colab-df-container\">\n",
              "    <button class=\"colab-df-convert\" onclick=\"convertToInteractive('df-a5b4c47a-3d35-4c0f-9e9a-22c89c103151')\"\n",
              "            title=\"Convert this dataframe to an interactive table.\"\n",
              "            style=\"display:none;\">\n",
              "\n",
              "  <svg xmlns=\"http://www.w3.org/2000/svg\" height=\"24px\" viewBox=\"0 -960 960 960\">\n",
              "    <path d=\"M120-120v-720h720v720H120Zm60-500h600v-160H180v160Zm220 220h160v-160H400v160Zm0 220h160v-160H400v160ZM180-400h160v-160H180v160Zm440 0h160v-160H620v160ZM180-180h160v-160H180v160Zm440 0h160v-160H620v160Z\"/>\n",
              "  </svg>\n",
              "    </button>\n",
              "\n",
              "  <style>\n",
              "    .colab-df-container {\n",
              "      display:flex;\n",
              "      gap: 12px;\n",
              "    }\n",
              "\n",
              "    .colab-df-convert {\n",
              "      background-color: #E8F0FE;\n",
              "      border: none;\n",
              "      border-radius: 50%;\n",
              "      cursor: pointer;\n",
              "      display: none;\n",
              "      fill: #1967D2;\n",
              "      height: 32px;\n",
              "      padding: 0 0 0 0;\n",
              "      width: 32px;\n",
              "    }\n",
              "\n",
              "    .colab-df-convert:hover {\n",
              "      background-color: #E2EBFA;\n",
              "      box-shadow: 0px 1px 2px rgba(60, 64, 67, 0.3), 0px 1px 3px 1px rgba(60, 64, 67, 0.15);\n",
              "      fill: #174EA6;\n",
              "    }\n",
              "\n",
              "    .colab-df-buttons div {\n",
              "      margin-bottom: 4px;\n",
              "    }\n",
              "\n",
              "    [theme=dark] .colab-df-convert {\n",
              "      background-color: #3B4455;\n",
              "      fill: #D2E3FC;\n",
              "    }\n",
              "\n",
              "    [theme=dark] .colab-df-convert:hover {\n",
              "      background-color: #434B5C;\n",
              "      box-shadow: 0px 1px 3px 1px rgba(0, 0, 0, 0.15);\n",
              "      filter: drop-shadow(0px 1px 2px rgba(0, 0, 0, 0.3));\n",
              "      fill: #FFFFFF;\n",
              "    }\n",
              "  </style>\n",
              "\n",
              "    <script>\n",
              "      const buttonEl =\n",
              "        document.querySelector('#df-a5b4c47a-3d35-4c0f-9e9a-22c89c103151 button.colab-df-convert');\n",
              "      buttonEl.style.display =\n",
              "        google.colab.kernel.accessAllowed ? 'block' : 'none';\n",
              "\n",
              "      async function convertToInteractive(key) {\n",
              "        const element = document.querySelector('#df-a5b4c47a-3d35-4c0f-9e9a-22c89c103151');\n",
              "        const dataTable =\n",
              "          await google.colab.kernel.invokeFunction('convertToInteractive',\n",
              "                                                    [key], {});\n",
              "        if (!dataTable) return;\n",
              "\n",
              "        const docLinkHtml = 'Like what you see? Visit the ' +\n",
              "          '<a target=\"_blank\" href=https://colab.research.google.com/notebooks/data_table.ipynb>data table notebook</a>'\n",
              "          + ' to learn more about interactive tables.';\n",
              "        element.innerHTML = '';\n",
              "        dataTable['output_type'] = 'display_data';\n",
              "        await google.colab.output.renderOutput(dataTable, element);\n",
              "        const docLink = document.createElement('div');\n",
              "        docLink.innerHTML = docLinkHtml;\n",
              "        element.appendChild(docLink);\n",
              "      }\n",
              "    </script>\n",
              "  </div>\n",
              "\n",
              "\n",
              "<div id=\"df-f55b841f-268d-434b-b66f-dc835b076705\">\n",
              "  <button class=\"colab-df-quickchart\" onclick=\"quickchart('df-f55b841f-268d-434b-b66f-dc835b076705')\"\n",
              "            title=\"Suggest charts\"\n",
              "            style=\"display:none;\">\n",
              "\n",
              "<svg xmlns=\"http://www.w3.org/2000/svg\" height=\"24px\"viewBox=\"0 0 24 24\"\n",
              "     width=\"24px\">\n",
              "    <g>\n",
              "        <path d=\"M19 3H5c-1.1 0-2 .9-2 2v14c0 1.1.9 2 2 2h14c1.1 0 2-.9 2-2V5c0-1.1-.9-2-2-2zM9 17H7v-7h2v7zm4 0h-2V7h2v10zm4 0h-2v-4h2v4z\"/>\n",
              "    </g>\n",
              "</svg>\n",
              "  </button>\n",
              "\n",
              "<style>\n",
              "  .colab-df-quickchart {\n",
              "      --bg-color: #E8F0FE;\n",
              "      --fill-color: #1967D2;\n",
              "      --hover-bg-color: #E2EBFA;\n",
              "      --hover-fill-color: #174EA6;\n",
              "      --disabled-fill-color: #AAA;\n",
              "      --disabled-bg-color: #DDD;\n",
              "  }\n",
              "\n",
              "  [theme=dark] .colab-df-quickchart {\n",
              "      --bg-color: #3B4455;\n",
              "      --fill-color: #D2E3FC;\n",
              "      --hover-bg-color: #434B5C;\n",
              "      --hover-fill-color: #FFFFFF;\n",
              "      --disabled-bg-color: #3B4455;\n",
              "      --disabled-fill-color: #666;\n",
              "  }\n",
              "\n",
              "  .colab-df-quickchart {\n",
              "    background-color: var(--bg-color);\n",
              "    border: none;\n",
              "    border-radius: 50%;\n",
              "    cursor: pointer;\n",
              "    display: none;\n",
              "    fill: var(--fill-color);\n",
              "    height: 32px;\n",
              "    padding: 0;\n",
              "    width: 32px;\n",
              "  }\n",
              "\n",
              "  .colab-df-quickchart:hover {\n",
              "    background-color: var(--hover-bg-color);\n",
              "    box-shadow: 0 1px 2px rgba(60, 64, 67, 0.3), 0 1px 3px 1px rgba(60, 64, 67, 0.15);\n",
              "    fill: var(--button-hover-fill-color);\n",
              "  }\n",
              "\n",
              "  .colab-df-quickchart-complete:disabled,\n",
              "  .colab-df-quickchart-complete:disabled:hover {\n",
              "    background-color: var(--disabled-bg-color);\n",
              "    fill: var(--disabled-fill-color);\n",
              "    box-shadow: none;\n",
              "  }\n",
              "\n",
              "  .colab-df-spinner {\n",
              "    border: 2px solid var(--fill-color);\n",
              "    border-color: transparent;\n",
              "    border-bottom-color: var(--fill-color);\n",
              "    animation:\n",
              "      spin 1s steps(1) infinite;\n",
              "  }\n",
              "\n",
              "  @keyframes spin {\n",
              "    0% {\n",
              "      border-color: transparent;\n",
              "      border-bottom-color: var(--fill-color);\n",
              "      border-left-color: var(--fill-color);\n",
              "    }\n",
              "    20% {\n",
              "      border-color: transparent;\n",
              "      border-left-color: var(--fill-color);\n",
              "      border-top-color: var(--fill-color);\n",
              "    }\n",
              "    30% {\n",
              "      border-color: transparent;\n",
              "      border-left-color: var(--fill-color);\n",
              "      border-top-color: var(--fill-color);\n",
              "      border-right-color: var(--fill-color);\n",
              "    }\n",
              "    40% {\n",
              "      border-color: transparent;\n",
              "      border-right-color: var(--fill-color);\n",
              "      border-top-color: var(--fill-color);\n",
              "    }\n",
              "    60% {\n",
              "      border-color: transparent;\n",
              "      border-right-color: var(--fill-color);\n",
              "    }\n",
              "    80% {\n",
              "      border-color: transparent;\n",
              "      border-right-color: var(--fill-color);\n",
              "      border-bottom-color: var(--fill-color);\n",
              "    }\n",
              "    90% {\n",
              "      border-color: transparent;\n",
              "      border-bottom-color: var(--fill-color);\n",
              "    }\n",
              "  }\n",
              "</style>\n",
              "\n",
              "  <script>\n",
              "    async function quickchart(key) {\n",
              "      const quickchartButtonEl =\n",
              "        document.querySelector('#' + key + ' button');\n",
              "      quickchartButtonEl.disabled = true;  // To prevent multiple clicks.\n",
              "      quickchartButtonEl.classList.add('colab-df-spinner');\n",
              "      try {\n",
              "        const charts = await google.colab.kernel.invokeFunction(\n",
              "            'suggestCharts', [key], {});\n",
              "      } catch (error) {\n",
              "        console.error('Error during call to suggestCharts:', error);\n",
              "      }\n",
              "      quickchartButtonEl.classList.remove('colab-df-spinner');\n",
              "      quickchartButtonEl.classList.add('colab-df-quickchart-complete');\n",
              "    }\n",
              "    (() => {\n",
              "      let quickchartButtonEl =\n",
              "        document.querySelector('#df-f55b841f-268d-434b-b66f-dc835b076705 button');\n",
              "      quickchartButtonEl.style.display =\n",
              "        google.colab.kernel.accessAllowed ? 'block' : 'none';\n",
              "    })();\n",
              "  </script>\n",
              "</div>\n",
              "\n",
              "    </div>\n",
              "  </div>\n"
            ],
            "application/vnd.google.colaboratory.intrinsic+json": {
              "type": "dataframe",
              "variable_name": "df",
              "summary": "{\n  \"name\": \"df\",\n  \"rows\": 5000,\n  \"fields\": [\n    {\n      \"column\": \"Vehicle_Type\",\n      \"properties\": {\n        \"dtype\": \"category\",\n        \"num_unique_values\": 7,\n        \"samples\": [\n          \"Bus \",\n          \"Car\",\n          \"Sedan\"\n        ],\n        \"semantic_type\": \"\",\n        \"description\": \"\"\n      }\n    },\n    {\n      \"column\": \"FastagID\",\n      \"properties\": {\n        \"dtype\": \"string\",\n        \"num_unique_values\": 4451,\n        \"samples\": [\n          \"FTG-580-DEF-850\",\n          \"FTG-083-PQR-333\",\n          \"FTG-125-EDC-765\"\n        ],\n        \"semantic_type\": \"\",\n        \"description\": \"\"\n      }\n    },\n    {\n      \"column\": \"TollBoothID\",\n      \"properties\": {\n        \"dtype\": \"category\",\n        \"num_unique_values\": 6,\n        \"samples\": [\n          \"A-101\",\n          \"B-102\",\n          \"D-106\"\n        ],\n        \"semantic_type\": \"\",\n        \"description\": \"\"\n      }\n    },\n    {\n      \"column\": \"Lane_Type\",\n      \"properties\": {\n        \"dtype\": \"category\",\n        \"num_unique_values\": 2,\n        \"samples\": [\n          \"Regular\",\n          \"Express\"\n        ],\n        \"semantic_type\": \"\",\n        \"description\": \"\"\n      }\n    },\n    {\n      \"column\": \"Vehicle_Dimensions\",\n      \"properties\": {\n        \"dtype\": \"category\",\n        \"num_unique_values\": 3,\n        \"samples\": [\n          \"Large\",\n          \"Small\"\n        ],\n        \"semantic_type\": \"\",\n        \"description\": \"\"\n      }\n    },\n    {\n      \"column\": \"Transaction_Amount\",\n      \"properties\": {\n        \"dtype\": \"number\",\n        \"std\": 112,\n        \"min\": 0,\n        \"max\": 350,\n        \"num_unique_values\": 20,\n        \"samples\": [\n          350,\n          330\n        ],\n        \"semantic_type\": \"\",\n        \"description\": \"\"\n      }\n    },\n    {\n      \"column\": \"Amount_paid\",\n      \"properties\": {\n        \"dtype\": \"number\",\n        \"std\": 106,\n        \"min\": 0,\n        \"max\": 350,\n        \"num_unique_values\": 23,\n        \"samples\": [\n          340,\n          60\n        ],\n        \"semantic_type\": \"\",\n        \"description\": \"\"\n      }\n    },\n    {\n      \"column\": \"Geographical_Location\",\n      \"properties\": {\n        \"dtype\": \"category\",\n        \"num_unique_values\": 5,\n        \"samples\": [\n          \"13.042660878688794, 77.47580097259879\",\n          \"13.21331620748757, 77.55413526894684\"\n        ],\n        \"semantic_type\": \"\",\n        \"description\": \"\"\n      }\n    },\n    {\n      \"column\": \"Vehicle_Speed\",\n      \"properties\": {\n        \"dtype\": \"number\",\n        \"std\": 16,\n        \"min\": 10,\n        \"max\": 118,\n        \"num_unique_values\": 85,\n        \"samples\": [\n          35,\n          65\n        ],\n        \"semantic_type\": \"\",\n        \"description\": \"\"\n      }\n    },\n    {\n      \"column\": \"Vehicle_Plate_Number\",\n      \"properties\": {\n        \"dtype\": \"string\",\n        \"num_unique_values\": 5000,\n        \"samples\": [\n          \"KA05CD5678\",\n          \"KA67LM4267\"\n        ],\n        \"semantic_type\": \"\",\n        \"description\": \"\"\n      }\n    },\n    {\n      \"column\": \"Fraud_indicator\",\n      \"properties\": {\n        \"dtype\": \"category\",\n        \"num_unique_values\": 2,\n        \"samples\": [\n          \"Not Fraud\",\n          \"Fraud\"\n        ],\n        \"semantic_type\": \"\",\n        \"description\": \"\"\n      }\n    }\n  ]\n}"
            }
          },
          "metadata": {},
          "execution_count": 11
        }
      ]
    },
    {
      "cell_type": "code",
      "source": [
        "df.info()"
      ],
      "metadata": {
        "execution": {
          "iopub.status.busy": "2024-07-18T04:52:00.84067Z",
          "iopub.execute_input": "2024-07-18T04:52:00.841195Z",
          "iopub.status.idle": "2024-07-18T04:52:00.868485Z",
          "shell.execute_reply.started": "2024-07-18T04:52:00.841158Z",
          "shell.execute_reply": "2024-07-18T04:52:00.866331Z"
        },
        "trusted": true,
        "id": "7LywSe6uXdzk",
        "outputId": "d71932cb-795a-4d95-a90e-d7b6d5fc08d2",
        "colab": {
          "base_uri": "https://localhost:8080/"
        }
      },
      "execution_count": null,
      "outputs": [
        {
          "output_type": "stream",
          "name": "stdout",
          "text": [
            "<class 'pandas.core.frame.DataFrame'>\n",
            "RangeIndex: 5000 entries, 0 to 4999\n",
            "Data columns (total 11 columns):\n",
            " #   Column                 Non-Null Count  Dtype \n",
            "---  ------                 --------------  ----- \n",
            " 0   Vehicle_Type           5000 non-null   object\n",
            " 1   FastagID               4451 non-null   object\n",
            " 2   TollBoothID            5000 non-null   object\n",
            " 3   Lane_Type              5000 non-null   object\n",
            " 4   Vehicle_Dimensions     5000 non-null   object\n",
            " 5   Transaction_Amount     5000 non-null   int64 \n",
            " 6   Amount_paid            5000 non-null   int64 \n",
            " 7   Geographical_Location  5000 non-null   object\n",
            " 8   Vehicle_Speed          5000 non-null   int64 \n",
            " 9   Vehicle_Plate_Number   5000 non-null   object\n",
            " 10  Fraud_indicator        5000 non-null   object\n",
            "dtypes: int64(3), object(8)\n",
            "memory usage: 429.8+ KB\n"
          ]
        }
      ]
    },
    {
      "cell_type": "code",
      "source": [
        "df.describe()"
      ],
      "metadata": {
        "execution": {
          "iopub.status.busy": "2024-07-18T04:52:13.899042Z",
          "iopub.execute_input": "2024-07-18T04:52:13.900441Z",
          "iopub.status.idle": "2024-07-18T04:52:13.929972Z",
          "shell.execute_reply.started": "2024-07-18T04:52:13.900394Z",
          "shell.execute_reply": "2024-07-18T04:52:13.928359Z"
        },
        "trusted": true,
        "id": "5HHuPC04Xdzk",
        "outputId": "de0df7f4-a793-4791-dfba-91b5f870448e",
        "colab": {
          "base_uri": "https://localhost:8080/",
          "height": 300
        }
      },
      "execution_count": null,
      "outputs": [
        {
          "output_type": "execute_result",
          "data": {
            "text/plain": [
              "       Transaction_Amount  Amount_paid  Vehicle_Speed\n",
              "count          5000.00000  5000.000000    5000.000000\n",
              "mean            161.06200   141.261000      67.851200\n",
              "std             112.44995   106.480996      16.597547\n",
              "min               0.00000     0.000000      10.000000\n",
              "25%             100.00000    90.000000      54.000000\n",
              "50%             130.00000   120.000000      67.000000\n",
              "75%             290.00000   160.000000      82.000000\n",
              "max             350.00000   350.000000     118.000000"
            ],
            "text/html": [
              "\n",
              "  <div id=\"df-1795c225-549e-45e2-bedd-c03c3e96d5ed\" class=\"colab-df-container\">\n",
              "    <div>\n",
              "<style scoped>\n",
              "    .dataframe tbody tr th:only-of-type {\n",
              "        vertical-align: middle;\n",
              "    }\n",
              "\n",
              "    .dataframe tbody tr th {\n",
              "        vertical-align: top;\n",
              "    }\n",
              "\n",
              "    .dataframe thead th {\n",
              "        text-align: right;\n",
              "    }\n",
              "</style>\n",
              "<table border=\"1\" class=\"dataframe\">\n",
              "  <thead>\n",
              "    <tr style=\"text-align: right;\">\n",
              "      <th></th>\n",
              "      <th>Transaction_Amount</th>\n",
              "      <th>Amount_paid</th>\n",
              "      <th>Vehicle_Speed</th>\n",
              "    </tr>\n",
              "  </thead>\n",
              "  <tbody>\n",
              "    <tr>\n",
              "      <th>count</th>\n",
              "      <td>5000.00000</td>\n",
              "      <td>5000.000000</td>\n",
              "      <td>5000.000000</td>\n",
              "    </tr>\n",
              "    <tr>\n",
              "      <th>mean</th>\n",
              "      <td>161.06200</td>\n",
              "      <td>141.261000</td>\n",
              "      <td>67.851200</td>\n",
              "    </tr>\n",
              "    <tr>\n",
              "      <th>std</th>\n",
              "      <td>112.44995</td>\n",
              "      <td>106.480996</td>\n",
              "      <td>16.597547</td>\n",
              "    </tr>\n",
              "    <tr>\n",
              "      <th>min</th>\n",
              "      <td>0.00000</td>\n",
              "      <td>0.000000</td>\n",
              "      <td>10.000000</td>\n",
              "    </tr>\n",
              "    <tr>\n",
              "      <th>25%</th>\n",
              "      <td>100.00000</td>\n",
              "      <td>90.000000</td>\n",
              "      <td>54.000000</td>\n",
              "    </tr>\n",
              "    <tr>\n",
              "      <th>50%</th>\n",
              "      <td>130.00000</td>\n",
              "      <td>120.000000</td>\n",
              "      <td>67.000000</td>\n",
              "    </tr>\n",
              "    <tr>\n",
              "      <th>75%</th>\n",
              "      <td>290.00000</td>\n",
              "      <td>160.000000</td>\n",
              "      <td>82.000000</td>\n",
              "    </tr>\n",
              "    <tr>\n",
              "      <th>max</th>\n",
              "      <td>350.00000</td>\n",
              "      <td>350.000000</td>\n",
              "      <td>118.000000</td>\n",
              "    </tr>\n",
              "  </tbody>\n",
              "</table>\n",
              "</div>\n",
              "    <div class=\"colab-df-buttons\">\n",
              "\n",
              "  <div class=\"colab-df-container\">\n",
              "    <button class=\"colab-df-convert\" onclick=\"convertToInteractive('df-1795c225-549e-45e2-bedd-c03c3e96d5ed')\"\n",
              "            title=\"Convert this dataframe to an interactive table.\"\n",
              "            style=\"display:none;\">\n",
              "\n",
              "  <svg xmlns=\"http://www.w3.org/2000/svg\" height=\"24px\" viewBox=\"0 -960 960 960\">\n",
              "    <path d=\"M120-120v-720h720v720H120Zm60-500h600v-160H180v160Zm220 220h160v-160H400v160Zm0 220h160v-160H400v160ZM180-400h160v-160H180v160Zm440 0h160v-160H620v160ZM180-180h160v-160H180v160Zm440 0h160v-160H620v160Z\"/>\n",
              "  </svg>\n",
              "    </button>\n",
              "\n",
              "  <style>\n",
              "    .colab-df-container {\n",
              "      display:flex;\n",
              "      gap: 12px;\n",
              "    }\n",
              "\n",
              "    .colab-df-convert {\n",
              "      background-color: #E8F0FE;\n",
              "      border: none;\n",
              "      border-radius: 50%;\n",
              "      cursor: pointer;\n",
              "      display: none;\n",
              "      fill: #1967D2;\n",
              "      height: 32px;\n",
              "      padding: 0 0 0 0;\n",
              "      width: 32px;\n",
              "    }\n",
              "\n",
              "    .colab-df-convert:hover {\n",
              "      background-color: #E2EBFA;\n",
              "      box-shadow: 0px 1px 2px rgba(60, 64, 67, 0.3), 0px 1px 3px 1px rgba(60, 64, 67, 0.15);\n",
              "      fill: #174EA6;\n",
              "    }\n",
              "\n",
              "    .colab-df-buttons div {\n",
              "      margin-bottom: 4px;\n",
              "    }\n",
              "\n",
              "    [theme=dark] .colab-df-convert {\n",
              "      background-color: #3B4455;\n",
              "      fill: #D2E3FC;\n",
              "    }\n",
              "\n",
              "    [theme=dark] .colab-df-convert:hover {\n",
              "      background-color: #434B5C;\n",
              "      box-shadow: 0px 1px 3px 1px rgba(0, 0, 0, 0.15);\n",
              "      filter: drop-shadow(0px 1px 2px rgba(0, 0, 0, 0.3));\n",
              "      fill: #FFFFFF;\n",
              "    }\n",
              "  </style>\n",
              "\n",
              "    <script>\n",
              "      const buttonEl =\n",
              "        document.querySelector('#df-1795c225-549e-45e2-bedd-c03c3e96d5ed button.colab-df-convert');\n",
              "      buttonEl.style.display =\n",
              "        google.colab.kernel.accessAllowed ? 'block' : 'none';\n",
              "\n",
              "      async function convertToInteractive(key) {\n",
              "        const element = document.querySelector('#df-1795c225-549e-45e2-bedd-c03c3e96d5ed');\n",
              "        const dataTable =\n",
              "          await google.colab.kernel.invokeFunction('convertToInteractive',\n",
              "                                                    [key], {});\n",
              "        if (!dataTable) return;\n",
              "\n",
              "        const docLinkHtml = 'Like what you see? Visit the ' +\n",
              "          '<a target=\"_blank\" href=https://colab.research.google.com/notebooks/data_table.ipynb>data table notebook</a>'\n",
              "          + ' to learn more about interactive tables.';\n",
              "        element.innerHTML = '';\n",
              "        dataTable['output_type'] = 'display_data';\n",
              "        await google.colab.output.renderOutput(dataTable, element);\n",
              "        const docLink = document.createElement('div');\n",
              "        docLink.innerHTML = docLinkHtml;\n",
              "        element.appendChild(docLink);\n",
              "      }\n",
              "    </script>\n",
              "  </div>\n",
              "\n",
              "\n",
              "<div id=\"df-f8f994ad-29e5-4f4a-876e-b725c61199c8\">\n",
              "  <button class=\"colab-df-quickchart\" onclick=\"quickchart('df-f8f994ad-29e5-4f4a-876e-b725c61199c8')\"\n",
              "            title=\"Suggest charts\"\n",
              "            style=\"display:none;\">\n",
              "\n",
              "<svg xmlns=\"http://www.w3.org/2000/svg\" height=\"24px\"viewBox=\"0 0 24 24\"\n",
              "     width=\"24px\">\n",
              "    <g>\n",
              "        <path d=\"M19 3H5c-1.1 0-2 .9-2 2v14c0 1.1.9 2 2 2h14c1.1 0 2-.9 2-2V5c0-1.1-.9-2-2-2zM9 17H7v-7h2v7zm4 0h-2V7h2v10zm4 0h-2v-4h2v4z\"/>\n",
              "    </g>\n",
              "</svg>\n",
              "  </button>\n",
              "\n",
              "<style>\n",
              "  .colab-df-quickchart {\n",
              "      --bg-color: #E8F0FE;\n",
              "      --fill-color: #1967D2;\n",
              "      --hover-bg-color: #E2EBFA;\n",
              "      --hover-fill-color: #174EA6;\n",
              "      --disabled-fill-color: #AAA;\n",
              "      --disabled-bg-color: #DDD;\n",
              "  }\n",
              "\n",
              "  [theme=dark] .colab-df-quickchart {\n",
              "      --bg-color: #3B4455;\n",
              "      --fill-color: #D2E3FC;\n",
              "      --hover-bg-color: #434B5C;\n",
              "      --hover-fill-color: #FFFFFF;\n",
              "      --disabled-bg-color: #3B4455;\n",
              "      --disabled-fill-color: #666;\n",
              "  }\n",
              "\n",
              "  .colab-df-quickchart {\n",
              "    background-color: var(--bg-color);\n",
              "    border: none;\n",
              "    border-radius: 50%;\n",
              "    cursor: pointer;\n",
              "    display: none;\n",
              "    fill: var(--fill-color);\n",
              "    height: 32px;\n",
              "    padding: 0;\n",
              "    width: 32px;\n",
              "  }\n",
              "\n",
              "  .colab-df-quickchart:hover {\n",
              "    background-color: var(--hover-bg-color);\n",
              "    box-shadow: 0 1px 2px rgba(60, 64, 67, 0.3), 0 1px 3px 1px rgba(60, 64, 67, 0.15);\n",
              "    fill: var(--button-hover-fill-color);\n",
              "  }\n",
              "\n",
              "  .colab-df-quickchart-complete:disabled,\n",
              "  .colab-df-quickchart-complete:disabled:hover {\n",
              "    background-color: var(--disabled-bg-color);\n",
              "    fill: var(--disabled-fill-color);\n",
              "    box-shadow: none;\n",
              "  }\n",
              "\n",
              "  .colab-df-spinner {\n",
              "    border: 2px solid var(--fill-color);\n",
              "    border-color: transparent;\n",
              "    border-bottom-color: var(--fill-color);\n",
              "    animation:\n",
              "      spin 1s steps(1) infinite;\n",
              "  }\n",
              "\n",
              "  @keyframes spin {\n",
              "    0% {\n",
              "      border-color: transparent;\n",
              "      border-bottom-color: var(--fill-color);\n",
              "      border-left-color: var(--fill-color);\n",
              "    }\n",
              "    20% {\n",
              "      border-color: transparent;\n",
              "      border-left-color: var(--fill-color);\n",
              "      border-top-color: var(--fill-color);\n",
              "    }\n",
              "    30% {\n",
              "      border-color: transparent;\n",
              "      border-left-color: var(--fill-color);\n",
              "      border-top-color: var(--fill-color);\n",
              "      border-right-color: var(--fill-color);\n",
              "    }\n",
              "    40% {\n",
              "      border-color: transparent;\n",
              "      border-right-color: var(--fill-color);\n",
              "      border-top-color: var(--fill-color);\n",
              "    }\n",
              "    60% {\n",
              "      border-color: transparent;\n",
              "      border-right-color: var(--fill-color);\n",
              "    }\n",
              "    80% {\n",
              "      border-color: transparent;\n",
              "      border-right-color: var(--fill-color);\n",
              "      border-bottom-color: var(--fill-color);\n",
              "    }\n",
              "    90% {\n",
              "      border-color: transparent;\n",
              "      border-bottom-color: var(--fill-color);\n",
              "    }\n",
              "  }\n",
              "</style>\n",
              "\n",
              "  <script>\n",
              "    async function quickchart(key) {\n",
              "      const quickchartButtonEl =\n",
              "        document.querySelector('#' + key + ' button');\n",
              "      quickchartButtonEl.disabled = true;  // To prevent multiple clicks.\n",
              "      quickchartButtonEl.classList.add('colab-df-spinner');\n",
              "      try {\n",
              "        const charts = await google.colab.kernel.invokeFunction(\n",
              "            'suggestCharts', [key], {});\n",
              "      } catch (error) {\n",
              "        console.error('Error during call to suggestCharts:', error);\n",
              "      }\n",
              "      quickchartButtonEl.classList.remove('colab-df-spinner');\n",
              "      quickchartButtonEl.classList.add('colab-df-quickchart-complete');\n",
              "    }\n",
              "    (() => {\n",
              "      let quickchartButtonEl =\n",
              "        document.querySelector('#df-f8f994ad-29e5-4f4a-876e-b725c61199c8 button');\n",
              "      quickchartButtonEl.style.display =\n",
              "        google.colab.kernel.accessAllowed ? 'block' : 'none';\n",
              "    })();\n",
              "  </script>\n",
              "</div>\n",
              "\n",
              "    </div>\n",
              "  </div>\n"
            ],
            "application/vnd.google.colaboratory.intrinsic+json": {
              "type": "dataframe",
              "summary": "{\n  \"name\": \"df\",\n  \"rows\": 8,\n  \"fields\": [\n    {\n      \"column\": \"Transaction_Amount\",\n      \"properties\": {\n        \"dtype\": \"number\",\n        \"std\": 1713.5695231513625,\n        \"min\": 0.0,\n        \"max\": 5000.0,\n        \"num_unique_values\": 8,\n        \"samples\": [\n          161.062,\n          130.0,\n          5000.0\n        ],\n        \"semantic_type\": \"\",\n        \"description\": \"\"\n      }\n    },\n    {\n      \"column\": \"Amount_paid\",\n      \"properties\": {\n        \"dtype\": \"number\",\n        \"std\": 1721.7163283112593,\n        \"min\": 0.0,\n        \"max\": 5000.0,\n        \"num_unique_values\": 8,\n        \"samples\": [\n          141.261,\n          120.0,\n          5000.0\n        ],\n        \"semantic_type\": \"\",\n        \"description\": \"\"\n      }\n    },\n    {\n      \"column\": \"Vehicle_Speed\",\n      \"properties\": {\n        \"dtype\": \"number\",\n        \"std\": 1747.1260737470761,\n        \"min\": 10.0,\n        \"max\": 5000.0,\n        \"num_unique_values\": 8,\n        \"samples\": [\n          67.8512,\n          67.0,\n          5000.0\n        ],\n        \"semantic_type\": \"\",\n        \"description\": \"\"\n      }\n    }\n  ]\n}"
            }
          },
          "metadata": {},
          "execution_count": 13
        }
      ]
    },
    {
      "cell_type": "code",
      "source": [
        "df.select_dtypes(include=\"number\").corr()"
      ],
      "metadata": {
        "execution": {
          "iopub.status.busy": "2024-07-18T04:58:21.989481Z",
          "iopub.execute_input": "2024-07-18T04:58:21.989981Z",
          "iopub.status.idle": "2024-07-18T04:58:22.00818Z",
          "shell.execute_reply.started": "2024-07-18T04:58:21.989944Z",
          "shell.execute_reply": "2024-07-18T04:58:22.006841Z"
        },
        "trusted": true,
        "id": "hzNR6r6aXdzk",
        "outputId": "9ef03788-a7d8-4281-ebf5-8c35c1e045bf",
        "colab": {
          "base_uri": "https://localhost:8080/",
          "height": 143
        }
      },
      "execution_count": null,
      "outputs": [
        {
          "output_type": "execute_result",
          "data": {
            "text/plain": [
              "                    Transaction_Amount  Amount_paid  Vehicle_Speed\n",
              "Transaction_Amount            1.000000     0.870078       0.053229\n",
              "Amount_paid                   0.870078     1.000000       0.039027\n",
              "Vehicle_Speed                 0.053229     0.039027       1.000000"
            ],
            "text/html": [
              "\n",
              "  <div id=\"df-b4465788-b278-4eea-be52-56568d3c37d5\" class=\"colab-df-container\">\n",
              "    <div>\n",
              "<style scoped>\n",
              "    .dataframe tbody tr th:only-of-type {\n",
              "        vertical-align: middle;\n",
              "    }\n",
              "\n",
              "    .dataframe tbody tr th {\n",
              "        vertical-align: top;\n",
              "    }\n",
              "\n",
              "    .dataframe thead th {\n",
              "        text-align: right;\n",
              "    }\n",
              "</style>\n",
              "<table border=\"1\" class=\"dataframe\">\n",
              "  <thead>\n",
              "    <tr style=\"text-align: right;\">\n",
              "      <th></th>\n",
              "      <th>Transaction_Amount</th>\n",
              "      <th>Amount_paid</th>\n",
              "      <th>Vehicle_Speed</th>\n",
              "    </tr>\n",
              "  </thead>\n",
              "  <tbody>\n",
              "    <tr>\n",
              "      <th>Transaction_Amount</th>\n",
              "      <td>1.000000</td>\n",
              "      <td>0.870078</td>\n",
              "      <td>0.053229</td>\n",
              "    </tr>\n",
              "    <tr>\n",
              "      <th>Amount_paid</th>\n",
              "      <td>0.870078</td>\n",
              "      <td>1.000000</td>\n",
              "      <td>0.039027</td>\n",
              "    </tr>\n",
              "    <tr>\n",
              "      <th>Vehicle_Speed</th>\n",
              "      <td>0.053229</td>\n",
              "      <td>0.039027</td>\n",
              "      <td>1.000000</td>\n",
              "    </tr>\n",
              "  </tbody>\n",
              "</table>\n",
              "</div>\n",
              "    <div class=\"colab-df-buttons\">\n",
              "\n",
              "  <div class=\"colab-df-container\">\n",
              "    <button class=\"colab-df-convert\" onclick=\"convertToInteractive('df-b4465788-b278-4eea-be52-56568d3c37d5')\"\n",
              "            title=\"Convert this dataframe to an interactive table.\"\n",
              "            style=\"display:none;\">\n",
              "\n",
              "  <svg xmlns=\"http://www.w3.org/2000/svg\" height=\"24px\" viewBox=\"0 -960 960 960\">\n",
              "    <path d=\"M120-120v-720h720v720H120Zm60-500h600v-160H180v160Zm220 220h160v-160H400v160Zm0 220h160v-160H400v160ZM180-400h160v-160H180v160Zm440 0h160v-160H620v160ZM180-180h160v-160H180v160Zm440 0h160v-160H620v160Z\"/>\n",
              "  </svg>\n",
              "    </button>\n",
              "\n",
              "  <style>\n",
              "    .colab-df-container {\n",
              "      display:flex;\n",
              "      gap: 12px;\n",
              "    }\n",
              "\n",
              "    .colab-df-convert {\n",
              "      background-color: #E8F0FE;\n",
              "      border: none;\n",
              "      border-radius: 50%;\n",
              "      cursor: pointer;\n",
              "      display: none;\n",
              "      fill: #1967D2;\n",
              "      height: 32px;\n",
              "      padding: 0 0 0 0;\n",
              "      width: 32px;\n",
              "    }\n",
              "\n",
              "    .colab-df-convert:hover {\n",
              "      background-color: #E2EBFA;\n",
              "      box-shadow: 0px 1px 2px rgba(60, 64, 67, 0.3), 0px 1px 3px 1px rgba(60, 64, 67, 0.15);\n",
              "      fill: #174EA6;\n",
              "    }\n",
              "\n",
              "    .colab-df-buttons div {\n",
              "      margin-bottom: 4px;\n",
              "    }\n",
              "\n",
              "    [theme=dark] .colab-df-convert {\n",
              "      background-color: #3B4455;\n",
              "      fill: #D2E3FC;\n",
              "    }\n",
              "\n",
              "    [theme=dark] .colab-df-convert:hover {\n",
              "      background-color: #434B5C;\n",
              "      box-shadow: 0px 1px 3px 1px rgba(0, 0, 0, 0.15);\n",
              "      filter: drop-shadow(0px 1px 2px rgba(0, 0, 0, 0.3));\n",
              "      fill: #FFFFFF;\n",
              "    }\n",
              "  </style>\n",
              "\n",
              "    <script>\n",
              "      const buttonEl =\n",
              "        document.querySelector('#df-b4465788-b278-4eea-be52-56568d3c37d5 button.colab-df-convert');\n",
              "      buttonEl.style.display =\n",
              "        google.colab.kernel.accessAllowed ? 'block' : 'none';\n",
              "\n",
              "      async function convertToInteractive(key) {\n",
              "        const element = document.querySelector('#df-b4465788-b278-4eea-be52-56568d3c37d5');\n",
              "        const dataTable =\n",
              "          await google.colab.kernel.invokeFunction('convertToInteractive',\n",
              "                                                    [key], {});\n",
              "        if (!dataTable) return;\n",
              "\n",
              "        const docLinkHtml = 'Like what you see? Visit the ' +\n",
              "          '<a target=\"_blank\" href=https://colab.research.google.com/notebooks/data_table.ipynb>data table notebook</a>'\n",
              "          + ' to learn more about interactive tables.';\n",
              "        element.innerHTML = '';\n",
              "        dataTable['output_type'] = 'display_data';\n",
              "        await google.colab.output.renderOutput(dataTable, element);\n",
              "        const docLink = document.createElement('div');\n",
              "        docLink.innerHTML = docLinkHtml;\n",
              "        element.appendChild(docLink);\n",
              "      }\n",
              "    </script>\n",
              "  </div>\n",
              "\n",
              "\n",
              "<div id=\"df-83df3fda-c6c2-40f3-9f9a-6d49338b80bb\">\n",
              "  <button class=\"colab-df-quickchart\" onclick=\"quickchart('df-83df3fda-c6c2-40f3-9f9a-6d49338b80bb')\"\n",
              "            title=\"Suggest charts\"\n",
              "            style=\"display:none;\">\n",
              "\n",
              "<svg xmlns=\"http://www.w3.org/2000/svg\" height=\"24px\"viewBox=\"0 0 24 24\"\n",
              "     width=\"24px\">\n",
              "    <g>\n",
              "        <path d=\"M19 3H5c-1.1 0-2 .9-2 2v14c0 1.1.9 2 2 2h14c1.1 0 2-.9 2-2V5c0-1.1-.9-2-2-2zM9 17H7v-7h2v7zm4 0h-2V7h2v10zm4 0h-2v-4h2v4z\"/>\n",
              "    </g>\n",
              "</svg>\n",
              "  </button>\n",
              "\n",
              "<style>\n",
              "  .colab-df-quickchart {\n",
              "      --bg-color: #E8F0FE;\n",
              "      --fill-color: #1967D2;\n",
              "      --hover-bg-color: #E2EBFA;\n",
              "      --hover-fill-color: #174EA6;\n",
              "      --disabled-fill-color: #AAA;\n",
              "      --disabled-bg-color: #DDD;\n",
              "  }\n",
              "\n",
              "  [theme=dark] .colab-df-quickchart {\n",
              "      --bg-color: #3B4455;\n",
              "      --fill-color: #D2E3FC;\n",
              "      --hover-bg-color: #434B5C;\n",
              "      --hover-fill-color: #FFFFFF;\n",
              "      --disabled-bg-color: #3B4455;\n",
              "      --disabled-fill-color: #666;\n",
              "  }\n",
              "\n",
              "  .colab-df-quickchart {\n",
              "    background-color: var(--bg-color);\n",
              "    border: none;\n",
              "    border-radius: 50%;\n",
              "    cursor: pointer;\n",
              "    display: none;\n",
              "    fill: var(--fill-color);\n",
              "    height: 32px;\n",
              "    padding: 0;\n",
              "    width: 32px;\n",
              "  }\n",
              "\n",
              "  .colab-df-quickchart:hover {\n",
              "    background-color: var(--hover-bg-color);\n",
              "    box-shadow: 0 1px 2px rgba(60, 64, 67, 0.3), 0 1px 3px 1px rgba(60, 64, 67, 0.15);\n",
              "    fill: var(--button-hover-fill-color);\n",
              "  }\n",
              "\n",
              "  .colab-df-quickchart-complete:disabled,\n",
              "  .colab-df-quickchart-complete:disabled:hover {\n",
              "    background-color: var(--disabled-bg-color);\n",
              "    fill: var(--disabled-fill-color);\n",
              "    box-shadow: none;\n",
              "  }\n",
              "\n",
              "  .colab-df-spinner {\n",
              "    border: 2px solid var(--fill-color);\n",
              "    border-color: transparent;\n",
              "    border-bottom-color: var(--fill-color);\n",
              "    animation:\n",
              "      spin 1s steps(1) infinite;\n",
              "  }\n",
              "\n",
              "  @keyframes spin {\n",
              "    0% {\n",
              "      border-color: transparent;\n",
              "      border-bottom-color: var(--fill-color);\n",
              "      border-left-color: var(--fill-color);\n",
              "    }\n",
              "    20% {\n",
              "      border-color: transparent;\n",
              "      border-left-color: var(--fill-color);\n",
              "      border-top-color: var(--fill-color);\n",
              "    }\n",
              "    30% {\n",
              "      border-color: transparent;\n",
              "      border-left-color: var(--fill-color);\n",
              "      border-top-color: var(--fill-color);\n",
              "      border-right-color: var(--fill-color);\n",
              "    }\n",
              "    40% {\n",
              "      border-color: transparent;\n",
              "      border-right-color: var(--fill-color);\n",
              "      border-top-color: var(--fill-color);\n",
              "    }\n",
              "    60% {\n",
              "      border-color: transparent;\n",
              "      border-right-color: var(--fill-color);\n",
              "    }\n",
              "    80% {\n",
              "      border-color: transparent;\n",
              "      border-right-color: var(--fill-color);\n",
              "      border-bottom-color: var(--fill-color);\n",
              "    }\n",
              "    90% {\n",
              "      border-color: transparent;\n",
              "      border-bottom-color: var(--fill-color);\n",
              "    }\n",
              "  }\n",
              "</style>\n",
              "\n",
              "  <script>\n",
              "    async function quickchart(key) {\n",
              "      const quickchartButtonEl =\n",
              "        document.querySelector('#' + key + ' button');\n",
              "      quickchartButtonEl.disabled = true;  // To prevent multiple clicks.\n",
              "      quickchartButtonEl.classList.add('colab-df-spinner');\n",
              "      try {\n",
              "        const charts = await google.colab.kernel.invokeFunction(\n",
              "            'suggestCharts', [key], {});\n",
              "      } catch (error) {\n",
              "        console.error('Error during call to suggestCharts:', error);\n",
              "      }\n",
              "      quickchartButtonEl.classList.remove('colab-df-spinner');\n",
              "      quickchartButtonEl.classList.add('colab-df-quickchart-complete');\n",
              "    }\n",
              "    (() => {\n",
              "      let quickchartButtonEl =\n",
              "        document.querySelector('#df-83df3fda-c6c2-40f3-9f9a-6d49338b80bb button');\n",
              "      quickchartButtonEl.style.display =\n",
              "        google.colab.kernel.accessAllowed ? 'block' : 'none';\n",
              "    })();\n",
              "  </script>\n",
              "</div>\n",
              "\n",
              "    </div>\n",
              "  </div>\n"
            ],
            "application/vnd.google.colaboratory.intrinsic+json": {
              "type": "dataframe",
              "summary": "{\n  \"name\": \"df\",\n  \"rows\": 3,\n  \"fields\": [\n    {\n      \"column\": \"Transaction_Amount\",\n      \"properties\": {\n        \"dtype\": \"number\",\n        \"std\": 0.5132410960981122,\n        \"min\": 0.05322881075152211,\n        \"max\": 1.0,\n        \"num_unique_values\": 3,\n        \"samples\": [\n          1.0,\n          0.8700783839510144,\n          0.05322881075152211\n        ],\n        \"semantic_type\": \"\",\n        \"description\": \"\"\n      }\n    },\n    {\n      \"column\": \"Amount_paid\",\n      \"properties\": {\n        \"dtype\": \"number\",\n        \"std\": 0.5213755720157669,\n        \"min\": 0.03902705949809527,\n        \"max\": 1.0,\n        \"num_unique_values\": 3,\n        \"samples\": [\n          0.8700783839510144,\n          1.0,\n          0.03902705949809527\n        ],\n        \"semantic_type\": \"\",\n        \"description\": \"\"\n      }\n    },\n    {\n      \"column\": \"Vehicle_Speed\",\n      \"properties\": {\n        \"dtype\": \"number\",\n        \"std\": 0.550764070316035,\n        \"min\": 0.03902705949809527,\n        \"max\": 1.0,\n        \"num_unique_values\": 3,\n        \"samples\": [\n          0.05322881075152211,\n          0.03902705949809527,\n          1.0\n        ],\n        \"semantic_type\": \"\",\n        \"description\": \"\"\n      }\n    }\n  ]\n}"
            }
          },
          "metadata": {},
          "execution_count": 14
        }
      ]
    },
    {
      "cell_type": "code",
      "source": [
        "# split the coordinates\n",
        "df[['longitude', 'latitude']] = df['Geographical_Location'].str.strip('()').str.split(', ', expand=True)\n",
        "\n",
        "# Convert the columns to float type\n",
        "df['longitude'] = df['longitude'].astype(float)\n",
        "df['latitude'] = df['latitude'].astype(float)\n",
        "\n",
        "print(\"\\nDataFrame with separated longitude and latitude:\")\n",
        "print(df)\n"
      ],
      "metadata": {
        "execution": {
          "iopub.status.busy": "2024-07-18T05:02:46.697524Z",
          "iopub.execute_input": "2024-07-18T05:02:46.698578Z",
          "iopub.status.idle": "2024-07-18T05:02:46.743105Z",
          "shell.execute_reply.started": "2024-07-18T05:02:46.698535Z",
          "shell.execute_reply": "2024-07-18T05:02:46.741483Z"
        },
        "trusted": true,
        "id": "Pz--McyFXdzl",
        "outputId": "9786ffd5-f8f8-4257-dfd9-541b9fefe84f",
        "colab": {
          "base_uri": "https://localhost:8080/"
        }
      },
      "execution_count": null,
      "outputs": [
        {
          "output_type": "stream",
          "name": "stdout",
          "text": [
            "\n",
            "DataFrame with separated longitude and latitude:\n",
            "     Vehicle_Type         FastagID TollBoothID Lane_Type Vehicle_Dimensions  \\\n",
            "0            Bus   FTG-001-ABC-121       A-101   Express              Large   \n",
            "1             Car  FTG-002-XYZ-451       B-102   Regular              Small   \n",
            "2      Motorcycle              NaN       D-104   Regular              Small   \n",
            "3           Truck  FTG-044-LMN-322       C-103   Regular              Large   \n",
            "4             Van  FTG-505-DEF-652       B-102   Express             Medium   \n",
            "...           ...              ...         ...       ...                ...   \n",
            "4995        Truck  FTG-445-EDC-765       C-103   Regular              Large   \n",
            "4996          Van  FTG-446-LMK-432       B-102   Express             Medium   \n",
            "4997        Sedan  FTG-447-PLN-109       A-101   Regular             Medium   \n",
            "4998          SUV  FTG-458-VFR-876       B-102   Express              Large   \n",
            "4999         Bus   FTG-459-WSX-543       C-103   Regular              Large   \n",
            "\n",
            "      Transaction_Amount  Amount_paid                  Geographical_Location  \\\n",
            "0                    350          120  13.059816123454882, 77.77068662374292   \n",
            "1                    120          100  13.059816123454882, 77.77068662374292   \n",
            "2                      0            0  13.059816123454882, 77.77068662374292   \n",
            "3                    350          120  13.059816123454882, 77.77068662374292   \n",
            "4                    140          100  13.059816123454882, 77.77068662374292   \n",
            "...                  ...          ...                                    ...   \n",
            "4995                 330          330   13.21331620748757, 77.55413526894684   \n",
            "4996                 125          125   13.21331620748757, 77.55413526894684   \n",
            "4997                 115          115   13.21331620748757, 77.55413526894684   \n",
            "4998                 145          145   13.21331620748757, 77.55413526894684   \n",
            "4999                 330          125   13.21331620748757, 77.55413526894684   \n",
            "\n",
            "      Vehicle_Speed Vehicle_Plate_Number Fraud_indicator  longitude   latitude  \n",
            "0                65           KA11AB1234           Fraud  13.059816  77.770687  \n",
            "1                78           KA66CD5678           Fraud  13.059816  77.770687  \n",
            "2                53           KA88EF9012       Not Fraud  13.059816  77.770687  \n",
            "3                92           KA11GH3456           Fraud  13.059816  77.770687  \n",
            "4                60           KA44IJ6789           Fraud  13.059816  77.770687  \n",
            "...             ...                  ...             ...        ...        ...  \n",
            "4995             81           KA74ST0123       Not Fraud  13.213316  77.554135  \n",
            "4996             64           KA38UV3456       Not Fraud  13.213316  77.554135  \n",
            "4997             93           KA33WX6789       Not Fraud  13.213316  77.554135  \n",
            "4998             57           KA35YZ0123       Not Fraud  13.213316  77.554135  \n",
            "4999             86           KA37AB3456           Fraud  13.213316  77.554135  \n",
            "\n",
            "[5000 rows x 13 columns]\n"
          ]
        }
      ]
    },
    {
      "cell_type": "code",
      "source": [
        "df.head(3)"
      ],
      "metadata": {
        "execution": {
          "iopub.status.busy": "2024-07-18T05:04:02.770826Z",
          "iopub.execute_input": "2024-07-18T05:04:02.771386Z",
          "iopub.status.idle": "2024-07-18T05:04:02.793971Z",
          "shell.execute_reply.started": "2024-07-18T05:04:02.771347Z",
          "shell.execute_reply": "2024-07-18T05:04:02.792156Z"
        },
        "trusted": true,
        "id": "HY81c3lvXdzl",
        "outputId": "f74ae782-1b9b-483a-dbd0-eea476ac69d6",
        "colab": {
          "base_uri": "https://localhost:8080/",
          "height": 215
        }
      },
      "execution_count": null,
      "outputs": [
        {
          "output_type": "execute_result",
          "data": {
            "text/plain": [
              "  Vehicle_Type         FastagID TollBoothID Lane_Type Vehicle_Dimensions  \\\n",
              "0         Bus   FTG-001-ABC-121       A-101   Express              Large   \n",
              "1          Car  FTG-002-XYZ-451       B-102   Regular              Small   \n",
              "2   Motorcycle              NaN       D-104   Regular              Small   \n",
              "\n",
              "   Transaction_Amount  Amount_paid                  Geographical_Location  \\\n",
              "0                 350          120  13.059816123454882, 77.77068662374292   \n",
              "1                 120          100  13.059816123454882, 77.77068662374292   \n",
              "2                   0            0  13.059816123454882, 77.77068662374292   \n",
              "\n",
              "   Vehicle_Speed Vehicle_Plate_Number Fraud_indicator  longitude   latitude  \n",
              "0             65           KA11AB1234           Fraud  13.059816  77.770687  \n",
              "1             78           KA66CD5678           Fraud  13.059816  77.770687  \n",
              "2             53           KA88EF9012       Not Fraud  13.059816  77.770687  "
            ],
            "text/html": [
              "\n",
              "  <div id=\"df-963e236a-7647-4507-9286-8b65d7913cd7\" class=\"colab-df-container\">\n",
              "    <div>\n",
              "<style scoped>\n",
              "    .dataframe tbody tr th:only-of-type {\n",
              "        vertical-align: middle;\n",
              "    }\n",
              "\n",
              "    .dataframe tbody tr th {\n",
              "        vertical-align: top;\n",
              "    }\n",
              "\n",
              "    .dataframe thead th {\n",
              "        text-align: right;\n",
              "    }\n",
              "</style>\n",
              "<table border=\"1\" class=\"dataframe\">\n",
              "  <thead>\n",
              "    <tr style=\"text-align: right;\">\n",
              "      <th></th>\n",
              "      <th>Vehicle_Type</th>\n",
              "      <th>FastagID</th>\n",
              "      <th>TollBoothID</th>\n",
              "      <th>Lane_Type</th>\n",
              "      <th>Vehicle_Dimensions</th>\n",
              "      <th>Transaction_Amount</th>\n",
              "      <th>Amount_paid</th>\n",
              "      <th>Geographical_Location</th>\n",
              "      <th>Vehicle_Speed</th>\n",
              "      <th>Vehicle_Plate_Number</th>\n",
              "      <th>Fraud_indicator</th>\n",
              "      <th>longitude</th>\n",
              "      <th>latitude</th>\n",
              "    </tr>\n",
              "  </thead>\n",
              "  <tbody>\n",
              "    <tr>\n",
              "      <th>0</th>\n",
              "      <td>Bus</td>\n",
              "      <td>FTG-001-ABC-121</td>\n",
              "      <td>A-101</td>\n",
              "      <td>Express</td>\n",
              "      <td>Large</td>\n",
              "      <td>350</td>\n",
              "      <td>120</td>\n",
              "      <td>13.059816123454882, 77.77068662374292</td>\n",
              "      <td>65</td>\n",
              "      <td>KA11AB1234</td>\n",
              "      <td>Fraud</td>\n",
              "      <td>13.059816</td>\n",
              "      <td>77.770687</td>\n",
              "    </tr>\n",
              "    <tr>\n",
              "      <th>1</th>\n",
              "      <td>Car</td>\n",
              "      <td>FTG-002-XYZ-451</td>\n",
              "      <td>B-102</td>\n",
              "      <td>Regular</td>\n",
              "      <td>Small</td>\n",
              "      <td>120</td>\n",
              "      <td>100</td>\n",
              "      <td>13.059816123454882, 77.77068662374292</td>\n",
              "      <td>78</td>\n",
              "      <td>KA66CD5678</td>\n",
              "      <td>Fraud</td>\n",
              "      <td>13.059816</td>\n",
              "      <td>77.770687</td>\n",
              "    </tr>\n",
              "    <tr>\n",
              "      <th>2</th>\n",
              "      <td>Motorcycle</td>\n",
              "      <td>NaN</td>\n",
              "      <td>D-104</td>\n",
              "      <td>Regular</td>\n",
              "      <td>Small</td>\n",
              "      <td>0</td>\n",
              "      <td>0</td>\n",
              "      <td>13.059816123454882, 77.77068662374292</td>\n",
              "      <td>53</td>\n",
              "      <td>KA88EF9012</td>\n",
              "      <td>Not Fraud</td>\n",
              "      <td>13.059816</td>\n",
              "      <td>77.770687</td>\n",
              "    </tr>\n",
              "  </tbody>\n",
              "</table>\n",
              "</div>\n",
              "    <div class=\"colab-df-buttons\">\n",
              "\n",
              "  <div class=\"colab-df-container\">\n",
              "    <button class=\"colab-df-convert\" onclick=\"convertToInteractive('df-963e236a-7647-4507-9286-8b65d7913cd7')\"\n",
              "            title=\"Convert this dataframe to an interactive table.\"\n",
              "            style=\"display:none;\">\n",
              "\n",
              "  <svg xmlns=\"http://www.w3.org/2000/svg\" height=\"24px\" viewBox=\"0 -960 960 960\">\n",
              "    <path d=\"M120-120v-720h720v720H120Zm60-500h600v-160H180v160Zm220 220h160v-160H400v160Zm0 220h160v-160H400v160ZM180-400h160v-160H180v160Zm440 0h160v-160H620v160ZM180-180h160v-160H180v160Zm440 0h160v-160H620v160Z\"/>\n",
              "  </svg>\n",
              "    </button>\n",
              "\n",
              "  <style>\n",
              "    .colab-df-container {\n",
              "      display:flex;\n",
              "      gap: 12px;\n",
              "    }\n",
              "\n",
              "    .colab-df-convert {\n",
              "      background-color: #E8F0FE;\n",
              "      border: none;\n",
              "      border-radius: 50%;\n",
              "      cursor: pointer;\n",
              "      display: none;\n",
              "      fill: #1967D2;\n",
              "      height: 32px;\n",
              "      padding: 0 0 0 0;\n",
              "      width: 32px;\n",
              "    }\n",
              "\n",
              "    .colab-df-convert:hover {\n",
              "      background-color: #E2EBFA;\n",
              "      box-shadow: 0px 1px 2px rgba(60, 64, 67, 0.3), 0px 1px 3px 1px rgba(60, 64, 67, 0.15);\n",
              "      fill: #174EA6;\n",
              "    }\n",
              "\n",
              "    .colab-df-buttons div {\n",
              "      margin-bottom: 4px;\n",
              "    }\n",
              "\n",
              "    [theme=dark] .colab-df-convert {\n",
              "      background-color: #3B4455;\n",
              "      fill: #D2E3FC;\n",
              "    }\n",
              "\n",
              "    [theme=dark] .colab-df-convert:hover {\n",
              "      background-color: #434B5C;\n",
              "      box-shadow: 0px 1px 3px 1px rgba(0, 0, 0, 0.15);\n",
              "      filter: drop-shadow(0px 1px 2px rgba(0, 0, 0, 0.3));\n",
              "      fill: #FFFFFF;\n",
              "    }\n",
              "  </style>\n",
              "\n",
              "    <script>\n",
              "      const buttonEl =\n",
              "        document.querySelector('#df-963e236a-7647-4507-9286-8b65d7913cd7 button.colab-df-convert');\n",
              "      buttonEl.style.display =\n",
              "        google.colab.kernel.accessAllowed ? 'block' : 'none';\n",
              "\n",
              "      async function convertToInteractive(key) {\n",
              "        const element = document.querySelector('#df-963e236a-7647-4507-9286-8b65d7913cd7');\n",
              "        const dataTable =\n",
              "          await google.colab.kernel.invokeFunction('convertToInteractive',\n",
              "                                                    [key], {});\n",
              "        if (!dataTable) return;\n",
              "\n",
              "        const docLinkHtml = 'Like what you see? Visit the ' +\n",
              "          '<a target=\"_blank\" href=https://colab.research.google.com/notebooks/data_table.ipynb>data table notebook</a>'\n",
              "          + ' to learn more about interactive tables.';\n",
              "        element.innerHTML = '';\n",
              "        dataTable['output_type'] = 'display_data';\n",
              "        await google.colab.output.renderOutput(dataTable, element);\n",
              "        const docLink = document.createElement('div');\n",
              "        docLink.innerHTML = docLinkHtml;\n",
              "        element.appendChild(docLink);\n",
              "      }\n",
              "    </script>\n",
              "  </div>\n",
              "\n",
              "\n",
              "<div id=\"df-eae00198-e0c1-41dd-96f7-7e76e72525d4\">\n",
              "  <button class=\"colab-df-quickchart\" onclick=\"quickchart('df-eae00198-e0c1-41dd-96f7-7e76e72525d4')\"\n",
              "            title=\"Suggest charts\"\n",
              "            style=\"display:none;\">\n",
              "\n",
              "<svg xmlns=\"http://www.w3.org/2000/svg\" height=\"24px\"viewBox=\"0 0 24 24\"\n",
              "     width=\"24px\">\n",
              "    <g>\n",
              "        <path d=\"M19 3H5c-1.1 0-2 .9-2 2v14c0 1.1.9 2 2 2h14c1.1 0 2-.9 2-2V5c0-1.1-.9-2-2-2zM9 17H7v-7h2v7zm4 0h-2V7h2v10zm4 0h-2v-4h2v4z\"/>\n",
              "    </g>\n",
              "</svg>\n",
              "  </button>\n",
              "\n",
              "<style>\n",
              "  .colab-df-quickchart {\n",
              "      --bg-color: #E8F0FE;\n",
              "      --fill-color: #1967D2;\n",
              "      --hover-bg-color: #E2EBFA;\n",
              "      --hover-fill-color: #174EA6;\n",
              "      --disabled-fill-color: #AAA;\n",
              "      --disabled-bg-color: #DDD;\n",
              "  }\n",
              "\n",
              "  [theme=dark] .colab-df-quickchart {\n",
              "      --bg-color: #3B4455;\n",
              "      --fill-color: #D2E3FC;\n",
              "      --hover-bg-color: #434B5C;\n",
              "      --hover-fill-color: #FFFFFF;\n",
              "      --disabled-bg-color: #3B4455;\n",
              "      --disabled-fill-color: #666;\n",
              "  }\n",
              "\n",
              "  .colab-df-quickchart {\n",
              "    background-color: var(--bg-color);\n",
              "    border: none;\n",
              "    border-radius: 50%;\n",
              "    cursor: pointer;\n",
              "    display: none;\n",
              "    fill: var(--fill-color);\n",
              "    height: 32px;\n",
              "    padding: 0;\n",
              "    width: 32px;\n",
              "  }\n",
              "\n",
              "  .colab-df-quickchart:hover {\n",
              "    background-color: var(--hover-bg-color);\n",
              "    box-shadow: 0 1px 2px rgba(60, 64, 67, 0.3), 0 1px 3px 1px rgba(60, 64, 67, 0.15);\n",
              "    fill: var(--button-hover-fill-color);\n",
              "  }\n",
              "\n",
              "  .colab-df-quickchart-complete:disabled,\n",
              "  .colab-df-quickchart-complete:disabled:hover {\n",
              "    background-color: var(--disabled-bg-color);\n",
              "    fill: var(--disabled-fill-color);\n",
              "    box-shadow: none;\n",
              "  }\n",
              "\n",
              "  .colab-df-spinner {\n",
              "    border: 2px solid var(--fill-color);\n",
              "    border-color: transparent;\n",
              "    border-bottom-color: var(--fill-color);\n",
              "    animation:\n",
              "      spin 1s steps(1) infinite;\n",
              "  }\n",
              "\n",
              "  @keyframes spin {\n",
              "    0% {\n",
              "      border-color: transparent;\n",
              "      border-bottom-color: var(--fill-color);\n",
              "      border-left-color: var(--fill-color);\n",
              "    }\n",
              "    20% {\n",
              "      border-color: transparent;\n",
              "      border-left-color: var(--fill-color);\n",
              "      border-top-color: var(--fill-color);\n",
              "    }\n",
              "    30% {\n",
              "      border-color: transparent;\n",
              "      border-left-color: var(--fill-color);\n",
              "      border-top-color: var(--fill-color);\n",
              "      border-right-color: var(--fill-color);\n",
              "    }\n",
              "    40% {\n",
              "      border-color: transparent;\n",
              "      border-right-color: var(--fill-color);\n",
              "      border-top-color: var(--fill-color);\n",
              "    }\n",
              "    60% {\n",
              "      border-color: transparent;\n",
              "      border-right-color: var(--fill-color);\n",
              "    }\n",
              "    80% {\n",
              "      border-color: transparent;\n",
              "      border-right-color: var(--fill-color);\n",
              "      border-bottom-color: var(--fill-color);\n",
              "    }\n",
              "    90% {\n",
              "      border-color: transparent;\n",
              "      border-bottom-color: var(--fill-color);\n",
              "    }\n",
              "  }\n",
              "</style>\n",
              "\n",
              "  <script>\n",
              "    async function quickchart(key) {\n",
              "      const quickchartButtonEl =\n",
              "        document.querySelector('#' + key + ' button');\n",
              "      quickchartButtonEl.disabled = true;  // To prevent multiple clicks.\n",
              "      quickchartButtonEl.classList.add('colab-df-spinner');\n",
              "      try {\n",
              "        const charts = await google.colab.kernel.invokeFunction(\n",
              "            'suggestCharts', [key], {});\n",
              "      } catch (error) {\n",
              "        console.error('Error during call to suggestCharts:', error);\n",
              "      }\n",
              "      quickchartButtonEl.classList.remove('colab-df-spinner');\n",
              "      quickchartButtonEl.classList.add('colab-df-quickchart-complete');\n",
              "    }\n",
              "    (() => {\n",
              "      let quickchartButtonEl =\n",
              "        document.querySelector('#df-eae00198-e0c1-41dd-96f7-7e76e72525d4 button');\n",
              "      quickchartButtonEl.style.display =\n",
              "        google.colab.kernel.accessAllowed ? 'block' : 'none';\n",
              "    })();\n",
              "  </script>\n",
              "</div>\n",
              "\n",
              "    </div>\n",
              "  </div>\n"
            ],
            "application/vnd.google.colaboratory.intrinsic+json": {
              "type": "dataframe",
              "variable_name": "df",
              "summary": "{\n  \"name\": \"df\",\n  \"rows\": 5000,\n  \"fields\": [\n    {\n      \"column\": \"Vehicle_Type\",\n      \"properties\": {\n        \"dtype\": \"category\",\n        \"num_unique_values\": 7,\n        \"samples\": [\n          \"Bus \",\n          \"Car\",\n          \"Sedan\"\n        ],\n        \"semantic_type\": \"\",\n        \"description\": \"\"\n      }\n    },\n    {\n      \"column\": \"FastagID\",\n      \"properties\": {\n        \"dtype\": \"string\",\n        \"num_unique_values\": 4451,\n        \"samples\": [\n          \"FTG-580-DEF-850\",\n          \"FTG-083-PQR-333\",\n          \"FTG-125-EDC-765\"\n        ],\n        \"semantic_type\": \"\",\n        \"description\": \"\"\n      }\n    },\n    {\n      \"column\": \"TollBoothID\",\n      \"properties\": {\n        \"dtype\": \"category\",\n        \"num_unique_values\": 6,\n        \"samples\": [\n          \"A-101\",\n          \"B-102\",\n          \"D-106\"\n        ],\n        \"semantic_type\": \"\",\n        \"description\": \"\"\n      }\n    },\n    {\n      \"column\": \"Lane_Type\",\n      \"properties\": {\n        \"dtype\": \"category\",\n        \"num_unique_values\": 2,\n        \"samples\": [\n          \"Regular\",\n          \"Express\"\n        ],\n        \"semantic_type\": \"\",\n        \"description\": \"\"\n      }\n    },\n    {\n      \"column\": \"Vehicle_Dimensions\",\n      \"properties\": {\n        \"dtype\": \"category\",\n        \"num_unique_values\": 3,\n        \"samples\": [\n          \"Large\",\n          \"Small\"\n        ],\n        \"semantic_type\": \"\",\n        \"description\": \"\"\n      }\n    },\n    {\n      \"column\": \"Transaction_Amount\",\n      \"properties\": {\n        \"dtype\": \"number\",\n        \"std\": 112,\n        \"min\": 0,\n        \"max\": 350,\n        \"num_unique_values\": 20,\n        \"samples\": [\n          350,\n          330\n        ],\n        \"semantic_type\": \"\",\n        \"description\": \"\"\n      }\n    },\n    {\n      \"column\": \"Amount_paid\",\n      \"properties\": {\n        \"dtype\": \"number\",\n        \"std\": 106,\n        \"min\": 0,\n        \"max\": 350,\n        \"num_unique_values\": 23,\n        \"samples\": [\n          340,\n          60\n        ],\n        \"semantic_type\": \"\",\n        \"description\": \"\"\n      }\n    },\n    {\n      \"column\": \"Geographical_Location\",\n      \"properties\": {\n        \"dtype\": \"category\",\n        \"num_unique_values\": 5,\n        \"samples\": [\n          \"13.042660878688794, 77.47580097259879\",\n          \"13.21331620748757, 77.55413526894684\"\n        ],\n        \"semantic_type\": \"\",\n        \"description\": \"\"\n      }\n    },\n    {\n      \"column\": \"Vehicle_Speed\",\n      \"properties\": {\n        \"dtype\": \"number\",\n        \"std\": 16,\n        \"min\": 10,\n        \"max\": 118,\n        \"num_unique_values\": 85,\n        \"samples\": [\n          35,\n          65\n        ],\n        \"semantic_type\": \"\",\n        \"description\": \"\"\n      }\n    },\n    {\n      \"column\": \"Vehicle_Plate_Number\",\n      \"properties\": {\n        \"dtype\": \"string\",\n        \"num_unique_values\": 5000,\n        \"samples\": [\n          \"KA05CD5678\",\n          \"KA67LM4267\"\n        ],\n        \"semantic_type\": \"\",\n        \"description\": \"\"\n      }\n    },\n    {\n      \"column\": \"Fraud_indicator\",\n      \"properties\": {\n        \"dtype\": \"category\",\n        \"num_unique_values\": 2,\n        \"samples\": [\n          \"Not Fraud\",\n          \"Fraud\"\n        ],\n        \"semantic_type\": \"\",\n        \"description\": \"\"\n      }\n    },\n    {\n      \"column\": \"longitude\",\n      \"properties\": {\n        \"dtype\": \"number\",\n        \"std\": 0.12499016514016932,\n        \"min\": 12.84197701525119,\n        \"max\": 13.21331620748757,\n        \"num_unique_values\": 5,\n        \"samples\": [\n          13.042660878688794,\n          13.21331620748757\n        ],\n        \"semantic_type\": \"\",\n        \"description\": \"\"\n      }\n    },\n    {\n      \"column\": \"latitude\",\n      \"properties\": {\n        \"dtype\": \"number\",\n        \"std\": 0.10686635319956993,\n        \"min\": 77.47580097259879,\n        \"max\": 77.77068662374292,\n        \"num_unique_values\": 5,\n        \"samples\": [\n          77.47580097259879,\n          77.55413526894684\n        ],\n        \"semantic_type\": \"\",\n        \"description\": \"\"\n      }\n    }\n  ]\n}"
            }
          },
          "metadata": {},
          "execution_count": 16
        }
      ]
    },
    {
      "cell_type": "code",
      "source": [
        "df.drop((\"Geographical_Location\"), axis=1, inplace=True)"
      ],
      "metadata": {
        "execution": {
          "iopub.status.busy": "2024-07-18T05:04:28.849585Z",
          "iopub.execute_input": "2024-07-18T05:04:28.850105Z",
          "iopub.status.idle": "2024-07-18T05:04:28.860145Z",
          "shell.execute_reply.started": "2024-07-18T05:04:28.850068Z",
          "shell.execute_reply": "2024-07-18T05:04:28.858236Z"
        },
        "trusted": true,
        "id": "WyVNiVarXdzl"
      },
      "execution_count": null,
      "outputs": []
    },
    {
      "cell_type": "code",
      "source": [
        "(categorical_columns:=df.select_dtypes(exclude=\"number\").columns)"
      ],
      "metadata": {
        "execution": {
          "iopub.status.busy": "2024-07-18T05:04:53.495708Z",
          "iopub.execute_input": "2024-07-18T05:04:53.496256Z",
          "iopub.status.idle": "2024-07-18T05:04:53.508533Z",
          "shell.execute_reply.started": "2024-07-18T05:04:53.496183Z",
          "shell.execute_reply": "2024-07-18T05:04:53.506801Z"
        },
        "trusted": true,
        "id": "7ARr4mGRXdzl",
        "outputId": "984f2ea5-5b58-496c-8576-bcbf5f722f0b",
        "colab": {
          "base_uri": "https://localhost:8080/"
        }
      },
      "execution_count": null,
      "outputs": [
        {
          "output_type": "execute_result",
          "data": {
            "text/plain": [
              "Index(['Vehicle_Type', 'FastagID', 'TollBoothID', 'Lane_Type',\n",
              "       'Vehicle_Dimensions', 'Vehicle_Plate_Number', 'Fraud_indicator'],\n",
              "      dtype='object')"
            ]
          },
          "metadata": {},
          "execution_count": 18
        }
      ]
    },
    {
      "cell_type": "code",
      "source": [
        "#drop NAN values\n",
        "df.dropna(inplace=True)"
      ],
      "metadata": {
        "execution": {
          "iopub.status.busy": "2024-07-18T05:05:46.067648Z",
          "iopub.execute_input": "2024-07-18T05:05:46.068523Z",
          "iopub.status.idle": "2024-07-18T05:05:46.083489Z",
          "shell.execute_reply.started": "2024-07-18T05:05:46.068479Z",
          "shell.execute_reply": "2024-07-18T05:05:46.081478Z"
        },
        "trusted": true,
        "id": "Zfm6SIBYXdzm"
      },
      "execution_count": null,
      "outputs": []
    },
    {
      "cell_type": "code",
      "source": [
        "df.shape"
      ],
      "metadata": {
        "execution": {
          "iopub.status.busy": "2024-07-18T05:05:57.944794Z",
          "iopub.execute_input": "2024-07-18T05:05:57.945258Z",
          "iopub.status.idle": "2024-07-18T05:05:57.954043Z",
          "shell.execute_reply.started": "2024-07-18T05:05:57.945225Z",
          "shell.execute_reply": "2024-07-18T05:05:57.952596Z"
        },
        "trusted": true,
        "id": "5103JogFXdzm",
        "outputId": "75800d69-8beb-4ba1-8937-644c68a47805",
        "colab": {
          "base_uri": "https://localhost:8080/"
        }
      },
      "execution_count": null,
      "outputs": [
        {
          "output_type": "execute_result",
          "data": {
            "text/plain": [
              "(4451, 12)"
            ]
          },
          "metadata": {},
          "execution_count": 20
        }
      ]
    },
    {
      "cell_type": "code",
      "source": [
        "encoder = LabelEncoder()\n",
        "for col in categorical_columns:\n",
        "    df[col] = encoder.fit_transform(df[col])"
      ],
      "metadata": {
        "execution": {
          "iopub.status.busy": "2024-07-18T05:08:30.876111Z",
          "iopub.execute_input": "2024-07-18T05:08:30.877347Z",
          "iopub.status.idle": "2024-07-18T05:08:30.925505Z",
          "shell.execute_reply.started": "2024-07-18T05:08:30.877304Z",
          "shell.execute_reply": "2024-07-18T05:08:30.923665Z"
        },
        "trusted": true,
        "id": "sOPQyOVmXdzm"
      },
      "execution_count": null,
      "outputs": []
    },
    {
      "cell_type": "code",
      "source": [
        "df.select_dtypes(exclude=\"number\").columns"
      ],
      "metadata": {
        "execution": {
          "iopub.status.busy": "2024-07-18T05:08:52.117454Z",
          "iopub.execute_input": "2024-07-18T05:08:52.118009Z",
          "iopub.status.idle": "2024-07-18T05:08:52.130251Z",
          "shell.execute_reply.started": "2024-07-18T05:08:52.117971Z",
          "shell.execute_reply": "2024-07-18T05:08:52.128307Z"
        },
        "trusted": true,
        "id": "_9yZLizGXdzm",
        "outputId": "70c04b43-fa3c-414c-8bb3-1765ec0f95df",
        "colab": {
          "base_uri": "https://localhost:8080/"
        }
      },
      "execution_count": null,
      "outputs": [
        {
          "output_type": "execute_result",
          "data": {
            "text/plain": [
              "Index([], dtype='object')"
            ]
          },
          "metadata": {},
          "execution_count": 22
        }
      ]
    },
    {
      "cell_type": "markdown",
      "source": [
        "as we can see there is no string categorical data in the dataset we all convert into +ve integer"
      ],
      "metadata": {
        "id": "iZGcG9RlXdzm"
      }
    },
    {
      "cell_type": "code",
      "source": [
        "# Data split into training and testing set\n",
        "X = df.drop(\"Fraud_indicator\", axis=1)\n",
        "y = df[\"Fraud_indicator\"]\n",
        "\n",
        "X_train, X_test, y_train, y_test = train_test_split(X, y, test_size=0.15,\n",
        "                                                    random_state=42, stratify=y)"
      ],
      "metadata": {
        "execution": {
          "iopub.status.busy": "2024-07-18T05:11:50.996246Z",
          "iopub.execute_input": "2024-07-18T05:11:50.996692Z",
          "iopub.status.idle": "2024-07-18T05:11:51.016153Z",
          "shell.execute_reply.started": "2024-07-18T05:11:50.99666Z",
          "shell.execute_reply": "2024-07-18T05:11:51.014789Z"
        },
        "trusted": true,
        "id": "MNW0Y4HyXdzo"
      },
      "execution_count": null,
      "outputs": []
    },
    {
      "cell_type": "code",
      "source": [
        "print(f\"X_train shape: {X_train.shape}\")\n",
        "print(f\"X_test shape: {X_test.shape}\")\n",
        "print(f\"y_train shape: {y_train.shape}\")\n",
        "print(f\"y_test shape: {y_test.shape}\")"
      ],
      "metadata": {
        "execution": {
          "iopub.status.busy": "2024-07-18T05:12:02.715949Z",
          "iopub.execute_input": "2024-07-18T05:12:02.717048Z",
          "iopub.status.idle": "2024-07-18T05:12:02.725071Z",
          "shell.execute_reply.started": "2024-07-18T05:12:02.717005Z",
          "shell.execute_reply": "2024-07-18T05:12:02.723317Z"
        },
        "trusted": true,
        "id": "rn2_hukkXdzp",
        "outputId": "969bc267-e530-43de-d3c5-053f342e5b43",
        "colab": {
          "base_uri": "https://localhost:8080/"
        }
      },
      "execution_count": null,
      "outputs": [
        {
          "output_type": "stream",
          "name": "stdout",
          "text": [
            "X_train shape: (3783, 11)\n",
            "X_test shape: (668, 11)\n",
            "y_train shape: (3783,)\n",
            "y_test shape: (668,)\n"
          ]
        }
      ]
    },
    {
      "cell_type": "code",
      "source": [
        "# Standardize Features (Important):\n",
        "scaler = StandardScaler()\n",
        "X_train_scaled = scaler.fit_transform(X_train)  # Fit and transform training data\n",
        "X_test_scaled = scaler.transform(X_test)"
      ],
      "metadata": {
        "execution": {
          "iopub.status.busy": "2024-07-18T05:15:06.179624Z",
          "iopub.execute_input": "2024-07-18T05:15:06.180046Z",
          "iopub.status.idle": "2024-07-18T05:15:06.196361Z",
          "shell.execute_reply.started": "2024-07-18T05:15:06.180016Z",
          "shell.execute_reply": "2024-07-18T05:15:06.194779Z"
        },
        "trusted": true,
        "id": "ox_GPiLiXdzq"
      },
      "execution_count": null,
      "outputs": []
    },
    {
      "cell_type": "code",
      "source": [
        "X_train_scaled\n"
      ],
      "metadata": {
        "execution": {
          "iopub.status.busy": "2024-07-18T05:16:04.085302Z",
          "iopub.execute_input": "2024-07-18T05:16:04.085839Z",
          "iopub.status.idle": "2024-07-18T05:16:04.096238Z",
          "shell.execute_reply.started": "2024-07-18T05:16:04.085795Z",
          "shell.execute_reply": "2024-07-18T05:16:04.09458Z"
        },
        "trusted": true,
        "id": "WnQ1qCVaXdzq",
        "outputId": "9effaa5e-1231-45b0-c201-03a0b2fddb12",
        "colab": {
          "base_uri": "https://localhost:8080/"
        }
      },
      "execution_count": null,
      "outputs": [
        {
          "output_type": "execute_result",
          "data": {
            "text/plain": [
              "array([[ 1.38726796,  1.33928672, -0.08990135, ...,  1.16444834,\n",
              "         0.21288352, -1.18637005],\n",
              "       [ 0.91103977, -0.13349032,  1.0325304 , ..., -1.2617306 ,\n",
              "        -1.37738418,  0.70773137],\n",
              "       [-0.51764481,  0.10666172,  2.15496216, ..., -0.09772567,\n",
              "        -0.62687898, -0.66142869],\n",
              "       ...,\n",
              "       [ 0.91103977, -0.51897708,  1.0325304 , ..., -1.4432655 ,\n",
              "         1.56519782, -0.44329448],\n",
              "       [-0.04141662, -0.20732347, -0.08990135, ...,  1.27664158,\n",
              "         1.56519782, -0.44329448],\n",
              "       [-0.99387301, -0.93088834, -1.21233311, ..., -1.34821289,\n",
              "        -0.62687898, -0.66142869]])"
            ]
          },
          "metadata": {},
          "execution_count": 26
        }
      ]
    },
    {
      "cell_type": "markdown",
      "source": [
        "# APPLY PCA"
      ],
      "metadata": {
        "id": "8Grffjp8Xdzq"
      }
    },
    {
      "cell_type": "code",
      "source": [
        "pca = PCA(n_components=None)\n",
        "X_train_pca = pca.fit_transform(X_train_scaled)  # Fit on training data and transform\n",
        "X_test_pca = pca.transform(X_test_scaled)"
      ],
      "metadata": {
        "execution": {
          "iopub.status.busy": "2024-07-18T05:16:19.795863Z",
          "iopub.execute_input": "2024-07-18T05:16:19.796496Z",
          "iopub.status.idle": "2024-07-18T05:16:19.834109Z",
          "shell.execute_reply.started": "2024-07-18T05:16:19.796449Z",
          "shell.execute_reply": "2024-07-18T05:16:19.83223Z"
        },
        "trusted": true,
        "id": "TVY-P5LWXdzr"
      },
      "execution_count": null,
      "outputs": []
    },
    {
      "cell_type": "code",
      "source": [
        "X_train_pca"
      ],
      "metadata": {
        "execution": {
          "iopub.status.busy": "2024-07-18T05:16:41.075742Z",
          "iopub.execute_input": "2024-07-18T05:16:41.076191Z",
          "iopub.status.idle": "2024-07-18T05:16:41.086416Z",
          "shell.execute_reply.started": "2024-07-18T05:16:41.076155Z",
          "shell.execute_reply": "2024-07-18T05:16:41.084791Z"
        },
        "trusted": true,
        "id": "5Fwzf8koXdzr",
        "outputId": "1f0e5712-4a94-46a3-c1b6-af07f916231e",
        "colab": {
          "base_uri": "https://localhost:8080/"
        }
      },
      "execution_count": null,
      "outputs": [
        {
          "output_type": "execute_result",
          "data": {
            "text/plain": [
              "array([[-1.11866478,  0.86066202, -1.64350023, ...,  1.08018895,\n",
              "        -0.09598683,  0.08784793],\n",
              "       [ 1.47328916, -1.3537436 , -0.05779841, ..., -0.31536961,\n",
              "         0.7358091 ,  1.13728146],\n",
              "       [-1.73052743, -0.50738406, -1.25384648, ..., -0.64798008,\n",
              "        -0.63152251, -0.38114496],\n",
              "       ...,\n",
              "       [ 2.60325426, -1.25691849, -1.12541161, ..., -0.20046441,\n",
              "        -0.74993883,  0.11828493],\n",
              "       [ 0.1639511 , -0.78677424, -0.97923133, ...,  0.01630488,\n",
              "         0.8105065 , -0.54042731],\n",
              "       [-2.32461238,  0.61962527,  0.87849064, ..., -0.77170935,\n",
              "        -0.55789077,  0.14651652]])"
            ]
          },
          "metadata": {},
          "execution_count": 28
        }
      ]
    },
    {
      "cell_type": "code",
      "source": [
        "print(pca.explained_variance_ratio_)"
      ],
      "metadata": {
        "execution": {
          "iopub.status.busy": "2024-07-18T05:17:20.13531Z",
          "iopub.execute_input": "2024-07-18T05:17:20.136375Z",
          "iopub.status.idle": "2024-07-18T05:17:20.143845Z",
          "shell.execute_reply.started": "2024-07-18T05:17:20.136337Z",
          "shell.execute_reply": "2024-07-18T05:17:20.142335Z"
        },
        "trusted": true,
        "id": "yAOMX70tXdzr",
        "outputId": "734e5b9c-b269-4711-9523-e544772eb879",
        "colab": {
          "base_uri": "https://localhost:8080/"
        }
      },
      "execution_count": null,
      "outputs": [
        {
          "output_type": "stream",
          "name": "stdout",
          "text": [
            "[0.27248345 0.1468282  0.11474012 0.10203775 0.09391433 0.09011806\n",
            " 0.06387614 0.04379545 0.0343042  0.02684218 0.01106011]\n"
          ]
        }
      ]
    },
    {
      "cell_type": "code",
      "source": [
        "pca = PCA(n_components=3)\n",
        "X_train_pca = pca.fit_transform(X_train_scaled)\n",
        "X_test_pca = pca.transform(X_test_scaled)"
      ],
      "metadata": {
        "execution": {
          "iopub.status.busy": "2024-07-18T05:21:23.813236Z",
          "iopub.execute_input": "2024-07-18T05:21:23.813742Z",
          "iopub.status.idle": "2024-07-18T05:21:23.856109Z",
          "shell.execute_reply.started": "2024-07-18T05:21:23.813703Z",
          "shell.execute_reply": "2024-07-18T05:21:23.853162Z"
        },
        "trusted": true,
        "id": "xroI6-3CXdzs"
      },
      "execution_count": null,
      "outputs": []
    },
    {
      "cell_type": "code",
      "source": [
        "X_train_pca"
      ],
      "metadata": {
        "execution": {
          "iopub.status.busy": "2024-07-18T05:21:37.456337Z",
          "iopub.execute_input": "2024-07-18T05:21:37.456776Z",
          "iopub.status.idle": "2024-07-18T05:21:37.467063Z",
          "shell.execute_reply.started": "2024-07-18T05:21:37.456745Z",
          "shell.execute_reply": "2024-07-18T05:21:37.465324Z"
        },
        "trusted": true,
        "id": "HAwJ1rgLXdzs",
        "outputId": "fd77555e-8138-4641-b301-b9c3d8cecf19",
        "colab": {
          "base_uri": "https://localhost:8080/"
        }
      },
      "execution_count": null,
      "outputs": [
        {
          "output_type": "execute_result",
          "data": {
            "text/plain": [
              "array([[-1.11866478,  0.86066202, -1.64350023],\n",
              "       [ 1.47328916, -1.3537436 , -0.05779841],\n",
              "       [-1.73052743, -0.50738406, -1.25384648],\n",
              "       ...,\n",
              "       [ 2.60325426, -1.25691849, -1.12541161],\n",
              "       [ 0.1639511 , -0.78677424, -0.97923133],\n",
              "       [-2.32461238,  0.61962527,  0.87849064]])"
            ]
          },
          "metadata": {},
          "execution_count": 31
        }
      ]
    },
    {
      "cell_type": "code",
      "source": [
        "from mpl_toolkits.mplot3d import Axes3D\n",
        "\n",
        "fig = plt.figure()\n",
        "ax = fig.add_subplot(111, projection='3d')\n",
        "ax.scatter(X_train_pca[:, 0], X_train_pca[:, 1], X_train_pca[:, 2])  # Plot PC1 vs. PC2 vs. PC3\n",
        "\n",
        "ax.set_xlabel('Principal Component 1')\n",
        "ax.set_ylabel('Principal Component 2')\n",
        "ax.set_zlabel('Principal Component 3')\n",
        "plt.title('PCA Scatter Plot (3D)')\n",
        "plt.show()\n"
      ],
      "metadata": {
        "execution": {
          "iopub.status.busy": "2024-07-18T05:33:17.64761Z",
          "iopub.execute_input": "2024-07-18T05:33:17.648052Z",
          "iopub.status.idle": "2024-07-18T05:33:17.985594Z",
          "shell.execute_reply.started": "2024-07-18T05:33:17.648018Z",
          "shell.execute_reply": "2024-07-18T05:33:17.984112Z"
        },
        "trusted": true,
        "id": "KpMZNXkHXdzs",
        "outputId": "0afaf636-fc07-46a9-945f-22c0d3aceac1",
        "colab": {
          "base_uri": "https://localhost:8080/",
          "height": 437
        }
      },
      "execution_count": null,
      "outputs": [
        {
          "output_type": "display_data",
          "data": {
            "text/plain": [
              "<Figure size 640x480 with 1 Axes>"
            ],
            "image/png": "[encoded data removed]"
          },
          "metadata": {}
        }
      ]
    },
    {
      "cell_type": "code",
      "source": [
        "from lightgbm import LGBMClassifier\n",
        "\n",
        "from sklearn.metrics import accuracy_score, jaccard_score, confusion_matrix,classification_report\n"
      ],
      "metadata": {
        "execution": {
          "iopub.status.busy": "2024-07-18T05:34:26.909666Z",
          "iopub.execute_input": "2024-07-18T05:34:26.910106Z",
          "iopub.status.idle": "2024-07-18T05:34:28.338731Z",
          "shell.execute_reply.started": "2024-07-18T05:34:26.910074Z",
          "shell.execute_reply": "2024-07-18T05:34:28.33705Z"
        },
        "trusted": true,
        "id": "cCUU5hOkXdzs"
      },
      "execution_count": null,
      "outputs": []
    },
    {
      "cell_type": "code",
      "source": [
        "classifier = LGBMClassifier()\n",
        "classifier.fit(X_train_pca, y_train)\n",
        "y_pred = classifier.predict(X_test_pca)"
      ],
      "metadata": {
        "execution": {
          "iopub.status.busy": "2024-07-18T05:34:48.127186Z",
          "iopub.execute_input": "2024-07-18T05:34:48.128266Z",
          "iopub.status.idle": "2024-07-18T05:34:48.619282Z",
          "shell.execute_reply.started": "2024-07-18T05:34:48.128213Z",
          "shell.execute_reply": "2024-07-18T05:34:48.618078Z"
        },
        "trusted": true,
        "id": "swwnPeDfXdzs",
        "outputId": "b4b15867-8c8a-4b05-8f48-5700b9dee2ac",
        "colab": {
          "base_uri": "https://localhost:8080/"
        }
      },
      "execution_count": null,
      "outputs": [
        {
          "output_type": "stream",
          "name": "stdout",
          "text": [
            "[LightGBM] [Info] Number of positive: 2948, number of negative: 835\n",
            "[LightGBM] [Info] Auto-choosing col-wise multi-threading, the overhead of testing was 0.000282 seconds.\n",
            "You can set `force_col_wise=true` to remove the overhead.\n",
            "[LightGBM] [Info] Total Bins 765\n",
            "[LightGBM] [Info] Number of data points in the train set: 3783, number of used features: 3\n",
            "[LightGBM] [Info] [binary:BoostFromScore]: pavg=0.779276 -> initscore=1.261451\n",
            "[LightGBM] [Info] Start training from score 1.261451\n"
          ]
        }
      ]
    },
    {
      "cell_type": "code",
      "source": [
        "y_pred[0:5]"
      ],
      "metadata": {
        "execution": {
          "iopub.status.busy": "2024-07-18T05:35:03.894387Z",
          "iopub.execute_input": "2024-07-18T05:35:03.89557Z",
          "iopub.status.idle": "2024-07-18T05:35:03.904531Z",
          "shell.execute_reply.started": "2024-07-18T05:35:03.895526Z",
          "shell.execute_reply": "2024-07-18T05:35:03.903058Z"
        },
        "trusted": true,
        "id": "DlVn3oZ-Xdzt",
        "outputId": "920a88d2-60e9-47d6-f17b-a6f8e862d017",
        "colab": {
          "base_uri": "https://localhost:8080/"
        }
      },
      "execution_count": null,
      "outputs": [
        {
          "output_type": "execute_result",
          "data": {
            "text/plain": [
              "array([1, 1, 1, 0, 1])"
            ]
          },
          "metadata": {},
          "execution_count": 35
        }
      ]
    },
    {
      "cell_type": "code",
      "source": [
        "round(accuracy_score(y_test, y_pred),4)"
      ],
      "metadata": {
        "execution": {
          "iopub.status.busy": "2024-07-18T05:37:52.656587Z",
          "iopub.execute_input": "2024-07-18T05:37:52.657031Z",
          "iopub.status.idle": "2024-07-18T05:37:52.670391Z",
          "shell.execute_reply.started": "2024-07-18T05:37:52.656999Z",
          "shell.execute_reply": "2024-07-18T05:37:52.668771Z"
        },
        "trusted": true,
        "id": "Nz98s4HRXdzt",
        "outputId": "4e9a922c-1ce4-4f22-9178-5fe5a9403d66",
        "colab": {
          "base_uri": "https://localhost:8080/"
        }
      },
      "execution_count": null,
      "outputs": [
        {
          "output_type": "execute_result",
          "data": {
            "text/plain": [
              "0.9057"
            ]
          },
          "metadata": {},
          "execution_count": 36
        }
      ]
    },
    {
      "cell_type": "code",
      "source": [
        "round(jaccard_score(y_test, y_pred, pos_label=1),4)"
      ],
      "metadata": {
        "execution": {
          "iopub.status.busy": "2024-07-18T05:38:13.223314Z",
          "iopub.execute_input": "2024-07-18T05:38:13.223766Z",
          "iopub.status.idle": "2024-07-18T05:38:13.244333Z",
          "shell.execute_reply.started": "2024-07-18T05:38:13.223732Z",
          "shell.execute_reply": "2024-07-18T05:38:13.242458Z"
        },
        "trusted": true,
        "id": "1D8WdxVFXdzt",
        "outputId": "3a2c4d9a-7ea8-4666-ce70-bdb131fdece3",
        "colab": {
          "base_uri": "https://localhost:8080/"
        }
      },
      "execution_count": null,
      "outputs": [
        {
          "output_type": "execute_result",
          "data": {
            "text/plain": [
              "0.8893"
            ]
          },
          "metadata": {},
          "execution_count": 37
        }
      ]
    },
    {
      "cell_type": "code",
      "source": [
        "confusion_matrix(y_test, y_pred)"
      ],
      "metadata": {
        "execution": {
          "iopub.status.busy": "2024-07-18T05:38:34.338355Z",
          "iopub.execute_input": "2024-07-18T05:38:34.338783Z",
          "iopub.status.idle": "2024-07-18T05:38:34.351468Z",
          "shell.execute_reply.started": "2024-07-18T05:38:34.338749Z",
          "shell.execute_reply": "2024-07-18T05:38:34.349614Z"
        },
        "trusted": true,
        "id": "rTnuM4HfXdzy",
        "outputId": "ef4a52c6-ea07-4ac3-d3ac-1ae6d16bf673",
        "colab": {
          "base_uri": "https://localhost:8080/"
        }
      },
      "execution_count": null,
      "outputs": [
        {
          "output_type": "execute_result",
          "data": {
            "text/plain": [
              "array([[ 99,  49],\n",
              "       [ 14, 506]])"
            ]
          },
          "metadata": {},
          "execution_count": 38
        }
      ]
    },
    {
      "cell_type": "code",
      "source": [
        "# Calculate the confusion matrix\n",
        "cm = confusion_matrix(y_test, y_pred)\n",
        "# Create figure and axes\n",
        "fig, ax = plt.subplots(figsize=(8, 6))\n",
        "# Plot confusion matrix as an image\n",
        "im = ax.imshow(cm, interpolation='nearest', cmap=plt.cm.Blues)\n",
        "ax.figure.colorbar(im, ax=ax)\n",
        "\n",
        "# Set title and labels\n",
        "ax.set(xticks=np.arange(cm.shape[1]),\n",
        "       yticks=np.arange(cm.shape[0]),\n",
        "       xticklabels=['Class 0', 'Class 1'], yticklabels=['Class 0', 'Class 1'],\n",
        "       title='Confusion Matrix',\n",
        "       ylabel='True label',\n",
        "       xlabel='Predicted label')\n",
        "\n",
        "# Rotate the tick labels and set their alignment.\n",
        "plt.setp(ax.get_xticklabels(), rotation=45, ha=\"right\",\n",
        "         rotation_mode=\"anchor\")\n",
        "\n",
        "# Loop over data dimensions and create text annotations.\n",
        "thresh = cm.max() / 2.\n",
        "for i in range(cm.shape[0]):\n",
        "    for j in range(cm.shape[1]):\n",
        "        ax.text(j, i, format(cm[i, j], 'd'),\n",
        "                ha=\"center\", va=\"center\",\n",
        "                color=\"white\" if cm[i, j] > thresh else \"black\")\n",
        "plt.tight_layout()\n",
        "plt.show()"
      ],
      "metadata": {
        "execution": {
          "iopub.status.busy": "2024-07-18T05:39:46.999243Z",
          "iopub.execute_input": "2024-07-18T05:39:46.9997Z",
          "iopub.status.idle": "2024-07-18T05:39:47.403231Z",
          "shell.execute_reply.started": "2024-07-18T05:39:46.999667Z",
          "shell.execute_reply": "2024-07-18T05:39:47.401629Z"
        },
        "trusted": true,
        "id": "QWkxUoceXdzz",
        "outputId": "46879d80-3e94-4ba9-ae23-1db81dde1949",
        "colab": {
          "base_uri": "https://localhost:8080/",
          "height": 607
        }
      },
      "execution_count": null,
      "outputs": [
        {
          "output_type": "display_data",
          "data": {
            "text/plain": [
              "<Figure size 800x600 with 2 Axes>"
            ],
            "image/png": "[encoded data removed]"
          },
          "metadata": {}
        }
      ]
    },
    {
      "cell_type": "code",
      "source": [
        "print(classification_report(y_test, y_pred))"
      ],
      "metadata": {
        "execution": {
          "iopub.status.busy": "2024-07-18T05:40:37.906878Z",
          "iopub.execute_input": "2024-07-18T05:40:37.908535Z",
          "iopub.status.idle": "2024-07-18T05:40:37.926934Z",
          "shell.execute_reply.started": "2024-07-18T05:40:37.908489Z",
          "shell.execute_reply": "2024-07-18T05:40:37.924926Z"
        },
        "trusted": true,
        "id": "vkUjwtM2Xdzz",
        "outputId": "4170033c-b5b5-4e3a-bdc1-36dfcd2677c7",
        "colab": {
          "base_uri": "https://localhost:8080/"
        }
      },
      "execution_count": null,
      "outputs": [
        {
          "output_type": "stream",
          "name": "stdout",
          "text": [
            "              precision    recall  f1-score   support\n",
            "\n",
            "           0       0.88      0.67      0.76       148\n",
            "           1       0.91      0.97      0.94       520\n",
            "\n",
            "    accuracy                           0.91       668\n",
            "   macro avg       0.89      0.82      0.85       668\n",
            "weighted avg       0.90      0.91      0.90       668\n",
            "\n"
          ]
        }
      ]
    },
    {
      "cell_type": "code",
      "source": [],
      "metadata": {
        "id": "EA-wkUxMXdzz"
      },
      "execution_count": null,
      "outputs": []
    },
    {
      "cell_type": "markdown",
      "source": [
        "# Question No 2\n",
        "Discuss the data integration process, with an emphasis on the problems and solutions for merging data from diverse sources. Explain the principle of multimodal data and how combining several forms of data (for example, text, images, and numerical data) can improve the performance of a machine learning model. Give examples of situations in which the integration of multimodal data can result in substantial enhancements in the accuracy and generalization of the model.\n",
        "\n",
        "**ANSWER**"
      ],
      "metadata": {
        "id": "5n_fyrCTZfdb"
      }
    },
    {
      "cell_type": "markdown",
      "source": [
        "**Data Integration Process:**\n",
        "\n",
        "* Data Collection\n",
        "* Data Understanding\n",
        "* Data Cleaning and Preprocessing\n",
        "* Schema Integration\n",
        "* Data Transformation and Loading (ETL)\n",
        "\n",
        "**Problems and Solutions**\n",
        "\n",
        "There are a number of strategies that can be used to overcome the difficulties in data integration. First off, when working with various data formats, converting data to a common format such as CSV or JSON makes the merging process easier. Secondly, structural disparities are resolved by mapping similar attributes from several sources to a single schema. Thirdly, uniform interpretation is ensured by developing a shared ontology and language, which reduces semantic disparities. Thorough data cleansing also resolves concerns with data quality by removing duplicates, inconsistencies, and errors. Ensuring the security of sensitive data during integration is achieved by using appropriate measures. Finally, employing scalable infrastructures and tools for data integration guarantees effective management of substantial data quantities, facilitating smooth integration and analysis.\n",
        "\n",
        "\n",
        "**How Combining Multimodal Data Enhances Machine Learning Models:**\n",
        "\n",
        "\n",
        "* Improved Accuracy\n",
        "* Better Generalization\n",
        "* Robustness to Noise\n",
        "* Novel Insights: Combining multimodal data can reveal hidden patterns and relationships that would be missed with single-modality analysis.\n",
        "\n",
        "#### Examples of Multimodal Data Integration\n",
        "\n",
        "* Sentiment Analysis: Combining text and audio data (tone of voice, intonation) can improve sentiment analysis accuracy.\n",
        "* Medical Diagnosis: Integrating medical images, clinical reports, and patient data can lead to more accurate diagnoses and treatment plans.\n",
        "* Autonomous Vehicles: Combining sensor data (LiDAR, radar, camera) with maps and GPS data enhances the perception and decision-making capabilities of self-driving cars."
      ],
      "metadata": {
        "id": "5Duu3jwxZ41o"
      }
    },
    {
      "cell_type": "code",
      "source": [],
      "metadata": {
        "id": "QcCHjYBnZ4W-"
      },
      "execution_count": null,
      "outputs": []
    },
    {
      "cell_type": "code",
      "source": [],
      "metadata": {
        "id": "sYfEH_63Zihr"
      },
      "execution_count": null,
      "outputs": []
    }
  ]
}